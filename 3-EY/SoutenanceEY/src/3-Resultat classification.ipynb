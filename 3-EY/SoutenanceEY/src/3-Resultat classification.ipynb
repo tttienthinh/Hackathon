{
 "cells": [
  {
   "cell_type": "markdown",
   "id": "bad03fea",
   "metadata": {},
   "source": [
    "# Présentation"
   ]
  },
  {
   "cell_type": "markdown",
   "id": "19987d4e",
   "metadata": {},
   "source": [
    "Ce code permet de générer le `csv` de soumission à partir du modèle de classification"
   ]
  },
  {
   "cell_type": "markdown",
   "id": "08d5113b",
   "metadata": {},
   "source": [
    "# Importation"
   ]
  },
  {
   "cell_type": "code",
   "execution_count": 1,
   "id": "82f4e72c",
   "metadata": {},
   "outputs": [],
   "source": [
    "from tensorflow.keras.models import load_model\n",
    "from tensorflow.keras.utils import pad_sequences\n",
    "\n",
    "\n",
    "import numpy as np\n",
    "import pandas as pd\n",
    "from datetime import datetime, timedelta\n",
    "\n",
    "# Notebook\n",
    "from IPython.display import clear_output\n",
    "clear_output()"
   ]
  },
  {
   "cell_type": "markdown",
   "id": "e23162ce",
   "metadata": {},
   "source": [
    "# Importation des données"
   ]
  },
  {
   "cell_type": "code",
   "execution_count": 2,
   "id": "6dfa9ce9",
   "metadata": {},
   "outputs": [],
   "source": [
    "dateparse = lambda x: datetime.strptime(x, '%d-%m-%Y')\n",
    "df = pd.read_csv(\"Challenge_2_submission_template.csv\", parse_dates=['Date of Harvest'], date_parser=dateparse)"
   ]
  },
  {
   "cell_type": "code",
   "execution_count": 3,
   "id": "701569bf",
   "metadata": {},
   "outputs": [],
   "source": [
    "borne = [\n",
    "    (-0.0440750, 1.1379025),\n",
    "    (-0.0215250, 1.1155175),\n",
    "    (-0.1473925, 1.13914),\n",
    "    (0.04604250, 1.2140225),\n",
    "    (21762.0000, 56916.0),\n",
    "    (293.0, 48423.0)\n",
    "]\n",
    "mini = np.array([\n",
    "    -0.0440750,\n",
    "    -0.0215250,\n",
    "    -0.1473925,\n",
    "    0.04604250,\n",
    "    21762.0000,\n",
    "    293.0,\n",
    "])\n",
    "multi = np.array([\n",
    "    1.1819775, \n",
    "    1.1370425, \n",
    "    1.2865325, \n",
    "    1.16798, \n",
    "    35154.0, \n",
    "    48130.0\n",
    "])"
   ]
  },
  {
   "cell_type": "code",
   "execution_count": 4,
   "id": "59f7ae0f",
   "metadata": {},
   "outputs": [],
   "source": [
    "x = []\n",
    "for i in range(len(df)):\n",
    "    with open(f\"inputs_lstm_val/{i}.npy\", \"rb\") as f:\n",
    "        arr = np.load(f)\n",
    "        arr = np.transpose(arr, (0, 2, 3, 1))\n",
    "        arr = (arr-mini)/multi\n",
    "        x.append(arr)\n",
    "\n",
    "x = pad_sequences(x, dtype=\"float\", maxlen=32)"
   ]
  },
  {
   "cell_type": "markdown",
   "id": "495a6fc3",
   "metadata": {},
   "source": [
    "# Prédiction"
   ]
  },
  {
   "cell_type": "markdown",
   "id": "628815e6",
   "metadata": {},
   "source": [
    "## Importation du modèle entraîné"
   ]
  },
  {
   "cell_type": "code",
   "execution_count": 5,
   "id": "c4e1a949",
   "metadata": {},
   "outputs": [
    {
     "name": "stdout",
     "output_type": "stream",
     "text": [
      "Model: \"sequential\"\n",
      "_________________________________________________________________\n",
      " Layer (type)                Output Shape              Param #   \n",
      "=================================================================\n",
      " conv_lstm2d (ConvLSTM2D)    (None, 98, 98, 3)         984       \n",
      "                                                                 \n",
      " resnet50 (Functional)       (None, 4, 4, 2048)        23587712  \n",
      "                                                                 \n",
      " max_pooling2d (MaxPooling2D  (None, 2, 2, 2048)       0         \n",
      " )                                                               \n",
      "                                                                 \n",
      " flatten (Flatten)           (None, 8192)              0         \n",
      "                                                                 \n",
      " dense (Dense)               (None, 32)                262176    \n",
      "                                                                 \n",
      " dense_1 (Dense)             (None, 16)                528       \n",
      "                                                                 \n",
      " dropout (Dropout)           (None, 16)                0         \n",
      "                                                                 \n",
      " dense_2 (Dense)             (None, 2)                 34        \n",
      "                                                                 \n",
      "=================================================================\n",
      "Total params: 23,851,434\n",
      "Trainable params: 263,722\n",
      "Non-trainable params: 23,587,712\n",
      "_________________________________________________________________\n"
     ]
    }
   ],
   "source": [
    "model = load_model(\"models_finaux/classification/14-1.00.h5\")\n",
    "clear_output()\n",
    "model.summary()"
   ]
  },
  {
   "cell_type": "code",
   "execution_count": 6,
   "id": "39ba1013",
   "metadata": {},
   "outputs": [
    {
     "name": "stderr",
     "output_type": "stream",
     "text": [
      "2023-05-11 11:15:59.246355: W tensorflow/tsl/framework/cpu_allocator_impl.cc:82] Allocation of 768000000 exceeds 10% of free system memory.\n"
     ]
    },
    {
     "name": "stdout",
     "output_type": "stream",
     "text": [
      "4/4 [==============================] - 12s 2s/step\n"
     ]
    }
   ],
   "source": [
    "y = model.predict(x).argmax(axis=1)"
   ]
  },
  {
   "cell_type": "code",
   "execution_count": 7,
   "id": "5c066003",
   "metadata": {},
   "outputs": [],
   "source": [
    "# On place les valeurs médiane de Summer et Winter\n",
    "df[\"Predicted Rice Yield (kg/ha)\"] = 6_000\n",
    "df.loc[y.astype(bool), \"Predicted Rice Yield (kg/ha)\"] = 7_200"
   ]
  },
  {
   "cell_type": "code",
   "execution_count": 8,
   "id": "04fac0e8",
   "metadata": {},
   "outputs": [],
   "source": [
    "# Enregistrement\n",
    "df.to_csv(\"3-Classification.csv\", index=False)"
   ]
  }
 ],
 "metadata": {
  "kernelspec": {
   "display_name": "Python 3 (ipykernel)",
   "language": "python",
   "name": "python3"
  },
  "language_info": {
   "codemirror_mode": {
    "name": "ipython",
    "version": 3
   },
   "file_extension": ".py",
   "mimetype": "text/x-python",
   "name": "python",
   "nbconvert_exporter": "python",
   "pygments_lexer": "ipython3",
   "version": "3.10.6"
  },
  "toc": {
   "base_numbering": 1,
   "nav_menu": {},
   "number_sections": true,
   "sideBar": true,
   "skip_h1_title": false,
   "title_cell": "Table of Contents",
   "title_sidebar": "Contents",
   "toc_cell": false,
   "toc_position": {},
   "toc_section_display": true,
   "toc_window_display": false
  }
 },
 "nbformat": 4,
 "nbformat_minor": 5
}
