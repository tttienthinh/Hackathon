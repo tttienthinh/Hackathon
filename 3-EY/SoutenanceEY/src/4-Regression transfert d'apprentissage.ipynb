{
 "cells": [
  {
   "cell_type": "markdown",
   "id": "1d6aa4a6",
   "metadata": {},
   "source": [
    "# Présentation"
   ]
  },
  {
   "cell_type": "markdown",
   "id": "02ad2dcf",
   "metadata": {},
   "source": [
    "Dans ce code nous utilisons l'ancien modèle pour prédire de façon plus fine le rendement d'une parcelle."
   ]
  },
  {
   "cell_type": "markdown",
   "id": "d8f1a5d8",
   "metadata": {},
   "source": [
    "# Importation"
   ]
  },
  {
   "cell_type": "code",
   "execution_count": 1,
   "id": "4bd55e16",
   "metadata": {},
   "outputs": [],
   "source": [
    "import tensorflow as tf\n",
    "from tensorflow.keras.models import Sequential\n",
    "from tensorflow.keras.layers import Dense, Input\n",
    "from tensorflow.keras.utils import pad_sequences\n",
    "from tensorflow.keras.callbacks import ModelCheckpoint\n",
    "from tensorflow.keras.models import load_model\n",
    "\n",
    "import numpy as np\n",
    "import pandas as pd\n",
    "from datetime import datetime, timedelta\n",
    "from sklearn.utils import shuffle\n",
    "# fix random seed for reproducibility\n",
    "tf.random.set_seed(7)\n",
    "# pip3 install tensorflow numpy pandas scikit-learn\n",
    "\n",
    "# Notebook\n",
    "from IPython.display import clear_output\n",
    "clear_output()"
   ]
  },
  {
   "cell_type": "markdown",
   "id": "7c4a3ea9",
   "metadata": {},
   "source": [
    "# Importation des données"
   ]
  },
  {
   "cell_type": "code",
   "execution_count": 2,
   "id": "3fe03ecc",
   "metadata": {},
   "outputs": [],
   "source": [
    "dateparse = lambda x: datetime.strptime(x, '%d-%m-%Y')\n",
    "df2 = pd.read_csv(\"Crop_Yield_Data_challenge_2.csv\", parse_dates=['Date of Harvest'], date_parser=dateparse)\n",
    "\n",
    "# Les données dans cette cellule permet de normaliser les entrées entre [0, 1]\n",
    "borne = [\n",
    "    (-0.0440750, 1.1379025),\n",
    "    (-0.0215250, 1.1155175),\n",
    "    (-0.1473925, 1.13914),\n",
    "    (0.04604250, 1.2140225),\n",
    "    (21762.0000, 56916.0),\n",
    "    (293.0, 48423.0)\n",
    "]\n",
    "mini = np.array([\n",
    "    -0.0440750,\n",
    "    -0.0215250,\n",
    "    -0.1473925,\n",
    "    0.04604250,\n",
    "    21762.0000,\n",
    "    293.0,\n",
    "])\n",
    "multi = np.array([\n",
    "    1.1819775, \n",
    "    1.1370425, \n",
    "    1.2865325, \n",
    "    1.16798, \n",
    "    35154.0, \n",
    "    48130.0\n",
    "])\n",
    "\n",
    "# Entrainement\n",
    "x2 = []\n",
    "y2 = []\n",
    "for i in range(len(df2)):\n",
    "    with open(f\"inputs_lstm/{i}.npy\", \"rb\") as f:\n",
    "        arr = np.load(f)\n",
    "        arr = np.transpose(arr, (0, 2, 3, 1))\n",
    "        arr = (arr-mini)/multi\n",
    "        x2.append(arr)\n",
    "    # Normalisation des sorties\n",
    "    y2.append([(df2.loc[i, \"Rice Yield (kg/ha)\"]-5200)/(8000-5200)])\n",
    "    \n",
    "\n",
    "x2 = pad_sequences(x2, dtype=\"float\", maxlen=32)\n",
    "y2 = np.array(y2)\n",
    "x2, y2 = shuffle(x2, y2)"
   ]
  },
  {
   "cell_type": "markdown",
   "id": "5941135b",
   "metadata": {},
   "source": [
    "# Création du modèle"
   ]
  },
  {
   "cell_type": "code",
   "execution_count": 3,
   "id": "56c038d0",
   "metadata": {},
   "outputs": [
    {
     "name": "stdout",
     "output_type": "stream",
     "text": [
      "Model: \"sequential\"\n",
      "_________________________________________________________________\n",
      " Layer (type)                Output Shape              Param #   \n",
      "=================================================================\n",
      " conv_lstm2d (ConvLSTM2D)    (None, 98, 98, 3)         984       \n",
      "                                                                 \n",
      " resnet50 (Functional)       (None, 4, 4, 2048)        23587712  \n",
      "                                                                 \n",
      " max_pooling2d (MaxPooling2D  (None, 2, 2, 2048)       0         \n",
      " )                                                               \n",
      "                                                                 \n",
      " flatten (Flatten)           (None, 8192)              0         \n",
      "                                                                 \n",
      " dense (Dense)               (None, 32)                262176    \n",
      "                                                                 \n",
      " dense_1 (Dense)             (None, 16)                528       \n",
      "                                                                 \n",
      " dropout (Dropout)           (None, 16)                0         \n",
      "                                                                 \n",
      " transfert_dense1 (Dense)    (None, 16)                272       \n",
      "                                                                 \n",
      " transfert_dense2 (Dense)    (None, 16)                272       \n",
      "                                                                 \n",
      " transfert_dense3 (Dense)    (None, 1)                 17        \n",
      "                                                                 \n",
      "=================================================================\n",
      "Total params: 23,851,961\n",
      "Trainable params: 561\n",
      "Non-trainable params: 23,851,400\n",
      "_________________________________________________________________\n"
     ]
    }
   ],
   "source": [
    "model_reg = Sequential()\n",
    "# Utilisation du modèle précédent\n",
    "model = load_model(\"models_finaux/classification/14-1.00.h5\")\n",
    "model_reg.add(Input(shape=(None, 100, 100, 6)))\n",
    "for layer in model.layers[:-1]:\n",
    "    layer.trainable = False\n",
    "    model_reg.add(layer)\n",
    "\n",
    "# Ajout de couches de sorties\n",
    "model_reg.add(Dense(16, name=\"transfert_dense1\"))\n",
    "model_reg.add(Dense(16, name=\"transfert_dense2\"))\n",
    "model_reg.add(Dense(1 , name=\"transfert_dense3\", activation=\"sigmoid\"))\n",
    "\n",
    "clear_output()\n",
    "model_reg.summary()"
   ]
  },
  {
   "cell_type": "code",
   "execution_count": 4,
   "id": "b4902f80",
   "metadata": {},
   "outputs": [],
   "source": [
    "# Compilation\n",
    "model_reg.compile(\n",
    "    optimizer='sgd',\n",
    "    loss='mse',\n",
    "    metrics=['mse']\n",
    ")"
   ]
  },
  {
   "cell_type": "markdown",
   "id": "6b019ece",
   "metadata": {},
   "source": [
    "# Entrainement"
   ]
  },
  {
   "cell_type": "code",
   "execution_count": 5,
   "id": "ae1e051d",
   "metadata": {},
   "outputs": [],
   "source": [
    "checkpoint = ModelCheckpoint(\n",
    "    filepath='models_finaux/regression/{epoch:02d}-{val_mse:.5f}.h5', \n",
    "    monitor=\"val_mse\", mode=\"min\", \n",
    "    save_best_only=True, verbose=1\n",
    ")\n",
    "callbacks = [checkpoint]"
   ]
  },
  {
   "cell_type": "code",
   "execution_count": 6,
   "id": "a90c6c59",
   "metadata": {},
   "outputs": [
    {
     "name": "stdout",
     "output_type": "stream",
     "text": [
      "Epoch 1/3\n",
      "1/1 [==============================] - ETA: 0s - loss: 0.1010 - mse: 0.1010\n",
      "Epoch 1: val_mse improved from inf to 0.00321, saving model to models_finaux/regression/01-0.00321.h5\n",
      "1/1 [==============================] - 6s 6s/step - loss: 0.1010 - mse: 0.1010 - val_loss: 0.0032 - val_mse: 0.0032\n",
      "Epoch 2/3\n",
      "1/1 [==============================] - ETA: 0s - loss: 0.0741 - mse: 0.0741\n",
      "Epoch 2: val_mse did not improve from 0.00321\n",
      "1/1 [==============================] - 0s 444ms/step - loss: 0.0741 - mse: 0.0741 - val_loss: 0.0060 - val_mse: 0.0060\n",
      "Epoch 3/3\n",
      "1/1 [==============================] - ETA: 0s - loss: 0.0713 - mse: 0.0713\n",
      "Epoch 3: val_mse did not improve from 0.00321\n",
      "1/1 [==============================] - 0s 383ms/step - loss: 0.0713 - mse: 0.0713 - val_loss: 0.0050 - val_mse: 0.0050\n"
     ]
    }
   ],
   "source": [
    "history = model_reg.fit(\n",
    "    x2, y2,\n",
    "    batch_size=16, \n",
    "    validation_split = 0.1,\n",
    "    epochs=3, callbacks=callbacks\n",
    ")\n",
    "# Les données ci-dessous ne sont pas représentatif du vrai entrainement fait sur une VM pendant plusieures heures"
   ]
  }
 ],
 "metadata": {
  "kernelspec": {
   "display_name": "Python 3 (ipykernel)",
   "language": "python",
   "name": "python3"
  },
  "language_info": {
   "codemirror_mode": {
    "name": "ipython",
    "version": 3
   },
   "file_extension": ".py",
   "mimetype": "text/x-python",
   "name": "python",
   "nbconvert_exporter": "python",
   "pygments_lexer": "ipython3",
   "version": "3.10.6"
  },
  "toc": {
   "base_numbering": 1,
   "nav_menu": {},
   "number_sections": true,
   "sideBar": true,
   "skip_h1_title": false,
   "title_cell": "Table of Contents",
   "title_sidebar": "Contents",
   "toc_cell": false,
   "toc_position": {},
   "toc_section_display": true,
   "toc_window_display": false
  }
 },
 "nbformat": 4,
 "nbformat_minor": 5
}
