{
 "cells": [
  {
   "cell_type": "markdown",
   "id": "4d2b48f2",
   "metadata": {},
   "source": [
    "# Présentation"
   ]
  },
  {
   "cell_type": "markdown",
   "id": "7ebc400f",
   "metadata": {},
   "source": [
    "Ce code permet la création d'un modèle basé sur `RESNET50` pour classifier SA = Summer Autumn, WS = Winter Spring"
   ]
  },
  {
   "cell_type": "markdown",
   "id": "6383eb7e",
   "metadata": {},
   "source": [
    "# Importation"
   ]
  },
  {
   "cell_type": "code",
   "execution_count": 1,
   "id": "c79641c5",
   "metadata": {},
   "outputs": [],
   "source": [
    "import tensorflow as tf\n",
    "from tensorflow.keras.models import Sequential\n",
    "from tensorflow.keras.layers import Dense, LSTM, Embedding, Input, Flatten, Reshape, ConvLSTM2D, MaxPooling2D, Dropout\n",
    "from tensorflow.keras.preprocessing import sequence\n",
    "from tensorflow.keras.applications import ResNet50\n",
    "from tensorflow.keras.utils import pad_sequences\n",
    "from tensorflow.keras.callbacks import ModelCheckpoint\n",
    "from tensorflow.keras.models import load_model\n",
    "\n",
    "import numpy as np\n",
    "import pandas as pd\n",
    "from datetime import datetime, timedelta\n",
    "# fix random seed for reproducibility\n",
    "tf.random.set_seed(7)\n",
    "\n",
    "# Notebook\n",
    "from IPython.display import clear_output\n",
    "clear_output()"
   ]
  },
  {
   "cell_type": "markdown",
   "id": "072d8554",
   "metadata": {},
   "source": [
    "# Importation des données"
   ]
  },
  {
   "cell_type": "markdown",
   "id": "24fc6e51",
   "metadata": {},
   "source": [
    "Tout ce qui est d'$indice_1$ désigne les données de validation et d'$indice_2$ désigne les données d'entraînement."
   ]
  },
  {
   "cell_type": "code",
   "execution_count": 2,
   "id": "dc065424",
   "metadata": {},
   "outputs": [],
   "source": [
    "dateparse = lambda x: datetime.strptime(x, '%d-%m-%Y')\n",
    "df1 = pd.read_csv(\"Challenge_2_submission_template.csv\", parse_dates=['Date of Harvest'], date_parser=dateparse)\n",
    "df2 = pd.read_csv(\"Crop_Yield_Data_challenge_2.csv\", parse_dates=['Date of Harvest'], date_parser=dateparse)"
   ]
  },
  {
   "cell_type": "code",
   "execution_count": 3,
   "id": "9a1478f0",
   "metadata": {},
   "outputs": [],
   "source": [
    "# Les données dans cette cellule permet de normaliser les entrées entre [0, 1]\n",
    "borne = [\n",
    "    (-0.0440750, 1.1379025),\n",
    "    (-0.0215250, 1.1155175),\n",
    "    (-0.1473925, 1.13914),\n",
    "    (0.04604250, 1.2140225),\n",
    "    (21762.0000, 56916.0),\n",
    "    (293.0, 48423.0)\n",
    "]\n",
    "mini = np.array([\n",
    "    -0.0440750,\n",
    "    -0.0215250,\n",
    "    -0.1473925,\n",
    "    0.04604250,\n",
    "    21762.0000,\n",
    "    293.0,\n",
    "])\n",
    "multi = np.array([\n",
    "    1.1819775, \n",
    "    1.1370425, \n",
    "    1.2865325, \n",
    "    1.16798, \n",
    "    35154.0, \n",
    "    48130.0\n",
    "])"
   ]
  },
  {
   "cell_type": "code",
   "execution_count": 4,
   "id": "485ada20",
   "metadata": {},
   "outputs": [],
   "source": [
    "# Validation\n",
    "x1 = []\n",
    "y1 = []\n",
    "for i in range(len(df1)):\n",
    "    with open(f\"inputs_lstm_val/{i}.npy\", \"rb\") as f:\n",
    "        arr = np.load(f)\n",
    "        arr = np.transpose(arr, (0, 2, 3, 1))\n",
    "        arr = (arr-mini)/multi\n",
    "        x1.append(arr)\n",
    "    if df1.loc[i, \"Season(SA = Summer Autumn, WS = Winter Spring)\"] == \"SA\":\n",
    "        y1.append([1, 0])\n",
    "    else:\n",
    "        y1.append([0, 1])\n",
    "x1 = pad_sequences(x1, dtype=\"float\", maxlen=32)\n",
    "y1 = np.array(y1)"
   ]
  },
  {
   "cell_type": "code",
   "execution_count": 5,
   "id": "33c88626",
   "metadata": {},
   "outputs": [],
   "source": [
    "# Entrainement\n",
    "x2 = []\n",
    "y2 = []\n",
    "for i in range(len(df2)):\n",
    "    with open(f\"inputs_lstm/{i}.npy\", \"rb\") as f:\n",
    "        arr = np.load(f)\n",
    "        arr = np.transpose(arr, (0, 2, 3, 1))\n",
    "        arr = (arr-mini)/multi\n",
    "        x2.append(arr)\n",
    "    if df2.loc[i, \"Season(SA = Summer Autumn, WS = Winter Spring)\"] == \"SA\":\n",
    "        y2.append([1, 0])\n",
    "    else:\n",
    "        y2.append([0, 1])\n",
    "x2 = pad_sequences(x2, dtype=\"float\", maxlen=32)\n",
    "y2 = np.array(y2)"
   ]
  },
  {
   "cell_type": "markdown",
   "id": "7e503b8e",
   "metadata": {},
   "source": [
    "# Création du modèle"
   ]
  },
  {
   "cell_type": "code",
   "execution_count": 6,
   "id": "1aab1786",
   "metadata": {},
   "outputs": [
    {
     "name": "stdout",
     "output_type": "stream",
     "text": [
      "Model: \"sequential\"\n",
      "_________________________________________________________________\n",
      " Layer (type)                Output Shape              Param #   \n",
      "=================================================================\n",
      " conv_lstm2d (ConvLSTM2D)    (None, 98, 98, 3)         984       \n",
      "                                                                 \n",
      " resnet50 (Functional)       (None, 4, 4, 2048)        23587712  \n",
      "                                                                 \n",
      " max_pooling2d (MaxPooling2D  (None, 2, 2, 2048)       0         \n",
      " )                                                               \n",
      "                                                                 \n",
      " flatten (Flatten)           (None, 8192)              0         \n",
      "                                                                 \n",
      " dense (Dense)               (None, 32)                262176    \n",
      "                                                                 \n",
      " dense_1 (Dense)             (None, 16)                528       \n",
      "                                                                 \n",
      " dropout (Dropout)           (None, 16)                0         \n",
      "                                                                 \n",
      " dense_2 (Dense)             (None, 2)                 34        \n",
      "                                                                 \n",
      "=================================================================\n",
      "Total params: 23,851,434\n",
      "Trainable params: 263,722\n",
      "Non-trainable params: 23,587,712\n",
      "_________________________________________________________________\n"
     ]
    }
   ],
   "source": [
    "# Création du modèle\n",
    "model = Sequential()\n",
    "# Ajout des couches d'entrée et de convolution récurrente\n",
    "model.add(Input(shape=(None,100, 100, 6)))\n",
    "model.add(ConvLSTM2D(filters=3, kernel_size=3, return_sequences=False))\n",
    "# Ajout du modèle RESNET50 pré-entrainé\n",
    "pretrained = ResNet50(\n",
    "    include_top=False, \n",
    "    input_shape=model.output_shape[1:]\n",
    ")\n",
    "for layer in pretrained.layers:\n",
    "    layer.trainable = False\n",
    "model.add(pretrained)\n",
    "# Ajout des couches de sorties\n",
    "model.add(MaxPooling2D())\n",
    "model.add(Flatten())\n",
    "model.add(Dense(32))\n",
    "model.add(Dense(16))\n",
    "model.add(Dropout(0.4))\n",
    "model.add(Dense(2, activation=\"softmax\"))\n",
    "\n",
    "clear_output()\n",
    "model.summary()"
   ]
  },
  {
   "cell_type": "markdown",
   "id": "86555027",
   "metadata": {},
   "source": [
    "# Entrainement du modèle"
   ]
  },
  {
   "cell_type": "code",
   "execution_count": 7,
   "id": "101b52f5",
   "metadata": {},
   "outputs": [],
   "source": [
    "# compilation du modèle\n",
    "model.compile(loss='categorical_crossentropy', optimizer='adam', metrics=['accuracy'])"
   ]
  },
  {
   "cell_type": "code",
   "execution_count": 8,
   "id": "0c4887a3",
   "metadata": {},
   "outputs": [],
   "source": [
    "# Enregistrement du meilleur modèle au cours de l'entrainement\n",
    "checkpoint = ModelCheckpoint(\n",
    "    filepath='models_finaux/classification/{epoch:02d}-{val_accuracy:.2f}.h5', \n",
    "    monitor=\"val_accuracy\", mode=\"max\", \n",
    "    save_best_only=True, verbose=1\n",
    ")\n",
    "callbacks = [checkpoint]"
   ]
  },
  {
   "cell_type": "markdown",
   "id": "c2e8ad1a",
   "metadata": {},
   "source": [
    "## Entrainement"
   ]
  },
  {
   "cell_type": "code",
   "execution_count": 9,
   "id": "9fdc6150",
   "metadata": {},
   "outputs": [
    {
     "name": "stdout",
     "output_type": "stream",
     "text": [
      "Epoch 1/3\n",
      "1/1 [==============================] - ETA: 0s - loss: 1.5497 - accuracy: 0.6667\n",
      "Epoch 1: val_accuracy improved from -inf to 0.66667, saving model to model/classification/01-0.67.h5\n",
      "1/1 [==============================] - 8s 8s/step - loss: 1.5497 - accuracy: 0.6667 - val_loss: 11.8835 - val_accuracy: 0.6667\n",
      "Epoch 2/3\n",
      "1/1 [==============================] - ETA: 0s - loss: 0.0000e+00 - accuracy: 1.0000\n",
      "Epoch 2: val_accuracy did not improve from 0.66667\n",
      "1/1 [==============================] - 1s 1s/step - loss: 0.0000e+00 - accuracy: 1.0000 - val_loss: 19.6274 - val_accuracy: 0.6667\n",
      "Epoch 3/3\n",
      "1/1 [==============================] - ETA: 0s - loss: 0.0000e+00 - accuracy: 1.0000\n",
      "Epoch 3: val_accuracy did not improve from 0.66667\n",
      "1/1 [==============================] - 1s 1s/step - loss: 0.0000e+00 - accuracy: 1.0000 - val_loss: 25.6256 - val_accuracy: 0.6667\n"
     ]
    }
   ],
   "source": [
    "# Environ 5 min d'entrainement par génération\n",
    "# Il a fallu 14 génération pour atteindre un modèle correct\n",
    "history = model.fit(\n",
    "    x2, y2, \n",
    "    shuffle=True,\n",
    "    batch_size=16, \n",
    "    validation_data = (x1, y1),\n",
    "    epochs=3, callbacks=callbacks\n",
    ")\n",
    "# Les données ci-dessous ne sont pas représentatif du vrai entrainement fait sur une VM pendant plusieures heures"
   ]
  }
 ],
 "metadata": {
  "kernelspec": {
   "display_name": "Python 3 (ipykernel)",
   "language": "python",
   "name": "python3"
  },
  "language_info": {
   "codemirror_mode": {
    "name": "ipython",
    "version": 3
   },
   "file_extension": ".py",
   "mimetype": "text/x-python",
   "name": "python",
   "nbconvert_exporter": "python",
   "pygments_lexer": "ipython3",
   "version": "3.10.6"
  },
  "toc": {
   "base_numbering": 1,
   "nav_menu": {},
   "number_sections": true,
   "sideBar": true,
   "skip_h1_title": false,
   "title_cell": "Table of Contents",
   "title_sidebar": "Contents",
   "toc_cell": false,
   "toc_position": {},
   "toc_section_display": true,
   "toc_window_display": false
  }
 },
 "nbformat": 4,
 "nbformat_minor": 5
}
