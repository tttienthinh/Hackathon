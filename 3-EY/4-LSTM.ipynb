{
 "cells": [
  {
   "cell_type": "code",
   "execution_count": 1,
   "id": "cb80d89f",
   "metadata": {
    "scrolled": true
   },
   "outputs": [
    {
     "name": "stderr",
     "output_type": "stream",
     "text": [
      "2023-05-10 20:40:47.790180: I tensorflow/core/platform/cpu_feature_guard.cc:193] This TensorFlow binary is optimized with oneAPI Deep Neural Network Library (oneDNN) to use the following CPU instructions in performance-critical operations:  AVX2 FMA\n",
      "To enable them in other operations, rebuild TensorFlow with the appropriate compiler flags.\n",
      "2023-05-10 20:40:47.927744: W tensorflow/compiler/xla/stream_executor/platform/default/dso_loader.cc:64] Could not load dynamic library 'libcudart.so.11.0'; dlerror: libcudart.so.11.0: cannot open shared object file: No such file or directory\n",
      "2023-05-10 20:40:47.927761: I tensorflow/compiler/xla/stream_executor/cuda/cudart_stub.cc:29] Ignore above cudart dlerror if you do not have a GPU set up on your machine.\n",
      "2023-05-10 20:40:48.712155: W tensorflow/compiler/xla/stream_executor/platform/default/dso_loader.cc:64] Could not load dynamic library 'libnvinfer.so.7'; dlerror: libnvinfer.so.7: cannot open shared object file: No such file or directory\n",
      "2023-05-10 20:40:48.712266: W tensorflow/compiler/xla/stream_executor/platform/default/dso_loader.cc:64] Could not load dynamic library 'libnvinfer_plugin.so.7'; dlerror: libnvinfer_plugin.so.7: cannot open shared object file: No such file or directory\n",
      "2023-05-10 20:40:48.712276: W tensorflow/compiler/tf2tensorrt/utils/py_utils.cc:38] TF-TRT Warning: Cannot dlopen some TensorRT libraries. If you would like to use Nvidia GPU with TensorRT, please make sure the missing libraries mentioned above are installed properly.\n"
     ]
    }
   ],
   "source": [
    "import tensorflow as tf\n",
    "from tensorflow.keras.models import Sequential\n",
    "from tensorflow.keras.layers import Dense, LSTM, Embedding, Input, Flatten, Reshape, ConvLSTM2D, MaxPooling2D,BatchNormalization\n",
    "from tensorflow.keras.preprocessing import sequence\n",
    "from tensorflow.keras.applications import ResNet50\n",
    "from tensorflow.keras.utils import pad_sequences\n",
    "from tensorflow.keras.callbacks import ModelCheckpoint\n",
    "from tensorflow.keras.models import load_model\n",
    "\n",
    "import numpy as np\n",
    "import pandas as pd\n",
    "from datetime import datetime, timedelta\n",
    "from sklearn.utils import shuffle\n",
    "from sklearn.preprocessing import MinMaxScaler\n",
    "import sklearn\n",
    "# fix random seed for reproducibility\n",
    "tf.random.set_seed(7)\n",
    "# pip3 install tensorflow numpy pandas scikit-learn"
   ]
  },
  {
   "cell_type": "code",
   "execution_count": 23,
   "id": "2a4f16fd",
   "metadata": {
    "scrolled": false
   },
   "outputs": [
    {
     "data": {
      "text/html": [
       "<div>\n",
       "<style scoped>\n",
       "    .dataframe tbody tr th:only-of-type {\n",
       "        vertical-align: middle;\n",
       "    }\n",
       "\n",
       "    .dataframe tbody tr th {\n",
       "        vertical-align: top;\n",
       "    }\n",
       "\n",
       "    .dataframe thead th {\n",
       "        text-align: right;\n",
       "    }\n",
       "</style>\n",
       "<table border=\"1\" class=\"dataframe\">\n",
       "  <thead>\n",
       "    <tr style=\"text-align: right;\">\n",
       "      <th></th>\n",
       "      <th>ID No</th>\n",
       "      <th>District</th>\n",
       "      <th>Latitude</th>\n",
       "      <th>Longitude</th>\n",
       "      <th>Season(SA = Summer Autumn, WS = Winter Spring)</th>\n",
       "      <th>Rice Crop Intensity(D=Double, T=Triple)</th>\n",
       "      <th>Date of Harvest</th>\n",
       "      <th>Field size (ha)</th>\n",
       "      <th>Predicted Rice Yield (kg/ha)</th>\n",
       "    </tr>\n",
       "  </thead>\n",
       "  <tbody>\n",
       "    <tr>\n",
       "      <th>0</th>\n",
       "      <td>1</td>\n",
       "      <td>Chau_Phu</td>\n",
       "      <td>10.542192</td>\n",
       "      <td>105.187920</td>\n",
       "      <td>WS</td>\n",
       "      <td>T</td>\n",
       "      <td>2022-04-10</td>\n",
       "      <td>1.40</td>\n",
       "      <td>NaN</td>\n",
       "    </tr>\n",
       "    <tr>\n",
       "      <th>1</th>\n",
       "      <td>2</td>\n",
       "      <td>Chau_Thanh</td>\n",
       "      <td>10.400189</td>\n",
       "      <td>105.331053</td>\n",
       "      <td>SA</td>\n",
       "      <td>T</td>\n",
       "      <td>2022-07-15</td>\n",
       "      <td>1.32</td>\n",
       "      <td>NaN</td>\n",
       "    </tr>\n",
       "    <tr>\n",
       "      <th>2</th>\n",
       "      <td>3</td>\n",
       "      <td>Chau_Phu</td>\n",
       "      <td>10.505489</td>\n",
       "      <td>105.203926</td>\n",
       "      <td>SA</td>\n",
       "      <td>D</td>\n",
       "      <td>2022-07-14</td>\n",
       "      <td>1.40</td>\n",
       "      <td>NaN</td>\n",
       "    </tr>\n",
       "    <tr>\n",
       "      <th>3</th>\n",
       "      <td>4</td>\n",
       "      <td>Chau_Phu</td>\n",
       "      <td>10.523520</td>\n",
       "      <td>105.138274</td>\n",
       "      <td>WS</td>\n",
       "      <td>D</td>\n",
       "      <td>2022-04-10</td>\n",
       "      <td>1.80</td>\n",
       "      <td>NaN</td>\n",
       "    </tr>\n",
       "    <tr>\n",
       "      <th>4</th>\n",
       "      <td>5</td>\n",
       "      <td>Thoai_Son</td>\n",
       "      <td>10.294660</td>\n",
       "      <td>105.248528</td>\n",
       "      <td>SA</td>\n",
       "      <td>T</td>\n",
       "      <td>2022-07-20</td>\n",
       "      <td>2.20</td>\n",
       "      <td>NaN</td>\n",
       "    </tr>\n",
       "    <tr>\n",
       "      <th>...</th>\n",
       "      <td>...</td>\n",
       "      <td>...</td>\n",
       "      <td>...</td>\n",
       "      <td>...</td>\n",
       "      <td>...</td>\n",
       "      <td>...</td>\n",
       "      <td>...</td>\n",
       "      <td>...</td>\n",
       "      <td>...</td>\n",
       "    </tr>\n",
       "    <tr>\n",
       "      <th>95</th>\n",
       "      <td>96</td>\n",
       "      <td>Chau_Thanh</td>\n",
       "      <td>10.435839</td>\n",
       "      <td>105.132981</td>\n",
       "      <td>SA</td>\n",
       "      <td>D</td>\n",
       "      <td>2022-07-26</td>\n",
       "      <td>1.21</td>\n",
       "      <td>NaN</td>\n",
       "    </tr>\n",
       "    <tr>\n",
       "      <th>96</th>\n",
       "      <td>97</td>\n",
       "      <td>Chau_Phu</td>\n",
       "      <td>10.529357</td>\n",
       "      <td>105.147388</td>\n",
       "      <td>WS</td>\n",
       "      <td>T</td>\n",
       "      <td>2022-04-10</td>\n",
       "      <td>2.00</td>\n",
       "      <td>NaN</td>\n",
       "    </tr>\n",
       "    <tr>\n",
       "      <th>97</th>\n",
       "      <td>98</td>\n",
       "      <td>Chau_Thanh</td>\n",
       "      <td>10.452537</td>\n",
       "      <td>105.205118</td>\n",
       "      <td>SA</td>\n",
       "      <td>T</td>\n",
       "      <td>2022-07-20</td>\n",
       "      <td>5.50</td>\n",
       "      <td>NaN</td>\n",
       "    </tr>\n",
       "    <tr>\n",
       "      <th>98</th>\n",
       "      <td>99</td>\n",
       "      <td>Chau_Thanh</td>\n",
       "      <td>10.394341</td>\n",
       "      <td>105.126836</td>\n",
       "      <td>SA</td>\n",
       "      <td>T</td>\n",
       "      <td>2022-07-14</td>\n",
       "      <td>4.40</td>\n",
       "      <td>NaN</td>\n",
       "    </tr>\n",
       "    <tr>\n",
       "      <th>99</th>\n",
       "      <td>100</td>\n",
       "      <td>Chau_Phu</td>\n",
       "      <td>10.480650</td>\n",
       "      <td>105.130089</td>\n",
       "      <td>WS</td>\n",
       "      <td>T</td>\n",
       "      <td>2022-04-10</td>\n",
       "      <td>2.00</td>\n",
       "      <td>NaN</td>\n",
       "    </tr>\n",
       "  </tbody>\n",
       "</table>\n",
       "<p>100 rows × 9 columns</p>\n",
       "</div>"
      ],
      "text/plain": [
       "    ID No    District   Latitude   Longitude  \\\n",
       "0       1    Chau_Phu  10.542192  105.187920   \n",
       "1       2  Chau_Thanh  10.400189  105.331053   \n",
       "2       3    Chau_Phu  10.505489  105.203926   \n",
       "3       4    Chau_Phu  10.523520  105.138274   \n",
       "4       5   Thoai_Son  10.294660  105.248528   \n",
       "..    ...         ...        ...         ...   \n",
       "95     96  Chau_Thanh  10.435839  105.132981   \n",
       "96     97    Chau_Phu  10.529357  105.147388   \n",
       "97     98  Chau_Thanh  10.452537  105.205118   \n",
       "98     99  Chau_Thanh  10.394341  105.126836   \n",
       "99    100    Chau_Phu  10.480650  105.130089   \n",
       "\n",
       "   Season(SA = Summer Autumn, WS = Winter Spring)  \\\n",
       "0                                              WS   \n",
       "1                                              SA   \n",
       "2                                              SA   \n",
       "3                                              WS   \n",
       "4                                              SA   \n",
       "..                                            ...   \n",
       "95                                             SA   \n",
       "96                                             WS   \n",
       "97                                             SA   \n",
       "98                                             SA   \n",
       "99                                             WS   \n",
       "\n",
       "   Rice Crop Intensity(D=Double, T=Triple) Date of Harvest  Field size (ha)  \\\n",
       "0                                        T      2022-04-10             1.40   \n",
       "1                                        T      2022-07-15             1.32   \n",
       "2                                        D      2022-07-14             1.40   \n",
       "3                                        D      2022-04-10             1.80   \n",
       "4                                        T      2022-07-20             2.20   \n",
       "..                                     ...             ...              ...   \n",
       "95                                       D      2022-07-26             1.21   \n",
       "96                                       T      2022-04-10             2.00   \n",
       "97                                       T      2022-07-20             5.50   \n",
       "98                                       T      2022-07-14             4.40   \n",
       "99                                       T      2022-04-10             2.00   \n",
       "\n",
       "    Predicted Rice Yield (kg/ha)  \n",
       "0                            NaN  \n",
       "1                            NaN  \n",
       "2                            NaN  \n",
       "3                            NaN  \n",
       "4                            NaN  \n",
       "..                           ...  \n",
       "95                           NaN  \n",
       "96                           NaN  \n",
       "97                           NaN  \n",
       "98                           NaN  \n",
       "99                           NaN  \n",
       "\n",
       "[100 rows x 9 columns]"
      ]
     },
     "execution_count": 23,
     "metadata": {},
     "output_type": "execute_result"
    }
   ],
   "source": [
    "dateparse = lambda x: datetime.strptime(x, '%d-%m-%Y')\n",
    "df1 = pd.read_csv(\"Challenge_2_submission_template.csv\", parse_dates=['Date of Harvest'], date_parser=dateparse)\n",
    "df1"
   ]
  },
  {
   "cell_type": "code",
   "execution_count": 12,
   "id": "95a572df",
   "metadata": {
    "scrolled": false
   },
   "outputs": [
    {
     "data": {
      "text/html": [
       "<div>\n",
       "<style scoped>\n",
       "    .dataframe tbody tr th:only-of-type {\n",
       "        vertical-align: middle;\n",
       "    }\n",
       "\n",
       "    .dataframe tbody tr th {\n",
       "        vertical-align: top;\n",
       "    }\n",
       "\n",
       "    .dataframe thead th {\n",
       "        text-align: right;\n",
       "    }\n",
       "</style>\n",
       "<table border=\"1\" class=\"dataframe\">\n",
       "  <thead>\n",
       "    <tr style=\"text-align: right;\">\n",
       "      <th></th>\n",
       "      <th>District</th>\n",
       "      <th>Latitude</th>\n",
       "      <th>Longitude</th>\n",
       "      <th>Season(SA = Summer Autumn, WS = Winter Spring)</th>\n",
       "      <th>Rice Crop Intensity(D=Double, T=Triple)</th>\n",
       "      <th>Date of Harvest</th>\n",
       "      <th>Field size (ha)</th>\n",
       "      <th>Rice Yield (kg/ha)</th>\n",
       "    </tr>\n",
       "  </thead>\n",
       "  <tbody>\n",
       "    <tr>\n",
       "      <th>0</th>\n",
       "      <td>Chau_Phu</td>\n",
       "      <td>10.510542</td>\n",
       "      <td>105.248554</td>\n",
       "      <td>SA</td>\n",
       "      <td>T</td>\n",
       "      <td>2022-07-15</td>\n",
       "      <td>3.40</td>\n",
       "      <td>5500</td>\n",
       "    </tr>\n",
       "    <tr>\n",
       "      <th>1</th>\n",
       "      <td>Chau_Phu</td>\n",
       "      <td>10.509150</td>\n",
       "      <td>105.265098</td>\n",
       "      <td>SA</td>\n",
       "      <td>T</td>\n",
       "      <td>2022-07-15</td>\n",
       "      <td>2.43</td>\n",
       "      <td>6000</td>\n",
       "    </tr>\n",
       "    <tr>\n",
       "      <th>2</th>\n",
       "      <td>Chau_Phu</td>\n",
       "      <td>10.467721</td>\n",
       "      <td>105.192464</td>\n",
       "      <td>SA</td>\n",
       "      <td>D</td>\n",
       "      <td>2022-07-15</td>\n",
       "      <td>1.95</td>\n",
       "      <td>6400</td>\n",
       "    </tr>\n",
       "    <tr>\n",
       "      <th>3</th>\n",
       "      <td>Chau_Phu</td>\n",
       "      <td>10.494453</td>\n",
       "      <td>105.241281</td>\n",
       "      <td>SA</td>\n",
       "      <td>T</td>\n",
       "      <td>2022-07-15</td>\n",
       "      <td>4.30</td>\n",
       "      <td>6000</td>\n",
       "    </tr>\n",
       "    <tr>\n",
       "      <th>4</th>\n",
       "      <td>Chau_Phu</td>\n",
       "      <td>10.535058</td>\n",
       "      <td>105.252744</td>\n",
       "      <td>SA</td>\n",
       "      <td>D</td>\n",
       "      <td>2022-07-14</td>\n",
       "      <td>3.30</td>\n",
       "      <td>6400</td>\n",
       "    </tr>\n",
       "    <tr>\n",
       "      <th>...</th>\n",
       "      <td>...</td>\n",
       "      <td>...</td>\n",
       "      <td>...</td>\n",
       "      <td>...</td>\n",
       "      <td>...</td>\n",
       "      <td>...</td>\n",
       "      <td>...</td>\n",
       "      <td>...</td>\n",
       "    </tr>\n",
       "    <tr>\n",
       "      <th>552</th>\n",
       "      <td>Thoai_Son</td>\n",
       "      <td>10.364419</td>\n",
       "      <td>105.164984</td>\n",
       "      <td>WS</td>\n",
       "      <td>T</td>\n",
       "      <td>2022-04-12</td>\n",
       "      <td>7.80</td>\n",
       "      <td>6640</td>\n",
       "    </tr>\n",
       "    <tr>\n",
       "      <th>553</th>\n",
       "      <td>Thoai_Son</td>\n",
       "      <td>10.358094</td>\n",
       "      <td>105.189541</td>\n",
       "      <td>WS</td>\n",
       "      <td>T</td>\n",
       "      <td>2022-04-12</td>\n",
       "      <td>2.00</td>\n",
       "      <td>7200</td>\n",
       "    </tr>\n",
       "    <tr>\n",
       "      <th>554</th>\n",
       "      <td>Thoai_Son</td>\n",
       "      <td>10.368014</td>\n",
       "      <td>105.238516</td>\n",
       "      <td>WS</td>\n",
       "      <td>T</td>\n",
       "      <td>2022-04-12</td>\n",
       "      <td>6.20</td>\n",
       "      <td>7200</td>\n",
       "    </tr>\n",
       "    <tr>\n",
       "      <th>555</th>\n",
       "      <td>Thoai_Son</td>\n",
       "      <td>10.275419</td>\n",
       "      <td>105.234563</td>\n",
       "      <td>WS</td>\n",
       "      <td>T</td>\n",
       "      <td>2022-04-20</td>\n",
       "      <td>3.00</td>\n",
       "      <td>6400</td>\n",
       "    </tr>\n",
       "    <tr>\n",
       "      <th>556</th>\n",
       "      <td>Thoai_Son</td>\n",
       "      <td>10.304295</td>\n",
       "      <td>105.270460</td>\n",
       "      <td>WS</td>\n",
       "      <td>T</td>\n",
       "      <td>2022-04-13</td>\n",
       "      <td>2.30</td>\n",
       "      <td>7200</td>\n",
       "    </tr>\n",
       "  </tbody>\n",
       "</table>\n",
       "<p>557 rows × 8 columns</p>\n",
       "</div>"
      ],
      "text/plain": [
       "      District   Latitude   Longitude  \\\n",
       "0     Chau_Phu  10.510542  105.248554   \n",
       "1     Chau_Phu  10.509150  105.265098   \n",
       "2     Chau_Phu  10.467721  105.192464   \n",
       "3     Chau_Phu  10.494453  105.241281   \n",
       "4     Chau_Phu  10.535058  105.252744   \n",
       "..         ...        ...         ...   \n",
       "552  Thoai_Son  10.364419  105.164984   \n",
       "553  Thoai_Son  10.358094  105.189541   \n",
       "554  Thoai_Son  10.368014  105.238516   \n",
       "555  Thoai_Son  10.275419  105.234563   \n",
       "556  Thoai_Son  10.304295  105.270460   \n",
       "\n",
       "    Season(SA = Summer Autumn, WS = Winter Spring)  \\\n",
       "0                                               SA   \n",
       "1                                               SA   \n",
       "2                                               SA   \n",
       "3                                               SA   \n",
       "4                                               SA   \n",
       "..                                             ...   \n",
       "552                                             WS   \n",
       "553                                             WS   \n",
       "554                                             WS   \n",
       "555                                             WS   \n",
       "556                                             WS   \n",
       "\n",
       "    Rice Crop Intensity(D=Double, T=Triple) Date of Harvest  Field size (ha)  \\\n",
       "0                                         T      2022-07-15             3.40   \n",
       "1                                         T      2022-07-15             2.43   \n",
       "2                                         D      2022-07-15             1.95   \n",
       "3                                         T      2022-07-15             4.30   \n",
       "4                                         D      2022-07-14             3.30   \n",
       "..                                      ...             ...              ...   \n",
       "552                                       T      2022-04-12             7.80   \n",
       "553                                       T      2022-04-12             2.00   \n",
       "554                                       T      2022-04-12             6.20   \n",
       "555                                       T      2022-04-20             3.00   \n",
       "556                                       T      2022-04-13             2.30   \n",
       "\n",
       "     Rice Yield (kg/ha)  \n",
       "0                  5500  \n",
       "1                  6000  \n",
       "2                  6400  \n",
       "3                  6000  \n",
       "4                  6400  \n",
       "..                  ...  \n",
       "552                6640  \n",
       "553                7200  \n",
       "554                7200  \n",
       "555                6400  \n",
       "556                7200  \n",
       "\n",
       "[557 rows x 8 columns]"
      ]
     },
     "execution_count": 12,
     "metadata": {},
     "output_type": "execute_result"
    }
   ],
   "source": [
    "dateparse = lambda x: datetime.strptime(x, '%d-%m-%Y')\n",
    "df2 = pd.read_csv(\"Crop_Yield_Data_challenge_2.csv\", parse_dates=['Date of Harvest'], date_parser=dateparse)\n",
    "df2"
   ]
  },
  {
   "cell_type": "code",
   "execution_count": null,
   "id": "afd33ba0",
   "metadata": {},
   "outputs": [],
   "source": [
    "df.loc[0]"
   ]
  },
  {
   "cell_type": "code",
   "execution_count": 19,
   "id": "24b3281b",
   "metadata": {},
   "outputs": [
    {
     "data": {
      "text/plain": [
       "5200"
      ]
     },
     "execution_count": 19,
     "metadata": {},
     "output_type": "execute_result"
    }
   ],
   "source": [
    "df2.iloc[:,7].min()"
   ]
  },
  {
   "cell_type": "code",
   "execution_count": 25,
   "id": "f54ec9da",
   "metadata": {},
   "outputs": [],
   "source": [
    "borne = [\n",
    "    (-0.0440750, 1.1379025),\n",
    "    (-0.0215250, 1.1155175),\n",
    "    (-0.1473925, 1.13914),\n",
    "    (0.04604250, 1.2140225),\n",
    "    (21762.0000, 56916.0),\n",
    "    (293.0, 48423.0)\n",
    "]\n",
    "mini = np.array([\n",
    "    -0.0440750,\n",
    "    -0.0215250,\n",
    "    -0.1473925,\n",
    "    0.04604250,\n",
    "    21762.0000,\n",
    "    293.0,\n",
    "])\n",
    "multi = np.array([\n",
    "    1.1819775, \n",
    "    1.1370425, \n",
    "    1.2865325, \n",
    "    1.16798, \n",
    "    35154.0, \n",
    "    48130.0\n",
    "])"
   ]
  },
  {
   "cell_type": "code",
   "execution_count": 26,
   "id": "eb117852",
   "metadata": {},
   "outputs": [],
   "source": [
    "x1 = []\n",
    "y1 = []\n",
    "for i in range(len(df1)):\n",
    "    with open(f\"inputs_lstm_val/{i}.npy\", \"rb\") as f:\n",
    "        arr = np.load(f)\n",
    "        arr = np.transpose(arr, (0, 2, 3, 1))\n",
    "        arr = (arr-mini)/multi\n",
    "        x1.append(arr)\n",
    "    if df1.loc[i, \"Season(SA = Summer Autumn, WS = Winter Spring)\"] == \"SA\":\n",
    "        y1.append([1, 0])\n",
    "    else:\n",
    "        y1.append([0, 1])"
   ]
  },
  {
   "cell_type": "code",
   "execution_count": null,
   "id": "fe2b5f48",
   "metadata": {},
   "outputs": [],
   "source": [
    "x2 = []\n",
    "y2 = []\n",
    "for i in range(len(df2)):\n",
    "    with open(f\"inputs_lstm/{i}.npy\", \"rb\") as f:\n",
    "        arr = np.load(f)\n",
    "        arr = np.transpose(arr, (0, 2, 3, 1))\n",
    "        arr = (arr-mini)/multi\n",
    "        x2.append(arr)\n",
    "    if df2.loc[i, \"Season(SA = Summer Autumn, WS = Winter Spring)\"] == \"SA\":\n",
    "        y2.append([1, 0])\n",
    "    else:\n",
    "        y2.append([0, 1])"
   ]
  },
  {
   "cell_type": "code",
   "execution_count": null,
   "id": "cfb16e1f",
   "metadata": {},
   "outputs": [],
   "source": [
    "x2 = []\n",
    "y2 = []\n",
    "for i in range(len(df2)):\n",
    "    with open(f\"inputs_lstm/{i}.npy\", \"rb\") as f:\n",
    "        arr = np.load(f)\n",
    "        arr = np.transpose(arr, (0, 2, 3, 1))\n",
    "        arr = (arr-mini)/multi\n",
    "        x2.append(arr)\n",
    "    y2.append([(df2.loc[i, \"Rice Yield (kg/ha)\"]-5200)/(8000-52000)])"
   ]
  },
  {
   "cell_type": "code",
   "execution_count": null,
   "id": "6ab93ddb",
   "metadata": {},
   "outputs": [],
   "source": [
    "x2 = pad_sequences(x2, dtype=\"float\", maxlen=32)\n",
    "y2 = np.array(y2)"
   ]
  },
  {
   "cell_type": "code",
   "execution_count": 27,
   "id": "427a5855",
   "metadata": {},
   "outputs": [],
   "source": [
    "x1 = pad_sequences(x1, dtype=\"float\", maxlen=32)\n",
    "y1 = np.array(y1)"
   ]
  },
  {
   "cell_type": "code",
   "execution_count": null,
   "id": "3ac046b1",
   "metadata": {
    "scrolled": true
   },
   "outputs": [],
   "source": [
    "model = load_model(\"models_finaux/lstm_profond/68-0.98.h5\")"
   ]
  },
  {
   "cell_type": "code",
   "execution_count": null,
   "id": "26555cc8",
   "metadata": {},
   "outputs": [],
   "source": [
    "model = load_model(\"models_finaux/petit_lstm/128-0.94.h5\")"
   ]
  },
  {
   "cell_type": "code",
   "execution_count": 34,
   "id": "4941a46b",
   "metadata": {},
   "outputs": [],
   "source": [
    "model = load_model(\"models_finaux/petit_lstm_g/14-1.00.h5\")"
   ]
  },
  {
   "cell_type": "code",
   "execution_count": 35,
   "id": "2c67adc1",
   "metadata": {
    "scrolled": true
   },
   "outputs": [
    {
     "name": "stderr",
     "output_type": "stream",
     "text": [
      "2023-05-10 21:19:31.422442: W tensorflow/tsl/framework/cpu_allocator_impl.cc:82] Allocation of 768000000 exceeds 10% of free system memory.\n"
     ]
    },
    {
     "name": "stdout",
     "output_type": "stream",
     "text": [
      "4/4 [==============================] - 11s 2s/step\n"
     ]
    },
    {
     "data": {
      "text/plain": [
       "100"
      ]
     },
     "execution_count": 35,
     "metadata": {},
     "output_type": "execute_result"
    }
   ],
   "source": [
    "y1_predict = model.predict(x1)\n",
    "(y1.argmax(axis=1)==y1_predict.argmax(axis=1)).sum()"
   ]
  },
  {
   "cell_type": "code",
   "execution_count": null,
   "id": "d13c5bb9",
   "metadata": {},
   "outputs": [],
   "source": [
    "y2_predict = model.predict(x2[:50])\n",
    "(y2[:50].argmax(axis=1)==y2_predict.argmax(axis=1)).sum()"
   ]
  },
  {
   "cell_type": "code",
   "execution_count": null,
   "id": "f5e7a6c3",
   "metadata": {
    "scrolled": false
   },
   "outputs": [],
   "source": [
    "x = pad_sequences(x1+x2)\n",
    "y = np.array(y1+y2)\n",
    "x1 = pad_sequences(x1)\n",
    "y1 = np.array(y1)\n",
    "# x, y = shuffle(x, y)"
   ]
  },
  {
   "cell_type": "code",
   "execution_count": null,
   "id": "8af2111f",
   "metadata": {
    "scrolled": true
   },
   "outputs": [],
   "source": [
    "class_weight = {\n",
    "    0: 1/np.count_nonzero(y[:, 0]==1),\n",
    "    1: 1/np.count_nonzero(y[:, 1]==1)\n",
    "}"
   ]
  },
  {
   "cell_type": "code",
   "execution_count": null,
   "id": "3ffbcd60",
   "metadata": {
    "scrolled": true
   },
   "outputs": [],
   "source": [
    "np.count_nonzero(y[:, 0]==1)"
   ]
  },
  {
   "cell_type": "code",
   "execution_count": null,
   "id": "fea73767",
   "metadata": {
    "scrolled": false
   },
   "outputs": [],
   "source": [
    "np.count_nonzero(y[:, 1]==1)"
   ]
  },
  {
   "cell_type": "code",
   "execution_count": null,
   "id": "bdcdc9e0",
   "metadata": {
    "scrolled": true
   },
   "outputs": [],
   "source": [
    "\"\"\"\n",
    "model = Sequential()\n",
    "model.add(Input(shape=(None,100, 100, 6)))\n",
    "model.add(ConvLSTM2D(filters=3, kernel_size=3, return_sequences=False))\n",
    "\n",
    "pretrained = ResNet50(\n",
    "    include_top=False, \n",
    "    input_shape=model.output_shape[1:]\n",
    ")\n",
    "for layer in pretrained.layers:\n",
    "    layer.trainable = False\n",
    "    \n",
    "model.add(pretrained)\n",
    "model.add(Flatten())\n",
    "model.add(Dense(10))\n",
    "model.add(Dense(2, activation=\"softmax\"))\n",
    "\"\"\"\n",
    "model = load_model()\n",
    "model.summary()"
   ]
  },
  {
   "cell_type": "code",
   "execution_count": null,
   "id": "4de2fd1c",
   "metadata": {},
   "outputs": [],
   "source": [
    "model.compile(loss='categorical_crossentropy', optimizer='adam', metrics=['accuracy'])"
   ]
  },
  {
   "cell_type": "code",
   "execution_count": null,
   "id": "f2af40c2",
   "metadata": {},
   "outputs": [],
   "source": [
    "# import os\n",
    "# checkpoint = ModelCheckpoint(filepath='model.{epoch:02d}-{val_loss:.2f}.h5', monitor=\"val_loss\", mode=\"min\", save_best_only=True, verbose=1)\n",
    "checkpoint = ModelCheckpoint(\n",
    "    filepath='model/{epoch:02d}-{val_acc:.2f}.h5', \n",
    "    monitor=\"val_acc\", mode=\"max\", \n",
    "    save_best_only=True, verbose=1\n",
    ")\n",
    "callbacks = [checkpoint]"
   ]
  },
  {
   "cell_type": "code",
   "execution_count": null,
   "id": "9ca119c0",
   "metadata": {
    "scrolled": true
   },
   "outputs": [],
   "source": [
    "%%time\n",
    "history = model.fit(\n",
    "    x, y, \n",
    "    batch_size=16, shuffle=True, \n",
    "    validation_data=(x1, y1)\n",
    "    # class_weight=class_weight,\n",
    "    epochs=1_000, callbacks=callbacks\n",
    ")"
   ]
  },
  {
   "cell_type": "code",
   "execution_count": null,
   "id": "42a098c1",
   "metadata": {},
   "outputs": [],
   "source": [
    "import time\n",
    "print(time.asctime())"
   ]
  },
  {
   "cell_type": "markdown",
   "id": "8f51c67d",
   "metadata": {},
   "source": [
    "# New model"
   ]
  },
  {
   "cell_type": "code",
   "execution_count": 6,
   "id": "6f5b6b9c",
   "metadata": {
    "scrolled": true
   },
   "outputs": [
    {
     "name": "stdout",
     "output_type": "stream",
     "text": [
      "Model: \"sequential\"\n",
      "_________________________________________________________________\n",
      " Layer (type)                Output Shape              Param #   \n",
      "=================================================================\n",
      " conv_lstm2d (ConvLSTM2D)    (None, 98, 98, 3)         984       \n",
      "                                                                 \n",
      " resnet50 (Functional)       (None, 4, 4, 2048)        23587712  \n",
      "                                                                 \n",
      " max_pooling2d (MaxPooling2D  (None, 2, 2, 2048)       0         \n",
      " )                                                               \n",
      "                                                                 \n",
      " flatten (Flatten)           (None, 8192)              0         \n",
      "                                                                 \n",
      " dense (Dense)               (None, 32)                262176    \n",
      "                                                                 \n",
      " dense_1 (Dense)             (None, 16)                528       \n",
      "                                                                 \n",
      " dropout (Dropout)           (None, 16)                0         \n",
      "                                                                 \n",
      " dense_2 (Dense)             (None, 2)                 34        \n",
      "                                                                 \n",
      "=================================================================\n",
      "Total params: 23,851,434\n",
      "Trainable params: 34\n",
      "Non-trainable params: 23,851,400\n",
      "_________________________________________________________________\n"
     ]
    }
   ],
   "source": [
    "model.summary()"
   ]
  },
  {
   "cell_type": "code",
   "execution_count": 7,
   "id": "a16f2b29",
   "metadata": {},
   "outputs": [
    {
     "data": {
      "text/plain": [
       "(None, None, 100, 100, 6)"
      ]
     },
     "execution_count": 7,
     "metadata": {},
     "output_type": "execute_result"
    }
   ],
   "source": [
    "model.input_shape"
   ]
  },
  {
   "cell_type": "code",
   "execution_count": 17,
   "id": "b87455e6",
   "metadata": {},
   "outputs": [],
   "source": []
  },
  {
   "cell_type": "code",
   "execution_count": 32,
   "id": "b270c29d",
   "metadata": {
    "scrolled": true
   },
   "outputs": [
    {
     "name": "stdout",
     "output_type": "stream",
     "text": [
      "Model: \"sequential_8\"\n",
      "_________________________________________________________________\n",
      " Layer (type)                Output Shape              Param #   \n",
      "=================================================================\n",
      " conv_lstm2d (ConvLSTM2D)    (None, 98, 98, 3)         984       \n",
      "                                                                 \n",
      " resnet50 (Functional)       (None, 4, 4, 2048)        23587712  \n",
      "                                                                 \n",
      " max_pooling2d (MaxPooling2D  (None, 2, 2, 2048)       0         \n",
      " )                                                               \n",
      "                                                                 \n",
      " flatten (Flatten)           (None, 8192)              0         \n",
      "                                                                 \n",
      " dense (Dense)               (None, 32)                262176    \n",
      "                                                                 \n",
      " dense_1 (Dense)             (None, 16)                528       \n",
      "                                                                 \n",
      " dropout (Dropout)           (None, 16)                0         \n",
      "                                                                 \n",
      " dense_10 (Dense)            (None, 16)                272       \n",
      "                                                                 \n",
      " dense_11 (Dense)            (None, 16)                272       \n",
      "                                                                 \n",
      " dense_12 (Dense)            (None, 1)                 17        \n",
      "                                                                 \n",
      "=================================================================\n",
      "Total params: 23,851,961\n",
      "Trainable params: 561\n",
      "Non-trainable params: 23,851,400\n",
      "_________________________________________________________________\n"
     ]
    }
   ],
   "source": [
    "model_reg = Sequential()\n",
    "model = load_model(\"models_finaux/petit_lstm_g/07-0.99.h5\")\n",
    "model_reg.add(Input(shape=(None, 100, 100, 6)))\n",
    "for layer in model.layers[:-1]:\n",
    "    layer.trainable = False\n",
    "    model_reg.add(layer)\n",
    "model_reg.add(Dense(16))\n",
    "model_reg.add(Dense(16))\n",
    "model_reg.add(Dense(1, activation=\"sigmoid\"))\n",
    "model_reg.summary()"
   ]
  },
  {
   "cell_type": "code",
   "execution_count": 29,
   "id": "203cbfd6",
   "metadata": {},
   "outputs": [],
   "source": [
    "model_reg.compile(\n",
    "    optimizer='sgd',\n",
    "    loss='mse',\n",
    "    metrics=['mse']\n",
    ")"
   ]
  },
  {
   "cell_type": "code",
   "execution_count": 33,
   "id": "cfe38332",
   "metadata": {},
   "outputs": [
    {
     "name": "stderr",
     "output_type": "stream",
     "text": [
      "2023-05-10 20:58:52.488801: W tensorflow/tsl/framework/cpu_allocator_impl.cc:82] Allocation of 768000000 exceeds 10% of free system memory.\n"
     ]
    },
    {
     "name": "stdout",
     "output_type": "stream",
     "text": [
      "4/4 [==============================] - 11s 2s/step\n"
     ]
    },
    {
     "data": {
      "text/plain": [
       "array([[0.16817054],\n",
       "       [0.00199232],\n",
       "       [0.01300677],\n",
       "       [0.20708033],\n",
       "       [0.0019566 ],\n",
       "       [0.22542115],\n",
       "       [0.00235839],\n",
       "       [0.00189835],\n",
       "       [0.14358068],\n",
       "       [0.2140939 ],\n",
       "       [0.00943371],\n",
       "       [0.11490636],\n",
       "       [0.02068991],\n",
       "       [0.00672141],\n",
       "       [0.0049293 ],\n",
       "       [0.2287198 ],\n",
       "       [0.00212733],\n",
       "       [0.00202162],\n",
       "       [0.0020001 ],\n",
       "       [0.23512319],\n",
       "       [0.20528927],\n",
       "       [0.02560289],\n",
       "       [0.22145475],\n",
       "       [0.00202188],\n",
       "       [0.23406598],\n",
       "       [0.22076684],\n",
       "       [0.22507255],\n",
       "       [0.00329075],\n",
       "       [0.00199489],\n",
       "       [0.02778488],\n",
       "       [0.00194246],\n",
       "       [0.00244069],\n",
       "       [0.26091856],\n",
       "       [0.23519224],\n",
       "       [0.16154517],\n",
       "       [0.23242725],\n",
       "       [0.0027766 ],\n",
       "       [0.00346084],\n",
       "       [0.2237436 ],\n",
       "       [0.01371218],\n",
       "       [0.05653216],\n",
       "       [0.00783963],\n",
       "       [0.00573497],\n",
       "       [0.22214223],\n",
       "       [0.00199268],\n",
       "       [0.00193679],\n",
       "       [0.00247258],\n",
       "       [0.1359614 ],\n",
       "       [0.00267249],\n",
       "       [0.00469241],\n",
       "       [0.20013064],\n",
       "       [0.20059536],\n",
       "       [0.0022699 ],\n",
       "       [0.2435612 ],\n",
       "       [0.0042769 ],\n",
       "       [0.21662468],\n",
       "       [0.1978208 ],\n",
       "       [0.21464178],\n",
       "       [0.00204747],\n",
       "       [0.01647976],\n",
       "       [0.00211551],\n",
       "       [0.17945714],\n",
       "       [0.00271865],\n",
       "       [0.00269042],\n",
       "       [0.20590927],\n",
       "       [0.19952492],\n",
       "       [0.21765651],\n",
       "       [0.14335749],\n",
       "       [0.25459293],\n",
       "       [0.00201534],\n",
       "       [0.00251074],\n",
       "       [0.03813877],\n",
       "       [0.00354313],\n",
       "       [0.008177  ],\n",
       "       [0.22791323],\n",
       "       [0.00205014],\n",
       "       [0.17217468],\n",
       "       [0.00554795],\n",
       "       [0.19769347],\n",
       "       [0.16759345],\n",
       "       [0.00299545],\n",
       "       [0.21484183],\n",
       "       [0.2170443 ],\n",
       "       [0.00350235],\n",
       "       [0.19789521],\n",
       "       [0.00212377],\n",
       "       [0.23305994],\n",
       "       [0.06306355],\n",
       "       [0.00208966],\n",
       "       [0.17400277],\n",
       "       [0.20171465],\n",
       "       [0.22969861],\n",
       "       [0.002824  ],\n",
       "       [0.1981191 ],\n",
       "       [0.2100239 ],\n",
       "       [0.0019345 ],\n",
       "       [0.25430995],\n",
       "       [0.00354985],\n",
       "       [0.00305405],\n",
       "       [0.16248369]], dtype=float32)"
      ]
     },
     "execution_count": 33,
     "metadata": {},
     "output_type": "execute_result"
    }
   ],
   "source": [
    "model_reg.predict(x1)"
   ]
  },
  {
   "cell_type": "code",
   "execution_count": null,
   "id": "7ad24417",
   "metadata": {},
   "outputs": [],
   "source": []
  }
 ],
 "metadata": {
  "kernelspec": {
   "display_name": "Python 3 (ipykernel)",
   "language": "python",
   "name": "python3"
  },
  "language_info": {
   "codemirror_mode": {
    "name": "ipython",
    "version": 3
   },
   "file_extension": ".py",
   "mimetype": "text/x-python",
   "name": "python",
   "nbconvert_exporter": "python",
   "pygments_lexer": "ipython3",
   "version": "3.10.6"
  },
  "toc": {
   "base_numbering": 1,
   "nav_menu": {},
   "number_sections": true,
   "sideBar": true,
   "skip_h1_title": false,
   "title_cell": "Table of Contents",
   "title_sidebar": "Contents",
   "toc_cell": false,
   "toc_position": {},
   "toc_section_display": true,
   "toc_window_display": false
  }
 },
 "nbformat": 4,
 "nbformat_minor": 5
}
