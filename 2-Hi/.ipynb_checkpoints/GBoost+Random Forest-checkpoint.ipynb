{
 "cells": [
  {
   "cell_type": "code",
   "execution_count": 1,
   "id": "5ba163ec",
   "metadata": {},
   "outputs": [],
   "source": [
    "import pandas as pd\n",
    "import numpy as np\n",
    "from sklearn.metrics import explained_variance_score\n",
    "from sklearn.model_selection import train_test_split\n",
    "from sklearn import preprocessing\n",
    "from sklearn import linear_model\n",
    "from sklearn.ensemble import RandomForestRegressor\n",
    "from sklearn.ensemble import GradientBoostingRegressor\n",
    "from sklearn.model_selection import RandomizedSearchCV as RSCV\n",
    "from scipy import stats\n",
    "\n",
    "import csv"
   ]
  },
  {
   "cell_type": "code",
   "execution_count": 2,
   "id": "2d56d47b",
   "metadata": {
    "scrolled": true
   },
   "outputs": [
    {
     "name": "stderr",
     "output_type": "stream",
     "text": [
      "/opt/conda/lib/python3.8/site-packages/IPython/core/interactiveshell.py:3135: DtypeWarning: Columns (19) have mixed types.Specify dtype option on import or set low_memory=False.\n",
      "  has_raised = await self.run_ast_nodes(code_ast.body, cell_name,\n"
     ]
    }
   ],
   "source": [
    "df = pd.read_csv(\"train_features_sent.csv\")\n",
    "df_labels = pd.read_csv(\"train_labels_sent.csv\")\n",
    "\n",
    "data_reduction = False\n",
    "\n",
    "if data_reduction == True:\n",
    "    df = df.iloc[0:10000]\n",
    "    df.shape"
   ]
  },
  {
   "cell_type": "code",
   "execution_count": 3,
   "id": "1032cc88",
   "metadata": {
    "scrolled": true
   },
   "outputs": [
    {
     "name": "stdout",
     "output_type": "stream",
     "text": [
      "object\n",
      "int64\n",
      "(1010684, 71)\n"
     ]
    }
   ],
   "source": [
    "print(df['main_water_heating_type'].dtype)\n",
    "print(df['area_code'].dtype)\n",
    "print(df.shape)"
   ]
  },
  {
   "cell_type": "code",
   "execution_count": 4,
   "id": "36a29f96",
   "metadata": {},
   "outputs": [
    {
     "data": {
      "text/plain": [
       "(1010684, 34)"
      ]
     },
     "execution_count": 4,
     "metadata": {},
     "output_type": "execute_result"
    }
   ],
   "source": [
    "#ON DROP LES COLONNES JUGEES NON PERTINENTES\n",
    "\n",
    "df_filtered = df\n",
    "\n",
    "liste_Tien = ['building_period','building_type','has_balcony','thermal_inertia']\n",
    "\n",
    "list_col_objects=[]\n",
    "for i in range(70):\n",
    "    label = df.columns[i]\n",
    "    if (df[label].dtype == 'object' and (label not in liste_Tien)):\n",
    "        list_col_objects.append(label)\n",
    "        df_filtered=df_filtered.drop(label, axis=1)\n",
    "        \n",
    "df_filtered.shape\n"
   ]
  },
  {
   "cell_type": "code",
   "execution_count": 5,
   "id": "4807010d",
   "metadata": {},
   "outputs": [
    {
     "name": "stdout",
     "output_type": "stream",
     "text": [
      "(1010684, 22)\n",
      "['nb_commercial_units', 'nb_gas_meters_commercial', 'nb_gas_meters_housing', 'nb_gas_meters_total', 'nb_housing_units', 'nb_meters', 'nb_parking_spaces', 'nb_power_meters_commercial', 'nb_power_meters_housing', 'nb_power_meters_total', 'nb_units_total', 'percentage_glazed_surfaced']\n",
      "(1010604, 22)\n"
     ]
    }
   ],
   "source": [
    "#ON DROP LES COLONNES AVEC TROP DE NULL VALUES\n",
    "\n",
    "null_val = df_filtered.isnull().sum()\n",
    "\n",
    "list_col_Na = []\n",
    "for i in range(null_val.size-1):\n",
    "        label = null_val.index[i]\n",
    "        if (null_val[i]>(df_filtered.shape[0]/11)):\n",
    "            list_col_Na.append(label)\n",
    "            df_filtered=df_filtered.drop(label, axis=1)\n",
    "\n",
    "print(df_filtered.shape)\n",
    "print(list_col_Na)\n",
    "\n",
    "df_filtered=df_filtered[df_filtered['building_period']!='bad sup']\n",
    "print(df_filtered.shape)\n",
    "\n"
   ]
  },
  {
   "cell_type": "code",
   "execution_count": 6,
   "id": "bc8edd4f",
   "metadata": {
    "scrolled": true
   },
   "outputs": [
    {
     "name": "stdout",
     "output_type": "stream",
     "text": [
      "(1010604, 22)\n",
      "(1010604, 22)\n",
      "(1010604, 22)\n",
      "(1010604, 39)\n",
      "Index(['level_0', 'altitude', 'area_code', 'building_height_ft',\n",
      "       'building_total_area_sqft', 'building_use_type_code', 'building_year',\n",
      "       'living_area_sqft', 'lowe_floor_thermal_conductivity', 'nb_dwellings',\n",
      "       'outer_wall_thermal_conductivity', 'post_code',\n",
      "       'upper_floor_thermal_conductivity', 'window_heat_retention_factor',\n",
      "       'window_thermal_conductivity', 'has_air_conditioning_False',\n",
      "       'has_air_conditioning_True', 'solar_heating_False',\n",
      "       'solar_heating_True', 'solar_water_heating_False',\n",
      "       'solar_water_heating_True', 'building_period_1949-1970',\n",
      "       'building_period_1970-1988', 'building_period_1989-1999',\n",
      "       'building_period_2000-2005', 'building_period_2006-2012',\n",
      "       'building_period_<1948', 'building_period_>2012', 'building_type_Flat',\n",
      "       'building_type_House', 'building_type_Multiple dwellings',\n",
      "       'building_type_Non-residential', 'building_type_Shopping centres',\n",
      "       'has_balcony_False', 'has_balcony_True', 'thermal_inertia_high',\n",
      "       'thermal_inertia_low', 'thermal_inertia_medium',\n",
      "       'thermal_inertia_very high'],\n",
      "      dtype='object')\n",
      "(1010604, 39)\n",
      "(1010604, 39)\n"
     ]
    }
   ],
   "source": [
    "#ON DROP LES NA\n",
    "print(df_filtered.shape)\n",
    "\n",
    "Drop_Na = False\n",
    "print(df_filtered.shape)\n",
    "\n",
    "\n",
    "print(df_filtered.shape)\n",
    "\n",
    "if Drop_Na == True:\n",
    "    df_filtered=df_filtered.dropna()\n",
    "    print(df_filtered.shape)\n",
    "    \n",
    "\n",
    "\n",
    "#ON TRANSFORME EN DUMMIES\n",
    "\n",
    "list_bool_types = ['has_air_conditioning','solar_heating', 'solar_water_heating']\n",
    "df_filtered = pd.get_dummies(df_filtered, columns=list_bool_types+ liste_Tien)\n",
    "#print(df_filtered.columns)\n",
    "#df_filtered.drop('building_period_bad_sup', axis=1)\n",
    "print(df_filtered.shape)\n",
    "print(df_filtered.columns)\n",
    "\n",
    "Replace_Na = True\n",
    "\n",
    "if Replace_Na == True:\n",
    "    print(df_filtered.shape)\n",
    "    df_filtered=df_filtered.fillna(df_filtered.mean())\n",
    "    print(df_filtered.shape)\n",
    "    \n",
    "\n",
    "#ON TRAITE LES OUTLIERS AU SEIN DES FEATURES\n",
    "filter = False\n",
    "\n",
    "if filter == True:\n",
    "    for i in range(df_filtered.columns.size-1):\n",
    "        label = df_filtered.columns[i]\n",
    "        df_filtered = df_filtered[(np.abs(df_filtered[label]-df_filtered[label].mean()) <= (2*df_filtered[label].std()))]\n",
    "\n",
    "    print(df_filtered.shape)\n",
    "\n",
    "\n",
    "#df_filtered=df_filtered[df_filtered['building_period']]"
   ]
  },
  {
   "cell_type": "code",
   "execution_count": 7,
   "id": "27652d21",
   "metadata": {
    "scrolled": true
   },
   "outputs": [
    {
     "name": "stdout",
     "output_type": "stream",
     "text": [
      "(1010604, 2)\n",
      "(909944, 2)\n",
      "(1010604, 39)\n",
      "(909944, 39)\n"
     ]
    }
   ],
   "source": [
    "X_train=df_filtered\n",
    "list_Xindex=X_train.index\n",
    "X_train.shape\n",
    "\n",
    "\n",
    "Y_train = df_labels.filter(items=list_Xindex, axis=0)\n",
    "\n",
    "#X_train = X_train.drop('level_0', axis=1)\n",
    "#Y_train = Y_train.drop('level_0', axis=1)\n",
    "\n",
    "\n",
    "#ON TRAITE LES OUTLIERS AU SEIN DES LABELS \"ENERGY CONSUMPTION\"\n",
    "\n",
    "print(Y_train.shape)\n",
    "Y_train = Y_train[(np.abs(Y_train['energy_consumption_per_annum']-Y_train['energy_consumption_per_annum'].mean()) <= (0.2*Y_train['energy_consumption_per_annum'].std()))]\n",
    "print(Y_train.shape)\n",
    "list_Yindex=Y_train.index\n",
    "\n",
    "print(X_train.shape)\n",
    "X_train = X_train.filter(items=list_Yindex, axis=0)\n",
    "print(X_train.shape)\n"
   ]
  },
  {
   "cell_type": "code",
   "execution_count": 76,
   "id": "1b340639",
   "metadata": {},
   "outputs": [
    {
     "data": {
      "text/plain": [
       "Index(['level_0', 'energy_consumption_per_annum'], dtype='object')"
      ]
     },
     "execution_count": 76,
     "metadata": {},
     "output_type": "execute_result"
    }
   ],
   "source": [
    "Y_train.columns"
   ]
  },
  {
   "cell_type": "code",
   "execution_count": 8,
   "id": "bb9466dc",
   "metadata": {
    "scrolled": true
   },
   "outputs": [
    {
     "name": "stdout",
     "output_type": "stream",
     "text": [
      "(909944, 38)\n",
      "(909944, 1)\n"
     ]
    }
   ],
   "source": [
    "X_train = X_train.drop('level_0', axis=1)\n",
    "Y_train = Y_train.drop('level_0', axis=1)\n",
    "\n",
    "Normalisation = False\n",
    "\n",
    "if Normalisation == True:\n",
    "    scaler = preprocessing.StandardScaler().fit(X_train)\n",
    "    X_train = scaler.transform(X_train)\n",
    "    scaler = preprocessing.StandardScaler().fit(Y_train)\n",
    "    Y_train = scaler.transform(Y_train)\n",
    "\n",
    "print(X_train.shape)\n",
    "print(Y_train.shape)\n",
    "\n",
    "X_train_train, X_train_test, Y_train_train, Y_train_test = train_test_split(X_train, Y_train, test_size=0.2)\n",
    "\n"
   ]
  },
  {
   "cell_type": "code",
   "execution_count": null,
   "id": "327c03e1",
   "metadata": {
    "scrolled": false
   },
   "outputs": [
    {
     "name": "stderr",
     "output_type": "stream",
     "text": [
      "/tmp/ipykernel_11652/417475556.py:6: DataConversionWarning: A column-vector y was passed when a 1d array was expected. Please change the shape of y to (n_samples,), for example using ravel().\n",
      "  model.fit(X_train_train, Y_train_train)\n"
     ]
    }
   ],
   "source": [
    "RandomForest = True\n",
    "GradientBoosting = False\n",
    "\n",
    "if (RandomForest == True):\n",
    "    model = RandomForestRegressor(n_estimators = 180, random_state = 0, max_depth=28)\n",
    "    model.fit(X_train_train, Y_train_train)\n",
    "    prediction = model.predict(X_train_test)\n",
    "    print(\"Fitting Random Forest :\")\n",
    "    print(explained_variance_score(Y_train_train, model.predict(X_train_train)))\n",
    "    print(\"Explained var Random Forest :\")\n",
    "    print(explained_variance_score(Y_train_test, prediction))\n",
    "\n",
    "#120, 15 : 53% /// 100, 10 : 70% \n",
    "\n",
    "if (GradientBoosting == True):\n",
    "    model = GradientBoostingRegressor(n_estimators = 100, random_state = 0, max_depth=10)\n",
    "    model.fit(X_train_train, Y_train_train)\n",
    "    prediction = model.predict(X_train_test)\n",
    "    print(\"Fitting Gradient Boosting :\")\n",
    "    print(explained_variance_score(Y_train_train, model.predict(X_train_train)))\n",
    "    print(\"Explained var Gradient Boosting :\")\n",
    "    print(explained_variance_score(Y_train_test, prediction))\n",
    "\n",
    "#print(model.score(X_train_test, Y_train_test))\n",
    "\n",
    "\n"
   ]
  },
  {
   "cell_type": "code",
   "execution_count": null,
   "id": "9ee57ae0",
   "metadata": {
    "scrolled": true
   },
   "outputs": [],
   "source": [
    "param_grid={'n_estimators':[5,7,10,20,40,100,150],\n",
    "           'max_depth':[5,10,15,20,25,30],\n",
    "           'learning_rate':[1,0.5,0.1,0.05]}\n",
    "model = RSCV(GradientBoostingRegressor(), param_grid, n_iter=10).fit(X_train, Y_train)\n",
    "\n",
    "params=model.best_params_\n",
    "model=model.best_estimator_\n",
    "\n",
    "print(params)"
   ]
  },
  {
   "cell_type": "code",
   "execution_count": 71,
   "id": "7235f4fa",
   "metadata": {},
   "outputs": [
    {
     "name": "stderr",
     "output_type": "stream",
     "text": [
      "/opt/conda/lib/python3.8/site-packages/sklearn/ensemble/_gb.py:570: DataConversionWarning: A column-vector y was passed when a 1d array was expected. Please change the shape of y to (n_samples, ), for example using ravel().\n",
      "  y = column_or_1d(y, warn=True)\n"
     ]
    },
    {
     "ename": "KeyboardInterrupt",
     "evalue": "",
     "output_type": "error",
     "traceback": [
      "\u001b[0;31m---------------------------------------------------------------------------\u001b[0m",
      "\u001b[0;31mKeyboardInterrupt\u001b[0m                         Traceback (most recent call last)",
      "Input \u001b[0;32mIn [71]\u001b[0m, in \u001b[0;36m<cell line: 2>\u001b[0;34m()\u001b[0m\n\u001b[1;32m      2\u001b[0m \u001b[38;5;28;01mif\u001b[39;00m (GradientBoosting \u001b[38;5;241m==\u001b[39m \u001b[38;5;28;01mTrue\u001b[39;00m):\n\u001b[1;32m      3\u001b[0m     \u001b[38;5;66;03m#20, 5, 0.1 : 98%, 44%\u001b[39;00m\n\u001b[1;32m      4\u001b[0m     \u001b[38;5;66;03m#150, 10, 0.1 : 99, 45\u001b[39;00m\n\u001b[1;32m      5\u001b[0m     model \u001b[38;5;241m=\u001b[39m GradientBoostingRegressor(n_estimators \u001b[38;5;241m=\u001b[39m \u001b[38;5;241m150\u001b[39m, random_state \u001b[38;5;241m=\u001b[39m \u001b[38;5;241m0\u001b[39m, max_depth\u001b[38;5;241m=\u001b[39m\u001b[38;5;241m17\u001b[39m, learning_rate\u001b[38;5;241m=\u001b[39m\u001b[38;5;241m0.1\u001b[39m)\n\u001b[0;32m----> 6\u001b[0m     \u001b[43mmodel\u001b[49m\u001b[38;5;241;43m.\u001b[39;49m\u001b[43mfit\u001b[49m\u001b[43m(\u001b[49m\u001b[43mX_train_train\u001b[49m\u001b[43m,\u001b[49m\u001b[43m \u001b[49m\u001b[43mY_train_train\u001b[49m\u001b[43m)\u001b[49m\n\u001b[1;32m      7\u001b[0m     prediction \u001b[38;5;241m=\u001b[39m model\u001b[38;5;241m.\u001b[39mpredict(X_train_test)\n\u001b[1;32m      8\u001b[0m     \u001b[38;5;28mprint\u001b[39m(\u001b[38;5;124m\"\u001b[39m\u001b[38;5;124mFitting Gradient Boosting :\u001b[39m\u001b[38;5;124m\"\u001b[39m)\n",
      "File \u001b[0;32m/opt/conda/lib/python3.8/site-packages/sklearn/ensemble/_gb.py:668\u001b[0m, in \u001b[0;36mBaseGradientBoosting.fit\u001b[0;34m(self, X, y, sample_weight, monitor)\u001b[0m\n\u001b[1;32m    665\u001b[0m     \u001b[38;5;28mself\u001b[39m\u001b[38;5;241m.\u001b[39m_resize_state()\n\u001b[1;32m    667\u001b[0m \u001b[38;5;66;03m# fit the boosting stages\u001b[39;00m\n\u001b[0;32m--> 668\u001b[0m n_stages \u001b[38;5;241m=\u001b[39m \u001b[38;5;28;43mself\u001b[39;49m\u001b[38;5;241;43m.\u001b[39;49m\u001b[43m_fit_stages\u001b[49m\u001b[43m(\u001b[49m\n\u001b[1;32m    669\u001b[0m \u001b[43m    \u001b[49m\u001b[43mX\u001b[49m\u001b[43m,\u001b[49m\n\u001b[1;32m    670\u001b[0m \u001b[43m    \u001b[49m\u001b[43my\u001b[49m\u001b[43m,\u001b[49m\n\u001b[1;32m    671\u001b[0m \u001b[43m    \u001b[49m\u001b[43mraw_predictions\u001b[49m\u001b[43m,\u001b[49m\n\u001b[1;32m    672\u001b[0m \u001b[43m    \u001b[49m\u001b[43msample_weight\u001b[49m\u001b[43m,\u001b[49m\n\u001b[1;32m    673\u001b[0m \u001b[43m    \u001b[49m\u001b[38;5;28;43mself\u001b[39;49m\u001b[38;5;241;43m.\u001b[39;49m\u001b[43m_rng\u001b[49m\u001b[43m,\u001b[49m\n\u001b[1;32m    674\u001b[0m \u001b[43m    \u001b[49m\u001b[43mX_val\u001b[49m\u001b[43m,\u001b[49m\n\u001b[1;32m    675\u001b[0m \u001b[43m    \u001b[49m\u001b[43my_val\u001b[49m\u001b[43m,\u001b[49m\n\u001b[1;32m    676\u001b[0m \u001b[43m    \u001b[49m\u001b[43msample_weight_val\u001b[49m\u001b[43m,\u001b[49m\n\u001b[1;32m    677\u001b[0m \u001b[43m    \u001b[49m\u001b[43mbegin_at_stage\u001b[49m\u001b[43m,\u001b[49m\n\u001b[1;32m    678\u001b[0m \u001b[43m    \u001b[49m\u001b[43mmonitor\u001b[49m\u001b[43m,\u001b[49m\n\u001b[1;32m    679\u001b[0m \u001b[43m\u001b[49m\u001b[43m)\u001b[49m\n\u001b[1;32m    681\u001b[0m \u001b[38;5;66;03m# change shape of arrays after fit (early-stopping or additional ests)\u001b[39;00m\n\u001b[1;32m    682\u001b[0m \u001b[38;5;28;01mif\u001b[39;00m n_stages \u001b[38;5;241m!=\u001b[39m \u001b[38;5;28mself\u001b[39m\u001b[38;5;241m.\u001b[39mestimators_\u001b[38;5;241m.\u001b[39mshape[\u001b[38;5;241m0\u001b[39m]:\n",
      "File \u001b[0;32m/opt/conda/lib/python3.8/site-packages/sklearn/ensemble/_gb.py:745\u001b[0m, in \u001b[0;36mBaseGradientBoosting._fit_stages\u001b[0;34m(self, X, y, raw_predictions, sample_weight, random_state, X_val, y_val, sample_weight_val, begin_at_stage, monitor)\u001b[0m\n\u001b[1;32m    738\u001b[0m     old_oob_score \u001b[38;5;241m=\u001b[39m loss_(\n\u001b[1;32m    739\u001b[0m         y[\u001b[38;5;241m~\u001b[39msample_mask],\n\u001b[1;32m    740\u001b[0m         raw_predictions[\u001b[38;5;241m~\u001b[39msample_mask],\n\u001b[1;32m    741\u001b[0m         sample_weight[\u001b[38;5;241m~\u001b[39msample_mask],\n\u001b[1;32m    742\u001b[0m     )\n\u001b[1;32m    744\u001b[0m \u001b[38;5;66;03m# fit next stage of trees\u001b[39;00m\n\u001b[0;32m--> 745\u001b[0m raw_predictions \u001b[38;5;241m=\u001b[39m \u001b[38;5;28;43mself\u001b[39;49m\u001b[38;5;241;43m.\u001b[39;49m\u001b[43m_fit_stage\u001b[49m\u001b[43m(\u001b[49m\n\u001b[1;32m    746\u001b[0m \u001b[43m    \u001b[49m\u001b[43mi\u001b[49m\u001b[43m,\u001b[49m\n\u001b[1;32m    747\u001b[0m \u001b[43m    \u001b[49m\u001b[43mX\u001b[49m\u001b[43m,\u001b[49m\n\u001b[1;32m    748\u001b[0m \u001b[43m    \u001b[49m\u001b[43my\u001b[49m\u001b[43m,\u001b[49m\n\u001b[1;32m    749\u001b[0m \u001b[43m    \u001b[49m\u001b[43mraw_predictions\u001b[49m\u001b[43m,\u001b[49m\n\u001b[1;32m    750\u001b[0m \u001b[43m    \u001b[49m\u001b[43msample_weight\u001b[49m\u001b[43m,\u001b[49m\n\u001b[1;32m    751\u001b[0m \u001b[43m    \u001b[49m\u001b[43msample_mask\u001b[49m\u001b[43m,\u001b[49m\n\u001b[1;32m    752\u001b[0m \u001b[43m    \u001b[49m\u001b[43mrandom_state\u001b[49m\u001b[43m,\u001b[49m\n\u001b[1;32m    753\u001b[0m \u001b[43m    \u001b[49m\u001b[43mX_csc\u001b[49m\u001b[43m,\u001b[49m\n\u001b[1;32m    754\u001b[0m \u001b[43m    \u001b[49m\u001b[43mX_csr\u001b[49m\u001b[43m,\u001b[49m\n\u001b[1;32m    755\u001b[0m \u001b[43m\u001b[49m\u001b[43m)\u001b[49m\n\u001b[1;32m    757\u001b[0m \u001b[38;5;66;03m# track deviance (= loss)\u001b[39;00m\n\u001b[1;32m    758\u001b[0m \u001b[38;5;28;01mif\u001b[39;00m do_oob:\n",
      "File \u001b[0;32m/opt/conda/lib/python3.8/site-packages/sklearn/ensemble/_gb.py:247\u001b[0m, in \u001b[0;36mBaseGradientBoosting._fit_stage\u001b[0;34m(self, i, X, y, raw_predictions, sample_weight, sample_mask, random_state, X_csc, X_csr)\u001b[0m\n\u001b[1;32m    244\u001b[0m     sample_weight \u001b[38;5;241m=\u001b[39m sample_weight \u001b[38;5;241m*\u001b[39m sample_mask\u001b[38;5;241m.\u001b[39mastype(np\u001b[38;5;241m.\u001b[39mfloat64)\n\u001b[1;32m    246\u001b[0m X \u001b[38;5;241m=\u001b[39m X_csr \u001b[38;5;28;01mif\u001b[39;00m X_csr \u001b[38;5;129;01mis\u001b[39;00m \u001b[38;5;129;01mnot\u001b[39;00m \u001b[38;5;28;01mNone\u001b[39;00m \u001b[38;5;28;01melse\u001b[39;00m X\n\u001b[0;32m--> 247\u001b[0m \u001b[43mtree\u001b[49m\u001b[38;5;241;43m.\u001b[39;49m\u001b[43mfit\u001b[49m\u001b[43m(\u001b[49m\u001b[43mX\u001b[49m\u001b[43m,\u001b[49m\u001b[43m \u001b[49m\u001b[43mresidual\u001b[49m\u001b[43m,\u001b[49m\u001b[43m \u001b[49m\u001b[43msample_weight\u001b[49m\u001b[38;5;241;43m=\u001b[39;49m\u001b[43msample_weight\u001b[49m\u001b[43m,\u001b[49m\u001b[43m \u001b[49m\u001b[43mcheck_input\u001b[49m\u001b[38;5;241;43m=\u001b[39;49m\u001b[38;5;28;43;01mFalse\u001b[39;49;00m\u001b[43m)\u001b[49m\n\u001b[1;32m    249\u001b[0m \u001b[38;5;66;03m# update tree leaves\u001b[39;00m\n\u001b[1;32m    250\u001b[0m loss\u001b[38;5;241m.\u001b[39mupdate_terminal_regions(\n\u001b[1;32m    251\u001b[0m     tree\u001b[38;5;241m.\u001b[39mtree_,\n\u001b[1;32m    252\u001b[0m     X,\n\u001b[0;32m   (...)\u001b[0m\n\u001b[1;32m    259\u001b[0m     k\u001b[38;5;241m=\u001b[39mk,\n\u001b[1;32m    260\u001b[0m )\n",
      "File \u001b[0;32m/opt/conda/lib/python3.8/site-packages/sklearn/tree/_classes.py:1342\u001b[0m, in \u001b[0;36mDecisionTreeRegressor.fit\u001b[0;34m(self, X, y, sample_weight, check_input)\u001b[0m\n\u001b[1;32m   1313\u001b[0m \u001b[38;5;28;01mdef\u001b[39;00m \u001b[38;5;21mfit\u001b[39m(\u001b[38;5;28mself\u001b[39m, X, y, sample_weight\u001b[38;5;241m=\u001b[39m\u001b[38;5;28;01mNone\u001b[39;00m, check_input\u001b[38;5;241m=\u001b[39m\u001b[38;5;28;01mTrue\u001b[39;00m):\n\u001b[1;32m   1314\u001b[0m     \u001b[38;5;124;03m\"\"\"Build a decision tree regressor from the training set (X, y).\u001b[39;00m\n\u001b[1;32m   1315\u001b[0m \n\u001b[1;32m   1316\u001b[0m \u001b[38;5;124;03m    Parameters\u001b[39;00m\n\u001b[0;32m   (...)\u001b[0m\n\u001b[1;32m   1339\u001b[0m \u001b[38;5;124;03m        Fitted estimator.\u001b[39;00m\n\u001b[1;32m   1340\u001b[0m \u001b[38;5;124;03m    \"\"\"\u001b[39;00m\n\u001b[0;32m-> 1342\u001b[0m     \u001b[38;5;28;43msuper\u001b[39;49m\u001b[43m(\u001b[49m\u001b[43m)\u001b[49m\u001b[38;5;241;43m.\u001b[39;49m\u001b[43mfit\u001b[49m\u001b[43m(\u001b[49m\n\u001b[1;32m   1343\u001b[0m \u001b[43m        \u001b[49m\u001b[43mX\u001b[49m\u001b[43m,\u001b[49m\n\u001b[1;32m   1344\u001b[0m \u001b[43m        \u001b[49m\u001b[43my\u001b[49m\u001b[43m,\u001b[49m\n\u001b[1;32m   1345\u001b[0m \u001b[43m        \u001b[49m\u001b[43msample_weight\u001b[49m\u001b[38;5;241;43m=\u001b[39;49m\u001b[43msample_weight\u001b[49m\u001b[43m,\u001b[49m\n\u001b[1;32m   1346\u001b[0m \u001b[43m        \u001b[49m\u001b[43mcheck_input\u001b[49m\u001b[38;5;241;43m=\u001b[39;49m\u001b[43mcheck_input\u001b[49m\u001b[43m,\u001b[49m\n\u001b[1;32m   1347\u001b[0m \u001b[43m    \u001b[49m\u001b[43m)\u001b[49m\n\u001b[1;32m   1348\u001b[0m     \u001b[38;5;28;01mreturn\u001b[39;00m \u001b[38;5;28mself\u001b[39m\n",
      "File \u001b[0;32m/opt/conda/lib/python3.8/site-packages/sklearn/tree/_classes.py:458\u001b[0m, in \u001b[0;36mBaseDecisionTree.fit\u001b[0;34m(self, X, y, sample_weight, check_input)\u001b[0m\n\u001b[1;32m    447\u001b[0m \u001b[38;5;28;01melse\u001b[39;00m:\n\u001b[1;32m    448\u001b[0m     builder \u001b[38;5;241m=\u001b[39m BestFirstTreeBuilder(\n\u001b[1;32m    449\u001b[0m         splitter,\n\u001b[1;32m    450\u001b[0m         min_samples_split,\n\u001b[0;32m   (...)\u001b[0m\n\u001b[1;32m    455\u001b[0m         \u001b[38;5;28mself\u001b[39m\u001b[38;5;241m.\u001b[39mmin_impurity_decrease,\n\u001b[1;32m    456\u001b[0m     )\n\u001b[0;32m--> 458\u001b[0m \u001b[43mbuilder\u001b[49m\u001b[38;5;241;43m.\u001b[39;49m\u001b[43mbuild\u001b[49m\u001b[43m(\u001b[49m\u001b[38;5;28;43mself\u001b[39;49m\u001b[38;5;241;43m.\u001b[39;49m\u001b[43mtree_\u001b[49m\u001b[43m,\u001b[49m\u001b[43m \u001b[49m\u001b[43mX\u001b[49m\u001b[43m,\u001b[49m\u001b[43m \u001b[49m\u001b[43my\u001b[49m\u001b[43m,\u001b[49m\u001b[43m \u001b[49m\u001b[43msample_weight\u001b[49m\u001b[43m)\u001b[49m\n\u001b[1;32m    460\u001b[0m \u001b[38;5;28;01mif\u001b[39;00m \u001b[38;5;28mself\u001b[39m\u001b[38;5;241m.\u001b[39mn_outputs_ \u001b[38;5;241m==\u001b[39m \u001b[38;5;241m1\u001b[39m \u001b[38;5;129;01mand\u001b[39;00m is_classifier(\u001b[38;5;28mself\u001b[39m):\n\u001b[1;32m    461\u001b[0m     \u001b[38;5;28mself\u001b[39m\u001b[38;5;241m.\u001b[39mn_classes_ \u001b[38;5;241m=\u001b[39m \u001b[38;5;28mself\u001b[39m\u001b[38;5;241m.\u001b[39mn_classes_[\u001b[38;5;241m0\u001b[39m]\n",
      "\u001b[0;31mKeyboardInterrupt\u001b[0m: "
     ]
    }
   ],
   "source": [
    "GradientBoosting = True\n",
    "if (GradientBoosting == True):\n",
    "    #20, 5, 0.1 : 98%, 44%\n",
    "    #150, 10, 0.1 : 99, 45\n",
    "    model = GradientBoostingRegressor(n_estimators = 150, random_state = 0, max_depth=17, learning_rate=0.1)\n",
    "    model.fit(X_train_train, Y_train_train)\n",
    "    prediction = model.predict(X_train_test)\n",
    "    print(\"Fitting Gradient Boosting :\")\n",
    "    print(explained_variance_score(Y_train_train, model.predict(X_train_train)))\n",
    "    print(\"Explained var Gradient Boosting :\")\n",
    "    print(explained_variance_score(Y_train_test, prediction))\n"
   ]
  },
  {
   "cell_type": "code",
   "execution_count": 26,
   "id": "296d91ed",
   "metadata": {},
   "outputs": [],
   "source": [
    "def preprocessing_test(df_test_submit):\n",
    "    \n",
    "    #ON DROP LES COLONNES JUGEES NON PERTINENTES\n",
    "    \n",
    "    liste_Tien = ['building_period','building_type','has_balcony','thermal_inertia']\n",
    "\n",
    "    list_col_objects=[]\n",
    "    \n",
    "    for i in range(70):\n",
    "        label = df.columns[i]\n",
    "        if (df_test_submit[label].dtype == 'object' and (label not in liste_Tien)):\n",
    "            list_col_objects.append(label)\n",
    "            df_test_submit=df_test_submit.drop(label, axis=1)\n",
    "\n",
    "    #ON DROP LES COLONNES AVEC TROP DE NULL VALUES PRESENTENT DANS LE TRAIN\n",
    "\n",
    "    null_val_train = ['nb_commercial_units', 'nb_gas_meters_commercial', 'nb_gas_meters_housing', 'nb_gas_meters_total', 'nb_housing_units', 'nb_meters', 'nb_parking_spaces', 'nb_power_meters_commercial', 'nb_power_meters_housing', 'nb_power_meters_total', 'nb_units_total', 'percentage_glazed_surfaced']\n",
    "\n",
    "    for label in null_val_train:\n",
    "        df_test_submit=df_test_submit.drop(label, axis=1)\n",
    "    \n",
    "    #ON TRANSFORME EN DUMMIES\n",
    "\n",
    "    list_bool_types = ['has_air_conditioning','solar_heating', 'solar_water_heating']\n",
    "    df_test_submit = pd.get_dummies(df_test_submit, columns=list_bool_types+ liste_Tien)\n",
    "    \n",
    "    #ON REMPLACE LES NaN par la moyenne de chaque colonne\n",
    "\n",
    "    Replace_Na = True\n",
    "\n",
    "    if Replace_Na == True:\n",
    "        df_test_submit=df_test_submit.fillna(df_test_submit.mean())\n",
    "\n",
    "    return df_test_submit;\n"
   ]
  },
  {
   "cell_type": "code",
   "execution_count": 12,
   "id": "152052ed",
   "metadata": {
    "scrolled": true
   },
   "outputs": [],
   "source": [
    "df_test_submit = pd.read_csv(\"test_features_sent.csv\")"
   ]
  },
  {
   "cell_type": "code",
   "execution_count": 27,
   "id": "9f287d83",
   "metadata": {
    "scrolled": true
   },
   "outputs": [],
   "source": [
    "ID_test = df_test_submit['level_0']\n",
    "X_test_submit = preprocessing_test(df_test_submit)\n"
   ]
  },
  {
   "cell_type": "code",
   "execution_count": null,
   "id": "76f1b39b",
   "metadata": {},
   "outputs": [],
   "source": [
    "prediction_submit = model.predict(X_test_submit)"
   ]
  },
  {
   "cell_type": "code",
   "execution_count": 197,
   "id": "c609a090",
   "metadata": {},
   "outputs": [
    {
     "data": {
      "text/html": [
       "<div>\n",
       "<style scoped>\n",
       "    .dataframe tbody tr th:only-of-type {\n",
       "        vertical-align: middle;\n",
       "    }\n",
       "\n",
       "    .dataframe tbody tr th {\n",
       "        vertical-align: top;\n",
       "    }\n",
       "\n",
       "    .dataframe thead th {\n",
       "        text-align: right;\n",
       "    }\n",
       "</style>\n",
       "<table border=\"1\" class=\"dataframe\">\n",
       "  <thead>\n",
       "    <tr style=\"text-align: right;\">\n",
       "      <th></th>\n",
       "      <th>RandomForest_fit</th>\n",
       "      <th>RandomForest_score</th>\n",
       "      <th>GradientBoosting_fit</th>\n",
       "      <th>GradientBoosting_score</th>\n",
       "    </tr>\n",
       "  </thead>\n",
       "  <tbody>\n",
       "  </tbody>\n",
       "</table>\n",
       "</div>"
      ],
      "text/plain": [
       "Empty DataFrame\n",
       "Columns: [RandomForest_fit, RandomForest_score, GradientBoosting_fit, GradientBoosting_score]\n",
       "Index: []"
      ]
     },
     "execution_count": 197,
     "metadata": {},
     "output_type": "execute_result"
    }
   ],
   "source": [
    "data = []\n",
    "data.append(['level_0','energy_consumption_per_annum'])\n",
    "\n",
    "for i in range(len(df_test_submit)):\n",
    "    data.append([ID_test[i],prediction_submit[i]])\n",
    "    \n",
    "with open ('submission.csv', 'w') as f:\n",
    "    writer = csv.writer(f)\n",
    "    writer.writerows(data)\n",
    "\n",
    "pd.read_csv('submission.csv')\n"
   ]
  },
  {
   "cell_type": "code",
   "execution_count": 13,
   "id": "c21516cd",
   "metadata": {},
   "outputs": [
    {
     "data": {
      "text/plain": [
       "Index(['level_0', 'altitude', 'area_code', 'building_height_ft',\n",
       "       'building_total_area_sqft', 'building_use_type_code', 'building_year',\n",
       "       'has_air_conditioning', 'living_area_sqft',\n",
       "       'lowe_floor_thermal_conductivity', 'nb_dwellings', 'nb_meters',\n",
       "       'outer_wall_thermal_conductivity', 'percentage_glazed_surfaced',\n",
       "       'post_code', 'solar_heating', 'solar_water_heating',\n",
       "       'upper_floor_thermal_conductivity', 'window_heat_retention_factor',\n",
       "       'window_thermal_conductivity'],\n",
       "      dtype='object')"
      ]
     },
     "execution_count": 13,
     "metadata": {},
     "output_type": "execute_result"
    }
   ],
   "source": [
    "df_filtered.columns\n"
   ]
  },
  {
   "cell_type": "code",
   "execution_count": 28,
   "id": "54af7d1f",
   "metadata": {},
   "outputs": [
    {
     "data": {
      "text/plain": [
       "451.8153959152429"
      ]
     },
     "execution_count": 28,
     "metadata": {},
     "output_type": "execute_result"
    }
   ],
   "source": [
    "df_filtered['altitude'].std()"
   ]
  },
  {
   "cell_type": "code",
   "execution_count": 24,
   "id": "dc484dbb",
   "metadata": {},
   "outputs": [
    {
     "data": {
      "text/plain": [
       "20"
      ]
     },
     "execution_count": 24,
     "metadata": {},
     "output_type": "execute_result"
    }
   ],
   "source": [
    "df_filtered.columns.size"
   ]
  },
  {
   "cell_type": "code",
   "execution_count": 32,
   "id": "d6dead5c",
   "metadata": {},
   "outputs": [
    {
     "data": {
      "text/plain": [
       "(45833, 20)"
      ]
     },
     "execution_count": 32,
     "metadata": {},
     "output_type": "execute_result"
    }
   ],
   "source": [
    "df_filtered.shape"
   ]
  },
  {
   "cell_type": "code",
   "execution_count": 52,
   "id": "0ddeb18c",
   "metadata": {},
   "outputs": [
    {
     "data": {
      "text/plain": [
       "Index(['level_0', 'additional_heat_generators', 'additional_water_heaters',\n",
       "       'altitude', 'area_code', 'balcony_depth', 'bearing_wall_material',\n",
       "       'building_category', 'building_class', 'building_height_ft',\n",
       "       'building_period', 'building_total_area_sqft', 'building_type',\n",
       "       'building_use_type_code', 'building_use_type_description',\n",
       "       'building_year', 'clay_risk_level', 'consumption_measurement_date',\n",
       "       'has_air_conditioning', 'has_balcony', 'heat_generators',\n",
       "       'heating_energy_source', 'heating_type', 'is_crossing_building',\n",
       "       'living_area_sqft', 'lowe_floor_thermal_conductivity',\n",
       "       'lower_floor_adjacency_type', 'lower_floor_insulation_type',\n",
       "       'lower_floor_material', 'main_heat_generators', 'main_heating_type',\n",
       "       'main_water_heaters', 'main_water_heating_type', 'nb_commercial_units',\n",
       "       'nb_dwellings', 'nb_gas_meters_commercial', 'nb_gas_meters_housing',\n",
       "       'nb_gas_meters_total', 'nb_housing_units', 'nb_meters',\n",
       "       'nb_parking_spaces', 'nb_power_meters_commercial',\n",
       "       'nb_power_meters_housing', 'nb_power_meters_total', 'nb_units_total',\n",
       "       'outer_wall_materials', 'outer_wall_thermal_conductivity',\n",
       "       'outer_wall_thickness', 'percentage_glazed_surfaced', 'post_code',\n",
       "       'radon_risk_level', 'renewable_energy_sources', 'roof_material',\n",
       "       'solar_heating', 'solar_water_heating', 'thermal_inertia',\n",
       "       'upper_floor_adjacency_type', 'upper_floor_insulation_type',\n",
       "       'upper_floor_material', 'upper_floor_thermal_conductivity',\n",
       "       'ventilation_type', 'wall_insulation_type', 'water_heaters',\n",
       "       'water_heating_energy_source', 'water_heating_type',\n",
       "       'window_filling_type', 'window_frame_material', 'window_glazing_type',\n",
       "       'window_heat_retention_factor', 'window_orientation',\n",
       "       'window_thermal_conductivity'],\n",
       "      dtype='object')"
      ]
     },
     "execution_count": 52,
     "metadata": {},
     "output_type": "execute_result"
    }
   ],
   "source": [
    "df.columns"
   ]
  },
  {
   "cell_type": "code",
   "execution_count": 54,
   "id": "ab25b954",
   "metadata": {
    "scrolled": true
   },
   "outputs": [
    {
     "data": {
      "text/plain": [
       "<bound method DataFrame.info of         level_0 additional_heat_generators additional_water_heaters  \\\n",
       "0        111323     [wood stove or insert]                      NaN   \n",
       "1        265182                         []                      NaN   \n",
       "2        927507                         []                      NaN   \n",
       "3        874620                         []                      NaN   \n",
       "4        563274                         []                      NaN   \n",
       "...         ...                        ...                      ...   \n",
       "149995   895433                         []                      NaN   \n",
       "149996  1203418                         []   electric water heating   \n",
       "149997  1452079                         []    gas condensing boiler   \n",
       "149998  1502661                         []                      NaN   \n",
       "149999  1060959                         []                      NaN   \n",
       "\n",
       "         altitude  area_code balcony_depth bearing_wall_material  \\\n",
       "0       328.08400        881           NaN              CONCRETE   \n",
       "1       360.89240        260           NaN                   NaN   \n",
       "2       324.80316        573           NaN          WOOD - OTHER   \n",
       "3       288.71392        204           NaN                BRICKS   \n",
       "4       849.73756        374           NaN             GRITSTONE   \n",
       "...           ...        ...           ...                   ...   \n",
       "149995  357.61156        867           NaN                BRICKS   \n",
       "149996   59.05512        471           NaN                   NaN   \n",
       "149997  442.91340        858           NaN           AGGLOMERATE   \n",
       "149998  314.96064        706           NaN                BRICKS   \n",
       "149999  442.91340        351           NaN           AGGLOMERATE   \n",
       "\n",
       "         building_category building_class  building_height_ft  ...  \\\n",
       "0                       []             []           13.779528  ...   \n",
       "1                  [condo]      [2 to 11]           43.635172  ...   \n",
       "2                       []             []           19.685040  ...   \n",
       "3                       []             []           13.779528  ...   \n",
       "4       [individual house]   [individual]           19.028872  ...   \n",
       "...                    ...            ...                 ...  ...   \n",
       "149995  [individual house]   [individual]            9.186352  ...   \n",
       "149996             [condo]      [2 to 11]           21.325460  ...   \n",
       "149997                  []             []           26.246720  ...   \n",
       "149998                  []             []           16.076116  ...   \n",
       "149999  [individual house]   [individual]           12.467192  ...   \n",
       "\n",
       "       wall_insulation_type                                     water_heaters  \\\n",
       "0                  internal                        [indeterminate oil boiler]   \n",
       "1                  internal                        [indeterminate gas boiler]   \n",
       "2                  internal                             [standard gas boiler]   \n",
       "3                  internal                           [electric storage tank]   \n",
       "4                  internal  [thermodynamic electric hot water (pac or tank)]   \n",
       "...                     ...                                               ...   \n",
       "149995             internal                        [indeterminate gas boiler]   \n",
       "149996        non insulated        [solar water heater,electric storage tank]   \n",
       "149997             internal        [solar water heater,gas condensing boiler]   \n",
       "149998             internal                        [indeterminate gas boiler]   \n",
       "149999        non insulated                           [electric storage tank]   \n",
       "\n",
       "                              water_heating_energy_source  water_heating_type  \\\n",
       "0                                                     oil          individual   \n",
       "1                                                     gas          individual   \n",
       "2                                                     gas          individual   \n",
       "3                                             electricity          individual   \n",
       "4       thermodynamic electric hot water (heat pump or...          individual   \n",
       "...                                                   ...                 ...   \n",
       "149995                                                gas          individual   \n",
       "149996                                        electricity          individual   \n",
       "149997                                                gas          collective   \n",
       "149998                                                gas          individual   \n",
       "149999                                        electricity          individual   \n",
       "\n",
       "       window_filling_type     window_frame_material window_glazing_type  \\\n",
       "0         argon or krypton                       pvc      double glazing   \n",
       "1         argon or krypton                      wood      double glazing   \n",
       "2                  dry air                       pvc      double glazing   \n",
       "3                      NaN  metal with thermal break      triple glazing   \n",
       "4                  dry air                       pvc      double glazing   \n",
       "...                    ...                       ...                 ...   \n",
       "149995             dry air                       pvc      double glazing   \n",
       "149996             dry air                       pvc      double glazing   \n",
       "149997             dry air                       pvc      double glazing   \n",
       "149998             dry air                       pvc      double glazing   \n",
       "149999                 NaN                      wood      single glazing   \n",
       "\n",
       "       window_heat_retention_factor  window_orientation  \\\n",
       "0                          1.116894          [est,west]   \n",
       "1                          1.133072      [est,west,sud]   \n",
       "2                          1.084204          [est,west]   \n",
       "3                          0.983338     [est,north,sud]   \n",
       "4                          1.084204         [north,sud]   \n",
       "...                             ...                 ...   \n",
       "149995                     1.084204      [est,west,sud]   \n",
       "149996                     1.116894               [est]   \n",
       "149997                     1.084204          [est,west]   \n",
       "149998                     1.084204          [est,west]   \n",
       "149999                     1.212343     [est,north,sud]   \n",
       "\n",
       "       window_thermal_conductivity  \n",
       "0                        15.347292  \n",
       "1                        17.512631  \n",
       "2                        16.779108  \n",
       "3                        12.630033  \n",
       "4                        13.290529  \n",
       "...                            ...  \n",
       "149995                   14.649374  \n",
       "149996                   13.963716  \n",
       "149997                   13.963716  \n",
       "149998                   13.290529  \n",
       "149999                   25.454839  \n",
       "\n",
       "[150000 rows x 71 columns]>"
      ]
     },
     "execution_count": 54,
     "metadata": {},
     "output_type": "execute_result"
    }
   ],
   "source": [
    "df.info"
   ]
  },
  {
   "cell_type": "code",
   "execution_count": 66,
   "id": "285c7a96",
   "metadata": {
    "scrolled": true
   },
   "outputs": [
    {
     "name": "stdout",
     "output_type": "stream",
     "text": [
      "['additional_water_heaters', 'balcony_depth', 'nb_commercial_units', 'nb_gas_meters_commercial', 'nb_gas_meters_housing', 'nb_gas_meters_total', 'nb_housing_units', 'nb_parking_spaces', 'nb_power_meters_commercial', 'nb_power_meters_housing', 'nb_power_meters_total', 'nb_units_total', 'renewable_energy_sources']\n",
      "Index(['level_0', 'altitude', 'area_code', 'building_height_ft',\n",
      "       'building_total_area_sqft', 'building_use_type_code', 'building_year',\n",
      "       'has_air_conditioning', 'living_area_sqft',\n",
      "       'lowe_floor_thermal_conductivity', 'nb_dwellings', 'nb_meters',\n",
      "       'outer_wall_thermal_conductivity', 'percentage_glazed_surfaced',\n",
      "       'post_code', 'solar_heating', 'solar_water_heating',\n",
      "       'upper_floor_thermal_conductivity', 'window_heat_retention_factor',\n",
      "       'window_thermal_conductivity'],\n",
      "      dtype='object')\n"
     ]
    }
   ],
   "source": [
    "null_val = df.isnull().sum()\n",
    "#print(null_val)\n",
    "\n",
    "list_col_Na = []\n",
    "for i in range(null_val.size-1):\n",
    "        label = null_val.index[i]\n",
    "        if (null_val[i]>100000):\n",
    "            list_col_Na.append(label)\n",
    "            #df_filtered=df_filtered.drop(label, axis=1)\n",
    "\n",
    "print(list_col_Na)\n",
    "print(df_filtered.columns)"
   ]
  },
  {
   "cell_type": "code",
   "execution_count": 111,
   "id": "71df44ca",
   "metadata": {},
   "outputs": [],
   "source": [
    "liste_Tien = ['building_period','building_type','has_balcony','thermal_inertia','window_filling_type',]\n",
    "\n",
    "\n",
    "\n",
    "liste = ['heating_energy_source','main_heating_type',\n",
    " 'main_water_heaters',\n",
    " 'main_water_heating_type',\n",
    " 'water_heaters',\n",
    " 'outer_wall_materials',\n",
    " 'upper_floor_material',\n",
    " 'ventilation_type',\n",
    " 'water_heating_energy_source',\n",
    " 'consumption_measurement_date',\n",
    " 'additional_heat_generators',\n",
    " 'additional_water_heaters',\n",
    " 'main_heat_generators',\n",
    " 'window_frame_material']\n"
   ]
  },
  {
   "cell_type": "code",
   "execution_count": 128,
   "id": "19e76798",
   "metadata": {
    "scrolled": true
   },
   "outputs": [
    {
     "data": {
      "text/plain": [
       "array(['high', 'very high', 'low', 'medium'], dtype=object)"
      ]
     },
     "execution_count": 128,
     "metadata": {},
     "output_type": "execute_result"
    }
   ],
   "source": [
    "df['thermal_inertia'].unique()"
   ]
  },
  {
   "cell_type": "code",
   "execution_count": 129,
   "id": "6340c50c",
   "metadata": {
    "scrolled": true
   },
   "outputs": [
    {
     "data": {
      "text/plain": [
       "1970-1988    50403\n",
       "<1948        25097\n",
       "1949-1970    19584\n",
       "2006-2012    19474\n",
       "1989-1999    16876\n",
       "2000-2005    15555\n",
       ">2012         2997\n",
       "bad sup         14\n",
       "Name: building_period, dtype: int64"
      ]
     },
     "execution_count": 129,
     "metadata": {},
     "output_type": "execute_result"
    }
   ],
   "source": [
    "df['building_period'].value_counts()"
   ]
  },
  {
   "cell_type": "code",
   "execution_count": 88,
   "id": "38b9c502",
   "metadata": {},
   "outputs": [
    {
     "data": {
      "text/plain": [
       "(58025, 20)"
      ]
     },
     "execution_count": 88,
     "metadata": {},
     "output_type": "execute_result"
    }
   ],
   "source": [
    "df_filtered.shape"
   ]
  },
  {
   "cell_type": "code",
   "execution_count": null,
   "id": "f5603aba",
   "metadata": {},
   "outputs": [],
   "source": [
    "def transform(df, liste):\n",
    "    for x in liste:\n",
    "        list_value = [y for y in df[x].unique() if y is not np.nan]\n",
    "        dict_value = {y:y for y in list_value}\n",
    "        df[x] = df[x].map(dict_value)\n",
    "        df = pd.get_dummies(df, columns=[x], prefix=f'{x}-', prefix_sep='')\n",
    "    return df\n",
    "\n",
    "transform(df, liste)\n",
    "\n",
    "Fonction qui prend en paramètre le dataframe et la liste que j'ai envoyé ci-dessus, pour les transformer en catégorie"
   ]
  },
  {
   "cell_type": "code",
   "execution_count": 104,
   "id": "3aa08dc2",
   "metadata": {
    "scrolled": true
   },
   "outputs": [
    {
     "data": {
      "text/plain": [
       "0         1970-1988\n",
       "1             <1948\n",
       "2         2000-2005\n",
       "3             <1948\n",
       "4         2006-2012\n",
       "            ...    \n",
       "149995    1970-1988\n",
       "149996    1949-1970\n",
       "149997    1970-1988\n",
       "149998    2000-2005\n",
       "149999        <1948\n",
       "Name: building_period, Length: 149986, dtype: object"
      ]
     },
     "execution_count": 104,
     "metadata": {},
     "output_type": "execute_result"
    }
   ],
   "source": []
  },
  {
   "cell_type": "code",
   "execution_count": 202,
   "id": "ef87cb0c",
   "metadata": {
    "scrolled": true
   },
   "outputs": [
    {
     "name": "stdout",
     "output_type": "stream",
     "text": [
      "<class 'pandas.core.frame.DataFrame'>\n",
      "Int64Index: 19999 entries, 0 to 19999\n",
      "Data columns (total 52 columns):\n",
      " #   Column                                Non-Null Count  Dtype  \n",
      "---  ------                                --------------  -----  \n",
      " 0   level_0                               19999 non-null  int64  \n",
      " 1   altitude                              19655 non-null  float64\n",
      " 2   area_code                             19999 non-null  int64  \n",
      " 3   building_height_ft                    19691 non-null  float64\n",
      " 4   building_total_area_sqft              18803 non-null  float64\n",
      " 5   building_use_type_code                19999 non-null  int64  \n",
      " 6   building_year                         18826 non-null  float64\n",
      " 7   living_area_sqft                      19999 non-null  float64\n",
      " 8   lowe_floor_thermal_conductivity       18499 non-null  float64\n",
      " 9   nb_commercial_units                   2305 non-null   float64\n",
      " 10  nb_dwellings                          19999 non-null  int64  \n",
      " 11  nb_gas_meters_commercial              633 non-null    float64\n",
      " 12  nb_gas_meters_housing                 633 non-null    float64\n",
      " 13  nb_gas_meters_total                   633 non-null    float64\n",
      " 14  nb_housing_units                      2305 non-null   float64\n",
      " 15  nb_meters                             12424 non-null  float64\n",
      " 16  nb_parking_spaces                     2305 non-null   float64\n",
      " 17  nb_power_meters_commercial            1894 non-null   float64\n",
      " 18  nb_power_meters_housing               1894 non-null   float64\n",
      " 19  nb_power_meters_total                 1894 non-null   float64\n",
      " 20  nb_units_total                        2305 non-null   float64\n",
      " 21  outer_wall_thermal_conductivity       19878 non-null  float64\n",
      " 22  percentage_glazed_surfaced            17425 non-null  float64\n",
      " 23  post_code                             19999 non-null  int64  \n",
      " 24  upper_floor_thermal_conductivity      19086 non-null  float64\n",
      " 25  window_heat_retention_factor          19582 non-null  float64\n",
      " 26  window_thermal_conductivity           19898 non-null  float64\n",
      " 27  has_air_conditioning_False            19999 non-null  uint8  \n",
      " 28  has_air_conditioning_True             19999 non-null  uint8  \n",
      " 29  solar_heating_False                   19999 non-null  uint8  \n",
      " 30  solar_heating_True                    19999 non-null  uint8  \n",
      " 31  solar_water_heating_False             19999 non-null  uint8  \n",
      " 32  solar_water_heating_True              19999 non-null  uint8  \n",
      " 33  building_period_1949-1970             19999 non-null  uint8  \n",
      " 34  building_period_1970-1988             19999 non-null  uint8  \n",
      " 35  building_period_1989-1999             19999 non-null  uint8  \n",
      " 36  building_period_2000-2005             19999 non-null  uint8  \n",
      " 37  building_period_2006-2012             19999 non-null  uint8  \n",
      " 38  building_period_<1948                 19999 non-null  uint8  \n",
      " 39  building_period_>2012                 19999 non-null  uint8  \n",
      " 40  building_type_Flat                    19999 non-null  uint8  \n",
      " 41  building_type_House                   19999 non-null  uint8  \n",
      " 42  building_type_Multiple dwellings      19999 non-null  uint8  \n",
      " 43  building_type_Non-residential         19999 non-null  uint8  \n",
      " 44  has_balcony_False                     19999 non-null  uint8  \n",
      " 45  has_balcony_True                      19999 non-null  uint8  \n",
      " 46  thermal_inertia_high                  19999 non-null  uint8  \n",
      " 47  thermal_inertia_low                   19999 non-null  uint8  \n",
      " 48  thermal_inertia_medium                19999 non-null  uint8  \n",
      " 49  thermal_inertia_very high             19999 non-null  uint8  \n",
      " 50  window_filling_type_argon or krypton  19999 non-null  uint8  \n",
      " 51  window_filling_type_dry air           19999 non-null  uint8  \n",
      "dtypes: float64(22), int64(5), uint8(25)\n",
      "memory usage: 4.7 MB\n"
     ]
    }
   ],
   "source": [
    "df_filtered.info()"
   ]
  },
  {
   "cell_type": "code",
   "execution_count": 217,
   "id": "035d1a7c",
   "metadata": {},
   "outputs": [
    {
     "name": "stdout",
     "output_type": "stream",
     "text": [
      "<class 'pandas.core.frame.DataFrame'>\n",
      "Int64Index: 19999 entries, 0 to 19999\n",
      "Data columns (total 35 columns):\n",
      " #   Column                            Non-Null Count  Dtype  \n",
      "---  ------                            --------------  -----  \n",
      " 0   level_0                           19999 non-null  int64  \n",
      " 1   altitude                          19655 non-null  float64\n",
      " 2   area_code                         19999 non-null  int64  \n",
      " 3   building_height_ft                19691 non-null  float64\n",
      " 4   building_period                   19999 non-null  object \n",
      " 5   building_total_area_sqft          18803 non-null  float64\n",
      " 6   building_type                     19999 non-null  object \n",
      " 7   building_use_type_code            19999 non-null  int64  \n",
      " 8   building_year                     18826 non-null  float64\n",
      " 9   has_air_conditioning              19999 non-null  bool   \n",
      " 10  has_balcony                       19995 non-null  object \n",
      " 11  living_area_sqft                  19999 non-null  float64\n",
      " 12  lowe_floor_thermal_conductivity   18499 non-null  float64\n",
      " 13  nb_commercial_units               2305 non-null   float64\n",
      " 14  nb_dwellings                      19999 non-null  int64  \n",
      " 15  nb_gas_meters_commercial          633 non-null    float64\n",
      " 16  nb_gas_meters_housing             633 non-null    float64\n",
      " 17  nb_gas_meters_total               633 non-null    float64\n",
      " 18  nb_housing_units                  2305 non-null   float64\n",
      " 19  nb_meters                         12424 non-null  float64\n",
      " 20  nb_parking_spaces                 2305 non-null   float64\n",
      " 21  nb_power_meters_commercial        1894 non-null   float64\n",
      " 22  nb_power_meters_housing           1894 non-null   float64\n",
      " 23  nb_power_meters_total             1894 non-null   float64\n",
      " 24  nb_units_total                    2305 non-null   float64\n",
      " 25  outer_wall_thermal_conductivity   19878 non-null  float64\n",
      " 26  percentage_glazed_surfaced        17425 non-null  float64\n",
      " 27  post_code                         19999 non-null  int64  \n",
      " 28  solar_heating                     19999 non-null  bool   \n",
      " 29  solar_water_heating               19999 non-null  bool   \n",
      " 30  thermal_inertia                   19999 non-null  object \n",
      " 31  upper_floor_thermal_conductivity  19086 non-null  float64\n",
      " 32  window_filling_type               15714 non-null  object \n",
      " 33  window_heat_retention_factor      19582 non-null  float64\n",
      " 34  window_thermal_conductivity       19898 non-null  float64\n",
      "dtypes: bool(3), float64(22), int64(5), object(5)\n",
      "memory usage: 5.1+ MB\n"
     ]
    }
   ],
   "source": [
    "df_filtered.info()"
   ]
  },
  {
   "cell_type": "code",
   "execution_count": 223,
   "id": "b898ca7b",
   "metadata": {},
   "outputs": [
    {
     "data": {
      "text/plain": [
       "20000"
      ]
     },
     "execution_count": 223,
     "metadata": {},
     "output_type": "execute_result"
    }
   ],
   "source": [
    "df.shape[0]\n"
   ]
  }
 ],
 "metadata": {
  "kernelspec": {
   "display_name": "Python 3 (ipykernel)",
   "language": "python",
   "name": "python3"
  },
  "language_info": {
   "codemirror_mode": {
    "name": "ipython",
    "version": 3
   },
   "file_extension": ".py",
   "mimetype": "text/x-python",
   "name": "python",
   "nbconvert_exporter": "python",
   "pygments_lexer": "ipython3",
   "version": "3.10.6"
  }
 },
 "nbformat": 4,
 "nbformat_minor": 5
}
