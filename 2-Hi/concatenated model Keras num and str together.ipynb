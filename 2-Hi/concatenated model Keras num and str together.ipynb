{
 "cells": [
  {
   "cell_type": "markdown",
   "id": "90631c5a",
   "metadata": {},
   "source": [
    "# Importation"
   ]
  },
  {
   "cell_type": "code",
   "execution_count": 1,
   "id": "87476dc9",
   "metadata": {},
   "outputs": [],
   "source": [
    "import numpy as np\n",
    "import pandas as pd\n",
    "import json\n",
    "import xgboost as xgb"
   ]
  },
  {
   "cell_type": "code",
   "execution_count": 2,
   "id": "b90b3cae",
   "metadata": {},
   "outputs": [],
   "source": [
    "import matplotlib.pyplot as plt\n",
    "import numpy as np\n",
    "import pandas as pd"
   ]
  },
  {
   "cell_type": "code",
   "execution_count": 3,
   "id": "815c2392",
   "metadata": {},
   "outputs": [
    {
     "name": "stderr",
     "output_type": "stream",
     "text": [
      "2023-01-17 00:20:33.328048: I tensorflow/core/platform/cpu_feature_guard.cc:193] This TensorFlow binary is optimized with oneAPI Deep Neural Network Library (oneDNN) to use the following CPU instructions in performance-critical operations:  AVX2 FMA\n",
      "To enable them in other operations, rebuild TensorFlow with the appropriate compiler flags.\n",
      "2023-01-17 00:20:33.491400: W tensorflow/compiler/xla/stream_executor/platform/default/dso_loader.cc:64] Could not load dynamic library 'libcudart.so.11.0'; dlerror: libcudart.so.11.0: cannot open shared object file: No such file or directory\n",
      "2023-01-17 00:20:33.491418: I tensorflow/compiler/xla/stream_executor/cuda/cudart_stub.cc:29] Ignore above cudart dlerror if you do not have a GPU set up on your machine.\n",
      "2023-01-17 00:20:34.198798: W tensorflow/compiler/xla/stream_executor/platform/default/dso_loader.cc:64] Could not load dynamic library 'libnvinfer.so.7'; dlerror: libnvinfer.so.7: cannot open shared object file: No such file or directory\n",
      "2023-01-17 00:20:34.198890: W tensorflow/compiler/xla/stream_executor/platform/default/dso_loader.cc:64] Could not load dynamic library 'libnvinfer_plugin.so.7'; dlerror: libnvinfer_plugin.so.7: cannot open shared object file: No such file or directory\n",
      "2023-01-17 00:20:34.198897: W tensorflow/compiler/tf2tensorrt/utils/py_utils.cc:38] TF-TRT Warning: Cannot dlopen some TensorRT libraries. If you would like to use Nvidia GPU with TensorRT, please make sure the missing libraries mentioned above are installed properly.\n"
     ]
    }
   ],
   "source": [
    "import tensorflow as tf\n",
    "\n",
    "from tensorflow import keras\n",
    "from tensorflow.keras import layers"
   ]
  },
  {
   "cell_type": "markdown",
   "id": "359862a0",
   "metadata": {},
   "source": [
    "# Création de données"
   ]
  },
  {
   "cell_type": "code",
   "execution_count": 4,
   "id": "7d174c64",
   "metadata": {},
   "outputs": [],
   "source": [
    "path = \"datasets/\""
   ]
  },
  {
   "cell_type": "code",
   "execution_count": 22,
   "id": "e4fe1468",
   "metadata": {
    "scrolled": false
   },
   "outputs": [
    {
     "data": {
      "text/plain": [
       "array([290.16634516, 169.81819677, 144.49971149, ..., 311.68110342,\n",
       "       340.53874701, 310.07906932])"
      ]
     },
     "execution_count": 22,
     "metadata": {},
     "output_type": "execute_result"
    }
   ],
   "source": [
    "outputs = pd.read_csv(path+\"train/train_labels_sent.csv\").to_numpy().T[1]\n",
    "condition = np.logical_and((outputs>70), (outputs<450))\n",
    "outputs = outputs[condition]\n",
    "outputs"
   ]
  },
  {
   "cell_type": "code",
   "execution_count": 23,
   "id": "e5cb9042",
   "metadata": {
    "scrolled": true
   },
   "outputs": [
    {
     "name": "stderr",
     "output_type": "stream",
     "text": [
      "/tmp/ipykernel_18935/519322580.py:1: DtypeWarning: Columns (19) have mixed types. Specify dtype option on import or set low_memory=False.\n",
      "  df = pd.read_csv(path + \"train/train_features_sent.csv\")\n"
     ]
    },
    {
     "data": {
      "text/html": [
       "<div>\n",
       "<style scoped>\n",
       "    .dataframe tbody tr th:only-of-type {\n",
       "        vertical-align: middle;\n",
       "    }\n",
       "\n",
       "    .dataframe tbody tr th {\n",
       "        vertical-align: top;\n",
       "    }\n",
       "\n",
       "    .dataframe thead th {\n",
       "        text-align: right;\n",
       "    }\n",
       "</style>\n",
       "<table border=\"1\" class=\"dataframe\">\n",
       "  <thead>\n",
       "    <tr style=\"text-align: right;\">\n",
       "      <th></th>\n",
       "      <th>level_0</th>\n",
       "      <th>additional_heat_generators</th>\n",
       "      <th>additional_water_heaters</th>\n",
       "      <th>altitude</th>\n",
       "      <th>area_code</th>\n",
       "      <th>balcony_depth</th>\n",
       "      <th>bearing_wall_material</th>\n",
       "      <th>building_category</th>\n",
       "      <th>building_class</th>\n",
       "      <th>building_height_ft</th>\n",
       "      <th>...</th>\n",
       "      <th>wall_insulation_type</th>\n",
       "      <th>water_heaters</th>\n",
       "      <th>water_heating_energy_source</th>\n",
       "      <th>water_heating_type</th>\n",
       "      <th>window_filling_type</th>\n",
       "      <th>window_frame_material</th>\n",
       "      <th>window_glazing_type</th>\n",
       "      <th>window_heat_retention_factor</th>\n",
       "      <th>window_orientation</th>\n",
       "      <th>window_thermal_conductivity</th>\n",
       "    </tr>\n",
       "  </thead>\n",
       "  <tbody>\n",
       "    <tr>\n",
       "      <th>0</th>\n",
       "      <td>111323</td>\n",
       "      <td>[wood stove or insert]</td>\n",
       "      <td>NaN</td>\n",
       "      <td>328.08400</td>\n",
       "      <td>881</td>\n",
       "      <td>NaN</td>\n",
       "      <td>CONCRETE</td>\n",
       "      <td>[]</td>\n",
       "      <td>[]</td>\n",
       "      <td>13.779528</td>\n",
       "      <td>...</td>\n",
       "      <td>internal</td>\n",
       "      <td>[indeterminate oil boiler]</td>\n",
       "      <td>oil</td>\n",
       "      <td>individual</td>\n",
       "      <td>argon or krypton</td>\n",
       "      <td>pvc</td>\n",
       "      <td>double glazing</td>\n",
       "      <td>1.116894</td>\n",
       "      <td>[est,west]</td>\n",
       "      <td>15.347292</td>\n",
       "    </tr>\n",
       "    <tr>\n",
       "      <th>1</th>\n",
       "      <td>265182</td>\n",
       "      <td>[]</td>\n",
       "      <td>NaN</td>\n",
       "      <td>360.89240</td>\n",
       "      <td>260</td>\n",
       "      <td>NaN</td>\n",
       "      <td>NaN</td>\n",
       "      <td>[condo]</td>\n",
       "      <td>[2 to 11]</td>\n",
       "      <td>43.635172</td>\n",
       "      <td>...</td>\n",
       "      <td>internal</td>\n",
       "      <td>[indeterminate gas boiler]</td>\n",
       "      <td>gas</td>\n",
       "      <td>individual</td>\n",
       "      <td>argon or krypton</td>\n",
       "      <td>wood</td>\n",
       "      <td>double glazing</td>\n",
       "      <td>1.133072</td>\n",
       "      <td>[est,west,sud]</td>\n",
       "      <td>17.512631</td>\n",
       "    </tr>\n",
       "    <tr>\n",
       "      <th>2</th>\n",
       "      <td>927507</td>\n",
       "      <td>[]</td>\n",
       "      <td>NaN</td>\n",
       "      <td>324.80316</td>\n",
       "      <td>573</td>\n",
       "      <td>NaN</td>\n",
       "      <td>WOOD - OTHER</td>\n",
       "      <td>[]</td>\n",
       "      <td>[]</td>\n",
       "      <td>19.685040</td>\n",
       "      <td>...</td>\n",
       "      <td>internal</td>\n",
       "      <td>[standard gas boiler]</td>\n",
       "      <td>gas</td>\n",
       "      <td>individual</td>\n",
       "      <td>dry air</td>\n",
       "      <td>pvc</td>\n",
       "      <td>double glazing</td>\n",
       "      <td>1.084204</td>\n",
       "      <td>[est,west]</td>\n",
       "      <td>16.779108</td>\n",
       "    </tr>\n",
       "    <tr>\n",
       "      <th>3</th>\n",
       "      <td>874620</td>\n",
       "      <td>[]</td>\n",
       "      <td>NaN</td>\n",
       "      <td>288.71392</td>\n",
       "      <td>204</td>\n",
       "      <td>NaN</td>\n",
       "      <td>BRICKS</td>\n",
       "      <td>[]</td>\n",
       "      <td>[]</td>\n",
       "      <td>13.779528</td>\n",
       "      <td>...</td>\n",
       "      <td>internal</td>\n",
       "      <td>[electric storage tank]</td>\n",
       "      <td>electricity</td>\n",
       "      <td>individual</td>\n",
       "      <td>NaN</td>\n",
       "      <td>metal with thermal break</td>\n",
       "      <td>triple glazing</td>\n",
       "      <td>0.983338</td>\n",
       "      <td>[est,north,sud]</td>\n",
       "      <td>12.630033</td>\n",
       "    </tr>\n",
       "    <tr>\n",
       "      <th>4</th>\n",
       "      <td>563274</td>\n",
       "      <td>[]</td>\n",
       "      <td>NaN</td>\n",
       "      <td>849.73756</td>\n",
       "      <td>374</td>\n",
       "      <td>NaN</td>\n",
       "      <td>GRITSTONE</td>\n",
       "      <td>[individual house]</td>\n",
       "      <td>[individual]</td>\n",
       "      <td>19.028872</td>\n",
       "      <td>...</td>\n",
       "      <td>internal</td>\n",
       "      <td>[thermodynamic electric hot water (pac or tank)]</td>\n",
       "      <td>thermodynamic electric hot water (heat pump or...</td>\n",
       "      <td>individual</td>\n",
       "      <td>dry air</td>\n",
       "      <td>pvc</td>\n",
       "      <td>double glazing</td>\n",
       "      <td>1.084204</td>\n",
       "      <td>[north,sud]</td>\n",
       "      <td>13.290529</td>\n",
       "    </tr>\n",
       "    <tr>\n",
       "      <th>...</th>\n",
       "      <td>...</td>\n",
       "      <td>...</td>\n",
       "      <td>...</td>\n",
       "      <td>...</td>\n",
       "      <td>...</td>\n",
       "      <td>...</td>\n",
       "      <td>...</td>\n",
       "      <td>...</td>\n",
       "      <td>...</td>\n",
       "      <td>...</td>\n",
       "      <td>...</td>\n",
       "      <td>...</td>\n",
       "      <td>...</td>\n",
       "      <td>...</td>\n",
       "      <td>...</td>\n",
       "      <td>...</td>\n",
       "      <td>...</td>\n",
       "      <td>...</td>\n",
       "      <td>...</td>\n",
       "      <td>...</td>\n",
       "      <td>...</td>\n",
       "    </tr>\n",
       "    <tr>\n",
       "      <th>1010679</th>\n",
       "      <td>84908</td>\n",
       "      <td>[]</td>\n",
       "      <td>gas condensing boiler</td>\n",
       "      <td>1591.20740</td>\n",
       "      <td>671</td>\n",
       "      <td>NaN</td>\n",
       "      <td>GRITSTONE</td>\n",
       "      <td>[individual house]</td>\n",
       "      <td>[individual]</td>\n",
       "      <td>17.060368</td>\n",
       "      <td>...</td>\n",
       "      <td>internal</td>\n",
       "      <td>[solar water heater,gas condensing boiler]</td>\n",
       "      <td>gas</td>\n",
       "      <td>collective</td>\n",
       "      <td>dry air</td>\n",
       "      <td>wood</td>\n",
       "      <td>double glazing</td>\n",
       "      <td>1.133072</td>\n",
       "      <td>[est,west]</td>\n",
       "      <td>14.649374</td>\n",
       "    </tr>\n",
       "    <tr>\n",
       "      <th>1010680</th>\n",
       "      <td>997676</td>\n",
       "      <td>[]</td>\n",
       "      <td>NaN</td>\n",
       "      <td>688.97640</td>\n",
       "      <td>345</td>\n",
       "      <td>&lt; 1 m</td>\n",
       "      <td>INDETERMINED</td>\n",
       "      <td>[]</td>\n",
       "      <td>[]</td>\n",
       "      <td>26.246720</td>\n",
       "      <td>...</td>\n",
       "      <td>internal</td>\n",
       "      <td>[electric storage tank]</td>\n",
       "      <td>electricity</td>\n",
       "      <td>individual</td>\n",
       "      <td>NaN</td>\n",
       "      <td>pvc</td>\n",
       "      <td>double glazing</td>\n",
       "      <td>1.000450</td>\n",
       "      <td>[west,sud]</td>\n",
       "      <td>11.348055</td>\n",
       "    </tr>\n",
       "    <tr>\n",
       "      <th>1010681</th>\n",
       "      <td>311831</td>\n",
       "      <td>[standard gas boiler]</td>\n",
       "      <td>NaN</td>\n",
       "      <td>2805.11820</td>\n",
       "      <td>205</td>\n",
       "      <td>NaN</td>\n",
       "      <td>NaN</td>\n",
       "      <td>[individual house]</td>\n",
       "      <td>[individual]</td>\n",
       "      <td>22.637796</td>\n",
       "      <td>...</td>\n",
       "      <td>internal</td>\n",
       "      <td>[wood boiler]</td>\n",
       "      <td>wood</td>\n",
       "      <td>individual</td>\n",
       "      <td>argon or krypton</td>\n",
       "      <td>pvc</td>\n",
       "      <td>double glazing</td>\n",
       "      <td>0.983338</td>\n",
       "      <td>[est,north,west,sud]</td>\n",
       "      <td>11.982461</td>\n",
       "    </tr>\n",
       "    <tr>\n",
       "      <th>1010682</th>\n",
       "      <td>789794</td>\n",
       "      <td>[]</td>\n",
       "      <td>NaN</td>\n",
       "      <td>708.66144</td>\n",
       "      <td>451</td>\n",
       "      <td>NaN</td>\n",
       "      <td>STONE</td>\n",
       "      <td>[]</td>\n",
       "      <td>[]</td>\n",
       "      <td>19.685040</td>\n",
       "      <td>...</td>\n",
       "      <td>non insulated</td>\n",
       "      <td>[indeterminate oil boiler]</td>\n",
       "      <td>oil</td>\n",
       "      <td>individual</td>\n",
       "      <td>argon or krypton</td>\n",
       "      <td>pvc</td>\n",
       "      <td>double glazing</td>\n",
       "      <td>1.084204</td>\n",
       "      <td>[est,north,west,sud]</td>\n",
       "      <td>16.779108</td>\n",
       "    </tr>\n",
       "    <tr>\n",
       "      <th>1010683</th>\n",
       "      <td>31221</td>\n",
       "      <td>[]</td>\n",
       "      <td>electric water heating</td>\n",
       "      <td>643.04464</td>\n",
       "      <td>191</td>\n",
       "      <td>NaN</td>\n",
       "      <td>BRICKS - STONE</td>\n",
       "      <td>[individual house]</td>\n",
       "      <td>[individual]</td>\n",
       "      <td>27.230972</td>\n",
       "      <td>...</td>\n",
       "      <td>internal</td>\n",
       "      <td>[solar water heater,electric storage tank]</td>\n",
       "      <td>electricity</td>\n",
       "      <td>individual</td>\n",
       "      <td>dry air</td>\n",
       "      <td>pvc</td>\n",
       "      <td>double glazing</td>\n",
       "      <td>1.017439</td>\n",
       "      <td>[est,north,west,sud]</td>\n",
       "      <td>13.963716</td>\n",
       "    </tr>\n",
       "  </tbody>\n",
       "</table>\n",
       "<p>958425 rows × 71 columns</p>\n",
       "</div>"
      ],
      "text/plain": [
       "         level_0 additional_heat_generators additional_water_heaters  \\\n",
       "0         111323     [wood stove or insert]                      NaN   \n",
       "1         265182                         []                      NaN   \n",
       "2         927507                         []                      NaN   \n",
       "3         874620                         []                      NaN   \n",
       "4         563274                         []                      NaN   \n",
       "...          ...                        ...                      ...   \n",
       "1010679    84908                         []    gas condensing boiler   \n",
       "1010680   997676                         []                      NaN   \n",
       "1010681   311831      [standard gas boiler]                      NaN   \n",
       "1010682   789794                         []                      NaN   \n",
       "1010683    31221                         []   electric water heating   \n",
       "\n",
       "           altitude  area_code balcony_depth bearing_wall_material  \\\n",
       "0         328.08400        881           NaN              CONCRETE   \n",
       "1         360.89240        260           NaN                   NaN   \n",
       "2         324.80316        573           NaN          WOOD - OTHER   \n",
       "3         288.71392        204           NaN                BRICKS   \n",
       "4         849.73756        374           NaN             GRITSTONE   \n",
       "...             ...        ...           ...                   ...   \n",
       "1010679  1591.20740        671           NaN             GRITSTONE   \n",
       "1010680   688.97640        345         < 1 m          INDETERMINED   \n",
       "1010681  2805.11820        205           NaN                   NaN   \n",
       "1010682   708.66144        451           NaN                 STONE   \n",
       "1010683   643.04464        191           NaN        BRICKS - STONE   \n",
       "\n",
       "          building_category building_class  building_height_ft  ...  \\\n",
       "0                        []             []           13.779528  ...   \n",
       "1                   [condo]      [2 to 11]           43.635172  ...   \n",
       "2                        []             []           19.685040  ...   \n",
       "3                        []             []           13.779528  ...   \n",
       "4        [individual house]   [individual]           19.028872  ...   \n",
       "...                     ...            ...                 ...  ...   \n",
       "1010679  [individual house]   [individual]           17.060368  ...   \n",
       "1010680                  []             []           26.246720  ...   \n",
       "1010681  [individual house]   [individual]           22.637796  ...   \n",
       "1010682                  []             []           19.685040  ...   \n",
       "1010683  [individual house]   [individual]           27.230972  ...   \n",
       "\n",
       "        wall_insulation_type  \\\n",
       "0                   internal   \n",
       "1                   internal   \n",
       "2                   internal   \n",
       "3                   internal   \n",
       "4                   internal   \n",
       "...                      ...   \n",
       "1010679             internal   \n",
       "1010680             internal   \n",
       "1010681             internal   \n",
       "1010682        non insulated   \n",
       "1010683             internal   \n",
       "\n",
       "                                            water_heaters  \\\n",
       "0                              [indeterminate oil boiler]   \n",
       "1                              [indeterminate gas boiler]   \n",
       "2                                   [standard gas boiler]   \n",
       "3                                 [electric storage tank]   \n",
       "4        [thermodynamic electric hot water (pac or tank)]   \n",
       "...                                                   ...   \n",
       "1010679        [solar water heater,gas condensing boiler]   \n",
       "1010680                           [electric storage tank]   \n",
       "1010681                                     [wood boiler]   \n",
       "1010682                        [indeterminate oil boiler]   \n",
       "1010683        [solar water heater,electric storage tank]   \n",
       "\n",
       "                               water_heating_energy_source  \\\n",
       "0                                                      oil   \n",
       "1                                                      gas   \n",
       "2                                                      gas   \n",
       "3                                              electricity   \n",
       "4        thermodynamic electric hot water (heat pump or...   \n",
       "...                                                    ...   \n",
       "1010679                                                gas   \n",
       "1010680                                        electricity   \n",
       "1010681                                               wood   \n",
       "1010682                                                oil   \n",
       "1010683                                        electricity   \n",
       "\n",
       "         water_heating_type window_filling_type     window_frame_material  \\\n",
       "0                individual    argon or krypton                       pvc   \n",
       "1                individual    argon or krypton                      wood   \n",
       "2                individual             dry air                       pvc   \n",
       "3                individual                 NaN  metal with thermal break   \n",
       "4                individual             dry air                       pvc   \n",
       "...                     ...                 ...                       ...   \n",
       "1010679          collective             dry air                      wood   \n",
       "1010680          individual                 NaN                       pvc   \n",
       "1010681          individual    argon or krypton                       pvc   \n",
       "1010682          individual    argon or krypton                       pvc   \n",
       "1010683          individual             dry air                       pvc   \n",
       "\n",
       "        window_glazing_type window_heat_retention_factor  \\\n",
       "0            double glazing                     1.116894   \n",
       "1            double glazing                     1.133072   \n",
       "2            double glazing                     1.084204   \n",
       "3            triple glazing                     0.983338   \n",
       "4            double glazing                     1.084204   \n",
       "...                     ...                          ...   \n",
       "1010679      double glazing                     1.133072   \n",
       "1010680      double glazing                     1.000450   \n",
       "1010681      double glazing                     0.983338   \n",
       "1010682      double glazing                     1.084204   \n",
       "1010683      double glazing                     1.017439   \n",
       "\n",
       "           window_orientation window_thermal_conductivity  \n",
       "0                  [est,west]                   15.347292  \n",
       "1              [est,west,sud]                   17.512631  \n",
       "2                  [est,west]                   16.779108  \n",
       "3             [est,north,sud]                   12.630033  \n",
       "4                 [north,sud]                   13.290529  \n",
       "...                       ...                         ...  \n",
       "1010679            [est,west]                   14.649374  \n",
       "1010680            [west,sud]                   11.348055  \n",
       "1010681  [est,north,west,sud]                   11.982461  \n",
       "1010682  [est,north,west,sud]                   16.779108  \n",
       "1010683  [est,north,west,sud]                   13.963716  \n",
       "\n",
       "[958425 rows x 71 columns]"
      ]
     },
     "execution_count": 23,
     "metadata": {},
     "output_type": "execute_result"
    }
   ],
   "source": [
    "df = pd.read_csv(path + \"train/train_features_sent.csv\")\n",
    "df = df[condition]\n",
    "df"
   ]
  },
  {
   "cell_type": "code",
   "execution_count": 24,
   "id": "b9461f55",
   "metadata": {},
   "outputs": [],
   "source": [
    "df = df.reset_index(drop=True)"
   ]
  },
  {
   "cell_type": "markdown",
   "id": "d584aae3",
   "metadata": {},
   "source": [
    "# Data creation function"
   ]
  },
  {
   "cell_type": "code",
   "execution_count": 25,
   "id": "45190110",
   "metadata": {},
   "outputs": [],
   "source": [
    "df.consumption_measurement_date = df.consumption_measurement_date.apply(lambda x: str(int(x[5:7])//3))\n",
    "df.outer_wall_thickness = df.outer_wall_thickness.apply(lambda x: float(x) if isinstance(x, float) or isinstance(x, int) else float(x.split()[0]))\n",
    "df[\"building_period\"] = df[\"building_period\"].apply(lambda x: \">1989\" if x in [\"1989-1999\", \"2000-2005\", '2006-2012', \">2012\"] else x)"
   ]
  },
  {
   "cell_type": "code",
   "execution_count": 26,
   "id": "78a87dd7",
   "metadata": {},
   "outputs": [],
   "source": [
    "liste_str = ['balcony_depth', 'building_period', 'building_type', 'building_use_type_description',\n",
    " 'clay_risk_level', 'has_air_conditioning', 'has_balcony', 'heating_type', 'is_crossing_building',\n",
    " 'lower_floor_adjacency_type', 'lower_floor_material', 'radon_risk_level', 'solar_heating',\n",
    " 'solar_water_heating', 'thermal_inertia', 'upper_floor_adjacency_type', 'water_heating_type',\n",
    " 'window_filling_type', 'window_glazing_type', 'consumption_measurement_date']"
   ]
  },
  {
   "cell_type": "code",
   "execution_count": 27,
   "id": "d2f0280f",
   "metadata": {},
   "outputs": [],
   "source": [
    "liste_int = ['altitude', 'area_code', 'building_height_ft',\n",
    "       'building_total_area_sqft', 'building_use_type_code', 'building_year', 'living_area_sqft',\n",
    "       'lowe_floor_thermal_conductivity', 'nb_dwellings',\n",
    "       'outer_wall_thermal_conductivity', 'post_code', 'upper_floor_thermal_conductivity',\n",
    "       'window_heat_retention_factor', 'window_thermal_conductivity', 'outer_wall_thickness', \n",
    "         'percentage_glazed_surfaced']"
   ]
  },
  {
   "cell_type": "code",
   "execution_count": 28,
   "id": "976d184c",
   "metadata": {},
   "outputs": [],
   "source": [
    "df[liste_int] = df[liste_int].fillna(df[liste_int].median())"
   ]
  },
  {
   "cell_type": "code",
   "execution_count": 29,
   "id": "77d18f07",
   "metadata": {},
   "outputs": [],
   "source": [
    "liste = liste_str + liste_int\n",
    "df = df[liste]"
   ]
  },
  {
   "cell_type": "code",
   "execution_count": 30,
   "id": "c6bb75e9",
   "metadata": {
    "scrolled": false
   },
   "outputs": [],
   "source": [
    "def transform(df, liste):\n",
    "    for x in liste:\n",
    "        list_value = [y for y in df[x].unique() if y is not np.nan]\n",
    "        dict_value = {y:y for y in list_value}\n",
    "        df[x] = df[x].map(dict_value)\n",
    "        df = pd.get_dummies(df, columns=[x], prefix=f'{x}-', prefix_sep='')\n",
    "    return df\n",
    "\n",
    "df = transform(df, liste_str)"
   ]
  },
  {
   "cell_type": "code",
   "execution_count": 31,
   "id": "e867ef34",
   "metadata": {},
   "outputs": [],
   "source": [
    "liste_col = ['altitude', 'area_code', 'building_height_ft',\n",
    "       'building_total_area_sqft', 'building_use_type_code', 'building_year',\n",
    "       'living_area_sqft', 'lowe_floor_thermal_conductivity', 'nb_dwellings',\n",
    "       'outer_wall_thermal_conductivity', 'post_code',\n",
    "       'upper_floor_thermal_conductivity', 'window_heat_retention_factor',\n",
    "       'window_thermal_conductivity', 'outer_wall_thickness',\n",
    "       'percentage_glazed_surfaced', 'balcony_depth-1 <= … < 2',\n",
    "       'balcony_depth-2 <= … < 3', 'balcony_depth-3 <=', 'balcony_depth-< 1 m',\n",
    "       'building_period-1949-1970', 'building_period-1970-1988',\n",
    "       'building_period-<1948', 'building_period->1989',\n",
    "       'building_period-bad sup', 'building_type-Flat', 'building_type-House',\n",
    "       'building_type-Multiple dwellings', 'building_type-Non-residential',\n",
    "       'building_type-Shopping centres',\n",
    "       'building_use_type_description-Commercial & Other',\n",
    "       'building_use_type_description-Residential multi-family',\n",
    "       'building_use_type_description-Residential single-family',\n",
    "       'clay_risk_level-high', 'clay_risk_level-low', 'clay_risk_level-medium',\n",
    "       'has_air_conditioning-False', 'has_air_conditioning-True',\n",
    "       'has_balcony-False', 'has_balcony-True', 'heating_type-collective',\n",
    "       'heating_type-individual', 'is_crossing_building-90° crossing (weak)',\n",
    "       'is_crossing_building-all through crossing (weak)',\n",
    "       'is_crossing_building-crossing east west',\n",
    "       'is_crossing_building-crossing north south',\n",
    "       'is_crossing_building-east-west crossing (weak)',\n",
    "       'is_crossing_building-north-south crossing (weak)',\n",
    "       'is_crossing_building-not through', 'is_crossing_building-through 90°',\n",
    "       'is_crossing_building-through all way',\n",
    "       'lower_floor_adjacency_type-ADJACENT BUILDING',\n",
    "       'lower_floor_adjacency_type-BURIED_WALL',\n",
    "       'lower_floor_adjacency_type-FULL_EARTH',\n",
    "       'lower_floor_adjacency_type-LNC', 'lower_floor_adjacency_type-OUTSIDE',\n",
    "       'lower_floor_adjacency_type-SANITARY_VACTILE',\n",
    "       'lower_floor_material-Insulated joist floor',\n",
    "       'lower_floor_material-Wooden floor on metal joists',\n",
    "       'lower_floor_material-brick or rubble wall joists',\n",
    "       'lower_floor_material-concrete slab',\n",
    "       'lower_floor_material-floor between metal joists with or without infill',\n",
    "       'lower_floor_material-floor between wooden joists with or without infill',\n",
    "       'lower_floor_material-floor with or without infill',\n",
    "       'lower_floor_material-heavy floor, such as clay floor joists, concrete beams',\n",
    "       'lower_floor_material-joist on metal joists',\n",
    "       'lower_floor_material-non-differing party floor',\n",
    "       'lower_floor_material-shingles and infill',\n",
    "       'lower_floor_material-wooden floor on wooden joists',\n",
    "       'radon_risk_level-high', 'radon_risk_level-low',\n",
    "       'radon_risk_level-medium', 'solar_heating-False', 'solar_heating-True',\n",
    "       'solar_water_heating-False', 'solar_water_heating-True',\n",
    "       'thermal_inertia-high', 'thermal_inertia-low', 'thermal_inertia-medium',\n",
    "       'thermal_inertia-very high',\n",
    "       'upper_floor_adjacency_type-ADJACENT_BUILDING',\n",
    "       'upper_floor_adjacency_type-EXTERNAL',\n",
    "       'upper_floor_adjacency_type-INNER_WALL',\n",
    "       'upper_floor_adjacency_type-LNC', 'water_heating_type-collective',\n",
    "       'water_heating_type-individual', 'window_filling_type-argon or krypton',\n",
    "       'window_filling_type-dry air', 'window_glazing_type-double glazing',\n",
    "       'window_glazing_type-glass block or polycarbonate',\n",
    "       'window_glazing_type-overglazing', 'window_glazing_type-single glazing',\n",
    "       'window_glazing_type-triple glazing', 'consumption_measurement_date-0',\n",
    "       'consumption_measurement_date-1', 'consumption_measurement_date-2',\n",
    "       'consumption_measurement_date-3', 'consumption_measurement_date-4']"
   ]
  },
  {
   "cell_type": "code",
   "execution_count": 20,
   "id": "aec16d53",
   "metadata": {},
   "outputs": [
    {
     "data": {
      "text/plain": [
       "(958425, 16)"
      ]
     },
     "execution_count": 20,
     "metadata": {},
     "output_type": "execute_result"
    }
   ],
   "source": [
    "inputs_with_num = df[liste_int].to_numpy()\n",
    "inputs_with_num.shape"
   ]
  },
  {
   "cell_type": "code",
   "execution_count": 38,
   "id": "3cf1593c",
   "metadata": {},
   "outputs": [
    {
     "data": {
      "text/plain": [
       "(958425, 82)"
      ]
     },
     "execution_count": 38,
     "metadata": {},
     "output_type": "execute_result"
    }
   ],
   "source": [
    "inputs_with_str = df[df.columns[16:]].to_numpy()\n",
    "inputs_with_str.shape"
   ]
  },
  {
   "cell_type": "markdown",
   "id": "12540ce4",
   "metadata": {},
   "source": [
    "# Numerical Model"
   ]
  },
  {
   "cell_type": "code",
   "execution_count": 39,
   "id": "47bf806b",
   "metadata": {},
   "outputs": [
    {
     "data": {
      "text/plain": [
       "958425"
      ]
     },
     "execution_count": 39,
     "metadata": {},
     "output_type": "execute_result"
    }
   ],
   "source": [
    "n = len(outputs)\n",
    "j = int(n*0.01)\n",
    "train_features = inputs_with_num[:j]\n",
    "test_features = inputs_with_num[j:]\n",
    "\n",
    "train_labels = outputs[:j]\n",
    "test_labels = outputs[j:]\n",
    "n"
   ]
  },
  {
   "cell_type": "code",
   "execution_count": 40,
   "id": "108ecca1",
   "metadata": {},
   "outputs": [],
   "source": [
    "import os\n",
    "os.environ['TF_CPP_MIN_LOG_LEVEL'] = '2'"
   ]
  },
  {
   "cell_type": "code",
   "execution_count": 41,
   "id": "8395755f",
   "metadata": {},
   "outputs": [],
   "source": [
    "normalizer = tf.keras.layers.Normalization(axis=-1)\n",
    "normalizer.adapt(np.array(train_features))"
   ]
  },
  {
   "cell_type": "code",
   "execution_count": 42,
   "id": "bb6c9def",
   "metadata": {},
   "outputs": [],
   "source": [
    "model = keras.Sequential([\n",
    "  normalizer,\n",
    "    layers.Dropout(0.1),\n",
    "  layers.Dense(64, activation='relu'),\n",
    "    layers.Dropout(0.05),\n",
    "  layers.Dense(32, activation='relu'),\n",
    "  layers.Dense(16, activation='relu'),\n",
    "  layers.Dense(1)\n",
    "])"
   ]
  },
  {
   "cell_type": "code",
   "execution_count": 43,
   "id": "626294b7",
   "metadata": {},
   "outputs": [
    {
     "name": "stdout",
     "output_type": "stream",
     "text": [
      "Model: \"sequential_1\"\n",
      "_________________________________________________________________\n",
      " Layer (type)                Output Shape              Param #   \n",
      "=================================================================\n",
      " normalization_3 (Normalizat  (None, 16)               33        \n",
      " ion)                                                            \n",
      "                                                                 \n",
      " dropout_2 (Dropout)         (None, 16)                0         \n",
      "                                                                 \n",
      " dense_4 (Dense)             (None, 64)                1088      \n",
      "                                                                 \n",
      " dropout_3 (Dropout)         (None, 64)                0         \n",
      "                                                                 \n",
      " dense_5 (Dense)             (None, 32)                2080      \n",
      "                                                                 \n",
      " dense_6 (Dense)             (None, 16)                528       \n",
      "                                                                 \n",
      " dense_7 (Dense)             (None, 1)                 17        \n",
      "                                                                 \n",
      "=================================================================\n",
      "Total params: 3,746\n",
      "Trainable params: 3,713\n",
      "Non-trainable params: 33\n",
      "_________________________________________________________________\n"
     ]
    }
   ],
   "source": [
    "model.compile(loss='mean_squared_error', optimizer=tf.keras.optimizers.Adam())\n",
    "model.summary()"
   ]
  },
  {
   "cell_type": "code",
   "execution_count": 44,
   "id": "0de75eb2",
   "metadata": {
    "scrolled": true
   },
   "outputs": [
    {
     "name": "stdout",
     "output_type": "stream",
     "text": [
      "Epoch 1/50\n",
      "1/1 - 2s - loss: 61036.7891 - val_loss: 60790.0039 - 2s/epoch - 2s/step\n",
      "Epoch 2/50\n",
      "1/1 - 0s - loss: 61001.3477 - val_loss: 60757.3438 - 125ms/epoch - 125ms/step\n",
      "Epoch 3/50\n",
      "1/1 - 0s - loss: 60966.0156 - val_loss: 60725.8438 - 320ms/epoch - 320ms/step\n",
      "Epoch 4/50\n",
      "1/1 - 0s - loss: 60932.1836 - val_loss: 60695.3867 - 311ms/epoch - 311ms/step\n",
      "Epoch 5/50\n",
      "1/1 - 0s - loss: 60900.0352 - val_loss: 60665.9141 - 305ms/epoch - 305ms/step\n",
      "Epoch 6/50\n",
      "1/1 - 0s - loss: 60869.2695 - val_loss: 60637.1758 - 306ms/epoch - 306ms/step\n",
      "Epoch 7/50\n",
      "1/1 - 0s - loss: 60836.2422 - val_loss: 60609.1680 - 275ms/epoch - 275ms/step\n",
      "Epoch 8/50\n",
      "1/1 - 0s - loss: 60808.0820 - val_loss: 60581.9180 - 313ms/epoch - 313ms/step\n",
      "Epoch 9/50\n",
      "1/1 - 0s - loss: 60777.5234 - val_loss: 60555.0820 - 308ms/epoch - 308ms/step\n",
      "Epoch 10/50\n",
      "1/1 - 0s - loss: 60747.4492 - val_loss: 60528.2617 - 310ms/epoch - 310ms/step\n",
      "Epoch 11/50\n",
      "1/1 - 0s - loss: 60717.9375 - val_loss: 60501.5430 - 217ms/epoch - 217ms/step\n",
      "Epoch 12/50\n",
      "1/1 - 0s - loss: 60689.6172 - val_loss: 60474.6992 - 93ms/epoch - 93ms/step\n",
      "Epoch 13/50\n",
      "1/1 - 0s - loss: 60661.5586 - val_loss: 60447.6172 - 199ms/epoch - 199ms/step\n",
      "Epoch 14/50\n",
      "1/1 - 0s - loss: 60632.1367 - val_loss: 60420.0547 - 308ms/epoch - 308ms/step\n",
      "Epoch 15/50\n",
      "1/1 - 0s - loss: 60603.4336 - val_loss: 60391.9648 - 370ms/epoch - 370ms/step\n",
      "Epoch 16/50\n",
      "1/1 - 0s - loss: 60570.4688 - val_loss: 60363.2773 - 301ms/epoch - 301ms/step\n",
      "Epoch 17/50\n",
      "1/1 - 0s - loss: 60541.6328 - val_loss: 60333.9648 - 314ms/epoch - 314ms/step\n",
      "Epoch 18/50\n",
      "1/1 - 0s - loss: 60509.8203 - val_loss: 60303.8320 - 236ms/epoch - 236ms/step\n",
      "Epoch 19/50\n",
      "1/1 - 0s - loss: 60477.2461 - val_loss: 60272.7305 - 302ms/epoch - 302ms/step\n",
      "Epoch 20/50\n",
      "1/1 - 0s - loss: 60445.3711 - val_loss: 60240.6523 - 227ms/epoch - 227ms/step\n",
      "Epoch 21/50\n",
      "1/1 - 0s - loss: 60410.4492 - val_loss: 60207.3945 - 238ms/epoch - 238ms/step\n",
      "Epoch 22/50\n",
      "1/1 - 0s - loss: 60374.2695 - val_loss: 60172.9570 - 128ms/epoch - 128ms/step\n",
      "Epoch 23/50\n",
      "1/1 - 0s - loss: 60336.4180 - val_loss: 60137.1719 - 130ms/epoch - 130ms/step\n",
      "Epoch 24/50\n",
      "1/1 - 0s - loss: 60297.1211 - val_loss: 60100.0352 - 401ms/epoch - 401ms/step\n",
      "Epoch 25/50\n",
      "1/1 - 0s - loss: 60261.0781 - val_loss: 60061.3594 - 298ms/epoch - 298ms/step\n",
      "Epoch 26/50\n",
      "1/1 - 0s - loss: 60217.8828 - val_loss: 60021.1602 - 288ms/epoch - 288ms/step\n",
      "Epoch 27/50\n",
      "1/1 - 0s - loss: 60176.4961 - val_loss: 59979.4023 - 235ms/epoch - 235ms/step\n",
      "Epoch 28/50\n",
      "1/1 - 0s - loss: 60134.1445 - val_loss: 59936.0234 - 293ms/epoch - 293ms/step\n",
      "Epoch 29/50\n",
      "1/1 - 0s - loss: 60085.1797 - val_loss: 59890.9297 - 317ms/epoch - 317ms/step\n",
      "Epoch 30/50\n",
      "1/1 - 0s - loss: 60034.6719 - val_loss: 59844.1914 - 217ms/epoch - 217ms/step\n",
      "Epoch 31/50\n",
      "1/1 - 0s - loss: 59988.6602 - val_loss: 59795.6914 - 234ms/epoch - 234ms/step\n",
      "Epoch 32/50\n",
      "1/1 - 0s - loss: 59935.6250 - val_loss: 59745.3594 - 163ms/epoch - 163ms/step\n",
      "Epoch 33/50\n",
      "1/1 - 0s - loss: 59882.3398 - val_loss: 59693.0430 - 236ms/epoch - 236ms/step\n",
      "Epoch 34/50\n",
      "1/1 - 0s - loss: 59826.1289 - val_loss: 59638.7148 - 230ms/epoch - 230ms/step\n",
      "Epoch 35/50\n",
      "1/1 - 0s - loss: 59767.8594 - val_loss: 59582.2695 - 286ms/epoch - 286ms/step\n",
      "Epoch 36/50\n",
      "1/1 - 0s - loss: 59709.0703 - val_loss: 59523.6289 - 305ms/epoch - 305ms/step\n",
      "Epoch 37/50\n",
      "1/1 - 0s - loss: 59648.9531 - val_loss: 59462.7930 - 390ms/epoch - 390ms/step\n",
      "Epoch 38/50\n",
      "1/1 - 0s - loss: 59583.0586 - val_loss: 59399.5938 - 376ms/epoch - 376ms/step\n",
      "Epoch 39/50\n",
      "1/1 - 0s - loss: 59513.9297 - val_loss: 59333.9023 - 306ms/epoch - 306ms/step\n",
      "Epoch 40/50\n",
      "1/1 - 0s - loss: 59446.5156 - val_loss: 59265.6250 - 328ms/epoch - 328ms/step\n",
      "Epoch 41/50\n",
      "1/1 - 0s - loss: 59374.1016 - val_loss: 59194.7188 - 236ms/epoch - 236ms/step\n",
      "Epoch 42/50\n",
      "1/1 - 0s - loss: 59291.1250 - val_loss: 59121.0430 - 117ms/epoch - 117ms/step\n",
      "Epoch 43/50\n",
      "1/1 - 0s - loss: 59218.4180 - val_loss: 59044.4961 - 269ms/epoch - 269ms/step\n",
      "Epoch 44/50\n",
      "1/1 - 0s - loss: 59132.9102 - val_loss: 58964.9961 - 333ms/epoch - 333ms/step\n",
      "Epoch 45/50\n",
      "1/1 - 0s - loss: 59054.6328 - val_loss: 58882.3984 - 234ms/epoch - 234ms/step\n",
      "Epoch 46/50\n",
      "1/1 - 0s - loss: 58962.8398 - val_loss: 58796.5742 - 302ms/epoch - 302ms/step\n",
      "Epoch 47/50\n",
      "1/1 - 0s - loss: 58872.7930 - val_loss: 58707.4219 - 229ms/epoch - 229ms/step\n",
      "Epoch 48/50\n",
      "1/1 - 0s - loss: 58781.1914 - val_loss: 58614.7852 - 364ms/epoch - 364ms/step\n",
      "Epoch 49/50\n",
      "1/1 - 0s - loss: 58690.8008 - val_loss: 58518.5195 - 322ms/epoch - 322ms/step\n",
      "Epoch 50/50\n",
      "1/1 - 0s - loss: 58577.5117 - val_loss: 58418.5039 - 309ms/epoch - 309ms/step\n"
     ]
    }
   ],
   "source": [
    "epoch = 50\n",
    "batch = 128*128\n",
    "save_freq = 10\n",
    "\n",
    "my_callbacks = [\n",
    "    tf.keras.callbacks.ModelCheckpoint(filepath='models/model.{epoch:02d}-{val_loss:.2f}.h5')\n",
    "]\n",
    "history = model.fit(\n",
    "    train_features,\n",
    "    train_labels,\n",
    "    validation_split=0.1,\n",
    "    batch_size=batch,\n",
    "    verbose=2, epochs=epoch, callbacks=my_callbacks)"
   ]
  },
  {
   "cell_type": "code",
   "execution_count": 45,
   "id": "db7a6671",
   "metadata": {},
   "outputs": [
    {
     "name": "stdout",
     "output_type": "stream",
     "text": [
      "INFO:tensorflow:Assets written to: ./model_num/assets\n"
     ]
    }
   ],
   "source": [
    "link_model_num = \"./model_num\"\n",
    "model.save(link_model_num)"
   ]
  },
  {
   "cell_type": "markdown",
   "id": "7875654d",
   "metadata": {},
   "source": [
    "# cat model"
   ]
  },
  {
   "cell_type": "code",
   "execution_count": 49,
   "id": "c7fda43e",
   "metadata": {},
   "outputs": [],
   "source": [
    "n = len(outputs)\n",
    "j = int(n*0.01)\n",
    "train_features = inputs_with_str[:j]\n",
    "test_features = inputs_with_str[j:]\n",
    "\n",
    "train_labels = inputs_with_str[:j]\n",
    "test_labels = inputs_with_str[j:]\n",
    "\n",
    "m = 82"
   ]
  },
  {
   "cell_type": "code",
   "execution_count": 50,
   "id": "d2e4ab20",
   "metadata": {},
   "outputs": [],
   "source": [
    "model = keras.Sequential([\n",
    "  layers.Input(m),\n",
    "  layers.Dropout(0.1),\n",
    "  layers.Dense(64, activation='sigmoid'),\n",
    "  layers.Dropout(0.05),\n",
    "  layers.Dense(32, activation='sigmoid'),\n",
    "  layers.Dense(16, activation='sigmoid'),\n",
    "  layers.Dense(32, activation='sigmoid'),\n",
    "  layers.Dense(64, activation='sigmoid'),\n",
    "  layers.Dense(m)\n",
    "])"
   ]
  },
  {
   "cell_type": "code",
   "execution_count": 51,
   "id": "3c70571d",
   "metadata": {},
   "outputs": [
    {
     "name": "stdout",
     "output_type": "stream",
     "text": [
      "Model: \"sequential_2\"\n",
      "_________________________________________________________________\n",
      " Layer (type)                Output Shape              Param #   \n",
      "=================================================================\n",
      " dropout_4 (Dropout)         (None, 82)                0         \n",
      "                                                                 \n",
      " dense_8 (Dense)             (None, 64)                5312      \n",
      "                                                                 \n",
      " dropout_5 (Dropout)         (None, 64)                0         \n",
      "                                                                 \n",
      " dense_9 (Dense)             (None, 32)                2080      \n",
      "                                                                 \n",
      " dense_10 (Dense)            (None, 16)                528       \n",
      "                                                                 \n",
      " dense_11 (Dense)            (None, 32)                544       \n",
      "                                                                 \n",
      " dense_12 (Dense)            (None, 64)                2112      \n",
      "                                                                 \n",
      " dense_13 (Dense)            (None, 82)                5330      \n",
      "                                                                 \n",
      "=================================================================\n",
      "Total params: 15,906\n",
      "Trainable params: 15,906\n",
      "Non-trainable params: 0\n",
      "_________________________________________________________________\n"
     ]
    }
   ],
   "source": [
    "model.compile(loss='binary_crossentropy', optimizer=tf.keras.optimizers.Adam())\n",
    "model.summary()"
   ]
  },
  {
   "cell_type": "code",
   "execution_count": 52,
   "id": "bac90aa3",
   "metadata": {
    "scrolled": true
   },
   "outputs": [
    {
     "name": "stdout",
     "output_type": "stream",
     "text": [
      "Epoch 1/50\n",
      "1/1 - 2s - loss: 1.6249 - val_loss: 1.5797 - 2s/epoch - 2s/step\n",
      "Epoch 2/50\n",
      "1/1 - 0s - loss: 1.5820 - val_loss: 1.5495 - 288ms/epoch - 288ms/step\n",
      "Epoch 3/50\n",
      "1/1 - 0s - loss: 1.5519 - val_loss: 1.5251 - 337ms/epoch - 337ms/step\n",
      "Epoch 4/50\n",
      "1/1 - 0s - loss: 1.5276 - val_loss: 1.5045 - 221ms/epoch - 221ms/step\n",
      "Epoch 5/50\n",
      "1/1 - 0s - loss: 1.5072 - val_loss: 1.4895 - 283ms/epoch - 283ms/step\n",
      "Epoch 6/50\n",
      "1/1 - 0s - loss: 1.4928 - val_loss: 1.4754 - 330ms/epoch - 330ms/step\n",
      "Epoch 7/50\n",
      "1/1 - 0s - loss: 1.4789 - val_loss: 1.4653 - 283ms/epoch - 283ms/step\n",
      "Epoch 8/50\n",
      "1/1 - 0s - loss: 1.4686 - val_loss: 1.4566 - 369ms/epoch - 369ms/step\n",
      "Epoch 9/50\n",
      "1/1 - 0s - loss: 1.4602 - val_loss: 1.4484 - 306ms/epoch - 306ms/step\n",
      "Epoch 10/50\n",
      "1/1 - 0s - loss: 1.4520 - val_loss: 1.4445 - 326ms/epoch - 326ms/step\n",
      "Epoch 11/50\n",
      "1/1 - 0s - loss: 1.4472 - val_loss: 1.4385 - 133ms/epoch - 133ms/step\n",
      "Epoch 12/50\n",
      "1/1 - 0s - loss: 1.4414 - val_loss: 1.4331 - 262ms/epoch - 262ms/step\n",
      "Epoch 13/50\n",
      "1/1 - 0s - loss: 1.4361 - val_loss: 1.4285 - 420ms/epoch - 420ms/step\n",
      "Epoch 14/50\n",
      "1/1 - 0s - loss: 1.4315 - val_loss: 1.4264 - 319ms/epoch - 319ms/step\n",
      "Epoch 15/50\n",
      "1/1 - 0s - loss: 1.4294 - val_loss: 1.4226 - 308ms/epoch - 308ms/step\n",
      "Epoch 16/50\n",
      "1/1 - 0s - loss: 1.4256 - val_loss: 1.4194 - 368ms/epoch - 368ms/step\n",
      "Epoch 17/50\n",
      "1/1 - 0s - loss: 1.4224 - val_loss: 1.4168 - 332ms/epoch - 332ms/step\n",
      "Epoch 18/50\n",
      "1/1 - 0s - loss: 1.4196 - val_loss: 1.4178 - 326ms/epoch - 326ms/step\n",
      "Epoch 19/50\n",
      "1/1 - 0s - loss: 1.4196 - val_loss: 1.4158 - 305ms/epoch - 305ms/step\n",
      "Epoch 20/50\n",
      "1/1 - 0s - loss: 1.4176 - val_loss: 1.4160 - 205ms/epoch - 205ms/step\n",
      "Epoch 21/50\n",
      "1/1 - 0s - loss: 1.4180 - val_loss: 1.4166 - 390ms/epoch - 390ms/step\n",
      "Epoch 22/50\n",
      "1/1 - 0s - loss: 1.4189 - val_loss: 1.4161 - 296ms/epoch - 296ms/step\n",
      "Epoch 23/50\n",
      "1/1 - 0s - loss: 1.4184 - val_loss: 1.4155 - 371ms/epoch - 371ms/step\n",
      "Epoch 24/50\n",
      "1/1 - 0s - loss: 1.4179 - val_loss: 1.4150 - 327ms/epoch - 327ms/step\n",
      "Epoch 25/50\n",
      "1/1 - 0s - loss: 1.4174 - val_loss: 1.4145 - 296ms/epoch - 296ms/step\n",
      "Epoch 26/50\n",
      "1/1 - 0s - loss: 1.4168 - val_loss: 1.4097 - 379ms/epoch - 379ms/step\n",
      "Epoch 27/50\n",
      "1/1 - 0s - loss: 1.4132 - val_loss: 1.4092 - 498ms/epoch - 498ms/step\n",
      "Epoch 28/50\n",
      "1/1 - 0s - loss: 1.4127 - val_loss: 1.4088 - 281ms/epoch - 281ms/step\n",
      "Epoch 29/50\n",
      "1/1 - 0s - loss: 1.4124 - val_loss: 1.4097 - 222ms/epoch - 222ms/step\n",
      "Epoch 30/50\n",
      "1/1 - 0s - loss: 1.4132 - val_loss: 1.4096 - 384ms/epoch - 384ms/step\n",
      "Epoch 31/50\n",
      "1/1 - 0s - loss: 1.4131 - val_loss: 1.4096 - 377ms/epoch - 377ms/step\n",
      "Epoch 32/50\n",
      "1/1 - 0s - loss: 1.4132 - val_loss: 1.4097 - 302ms/epoch - 302ms/step\n",
      "Epoch 33/50\n",
      "1/1 - 0s - loss: 1.4133 - val_loss: 1.4099 - 343ms/epoch - 343ms/step\n",
      "Epoch 34/50\n",
      "1/1 - 0s - loss: 1.4135 - val_loss: 1.4100 - 332ms/epoch - 332ms/step\n",
      "Epoch 35/50\n",
      "1/1 - 1s - loss: 1.4136 - val_loss: 1.4100 - 542ms/epoch - 542ms/step\n",
      "Epoch 36/50\n",
      "1/1 - 0s - loss: 1.4136 - val_loss: 1.4098 - 216ms/epoch - 216ms/step\n",
      "Epoch 37/50\n",
      "1/1 - 0s - loss: 1.4134 - val_loss: 1.4096 - 306ms/epoch - 306ms/step\n",
      "Epoch 38/50\n",
      "1/1 - 0s - loss: 1.4132 - val_loss: 1.4095 - 376ms/epoch - 376ms/step\n",
      "Epoch 39/50\n",
      "1/1 - 0s - loss: 1.4131 - val_loss: 1.4094 - 394ms/epoch - 394ms/step\n",
      "Epoch 40/50\n",
      "1/1 - 0s - loss: 1.4130 - val_loss: 1.4092 - 323ms/epoch - 323ms/step\n",
      "Epoch 41/50\n",
      "1/1 - 0s - loss: 1.4128 - val_loss: 1.4090 - 331ms/epoch - 331ms/step\n",
      "Epoch 42/50\n",
      "1/1 - 0s - loss: 1.4126 - val_loss: 1.4088 - 329ms/epoch - 329ms/step\n",
      "Epoch 43/50\n",
      "1/1 - 0s - loss: 1.4124 - val_loss: 1.4087 - 373ms/epoch - 373ms/step\n",
      "Epoch 44/50\n",
      "1/1 - 0s - loss: 1.4122 - val_loss: 1.4086 - 319ms/epoch - 319ms/step\n",
      "Epoch 45/50\n",
      "1/1 - 0s - loss: 1.4121 - val_loss: 1.4085 - 272ms/epoch - 272ms/step\n",
      "Epoch 46/50\n",
      "1/1 - 0s - loss: 1.4120 - val_loss: 1.4084 - 227ms/epoch - 227ms/step\n",
      "Epoch 47/50\n",
      "1/1 - 0s - loss: 1.4119 - val_loss: 1.4082 - 385ms/epoch - 385ms/step\n",
      "Epoch 48/50\n",
      "1/1 - 0s - loss: 1.4117 - val_loss: 1.4081 - 468ms/epoch - 468ms/step\n",
      "Epoch 49/50\n",
      "1/1 - 0s - loss: 1.4116 - val_loss: 1.4079 - 301ms/epoch - 301ms/step\n",
      "Epoch 50/50\n",
      "1/1 - 0s - loss: 1.4114 - val_loss: 1.4078 - 316ms/epoch - 316ms/step\n"
     ]
    }
   ],
   "source": [
    "epoch = 50\n",
    "batch = 128*128\n",
    "save_freq = 10\n",
    "\n",
    "my_callbacks = [\n",
    "    tf.keras.callbacks.ModelCheckpoint(filepath='models/model.{epoch:02d}-{val_loss:.2f}.h5')\n",
    "]\n",
    "history = model.fit(\n",
    "    train_features,\n",
    "    train_labels,\n",
    "    validation_split=0.1,\n",
    "    batch_size=batch,\n",
    "    verbose=2, epochs=epoch, callbacks=my_callbacks)"
   ]
  },
  {
   "cell_type": "code",
   "execution_count": 53,
   "id": "c2b710ea",
   "metadata": {},
   "outputs": [
    {
     "name": "stdout",
     "output_type": "stream",
     "text": [
      "INFO:tensorflow:Assets written to: ./model_str/assets\n"
     ]
    }
   ],
   "source": [
    "link_model_str = \"./model_str\"\n",
    "model.save(link_model_str)\n",
    "\n",
    "\n",
    "\n",
    "\n",
    "\n",
    "\n",
    "\n",
    "\n",
    "\n",
    "\n",
    "\n",
    "\n",
    "\n",
    "\n",
    "\n",
    "\n",
    "\n",
    "\n",
    "\n",
    "\n",
    "\n",
    "\n",
    "\n",
    "\n",
    "\n",
    "\n",
    "\n",
    "\n",
    "\n",
    "\n",
    "\n",
    "\n",
    "\n",
    "\n",
    "\n",
    "\n",
    "\n",
    "\n",
    "\n",
    "\n",
    "\n",
    "\n",
    "\n",
    "\n",
    "\n",
    "\n",
    "\n",
    "\n"
   ]
  },
  {
   "cell_type": "markdown",
   "id": "8dcbd35e",
   "metadata": {},
   "source": [
    "# Merging models"
   ]
  },
  {
   "cell_type": "code",
   "execution_count": 54,
   "id": "9908a27b",
   "metadata": {},
   "outputs": [
    {
     "name": "stdout",
     "output_type": "stream",
     "text": [
      "Model: \"sequential_1\"\n",
      "_________________________________________________________________\n",
      " Layer (type)                Output Shape              Param #   \n",
      "=================================================================\n",
      " normalization_3 (Normalizat  (None, 16)               33        \n",
      " ion)                                                            \n",
      "                                                                 \n",
      " dropout_2 (Dropout)         (None, 16)                0         \n",
      "                                                                 \n",
      " dense_4 (Dense)             (None, 64)                1088      \n",
      "                                                                 \n",
      " dropout_3 (Dropout)         (None, 64)                0         \n",
      "                                                                 \n",
      " dense_5 (Dense)             (None, 32)                2080      \n",
      "                                                                 \n",
      " dense_6 (Dense)             (None, 16)                528       \n",
      "                                                                 \n",
      " dense_7 (Dense)             (None, 1)                 17        \n",
      "                                                                 \n",
      "=================================================================\n",
      "Total params: 3,746\n",
      "Trainable params: 3,713\n",
      "Non-trainable params: 33\n",
      "_________________________________________________________________\n"
     ]
    }
   ],
   "source": [
    "model_num = tf.keras.models.load_model(link_model_num)\n",
    "model_num.summary()"
   ]
  },
  {
   "cell_type": "code",
   "execution_count": 59,
   "id": "01b154f0",
   "metadata": {},
   "outputs": [
    {
     "name": "stdout",
     "output_type": "stream",
     "text": [
      "Model: \"sequential_2\"\n",
      "_________________________________________________________________\n",
      " Layer (type)                Output Shape              Param #   \n",
      "=================================================================\n",
      " dropout_4 (Dropout)         (None, 82)                0         \n",
      "                                                                 \n",
      " dense_8 (Dense)             (None, 64)                5312      \n",
      "                                                                 \n",
      " dropout_5 (Dropout)         (None, 64)                0         \n",
      "                                                                 \n",
      " dense_9 (Dense)             (None, 32)                2080      \n",
      "                                                                 \n",
      " dense_10 (Dense)            (None, 16)                528       \n",
      "                                                                 \n",
      " dense_11 (Dense)            (None, 32)                544       \n",
      "                                                                 \n",
      " dense_12 (Dense)            (None, 64)                2112      \n",
      "                                                                 \n",
      " dense_13 (Dense)            (None, 82)                5330      \n",
      "                                                                 \n",
      "=================================================================\n",
      "Total params: 15,906\n",
      "Trainable params: 15,906\n",
      "Non-trainable params: 0\n",
      "_________________________________________________________________\n"
     ]
    }
   ],
   "source": [
    "model_str = tf.keras.models.load_model(link_model_str)\n",
    "model_str.layers.pop()\n",
    "model_str.layers.pop()\n",
    "model_str.layers.pop()\n",
    "model_str.summary()"
   ]
  },
  {
   "cell_type": "code",
   "execution_count": 67,
   "id": "ad747271",
   "metadata": {},
   "outputs": [],
   "source": [
    "concatenate = layers.concatenate(\n",
    "    [model_num.layers[5].output, model_str.layers[4].output],\n",
    "    name=\"concatenated_layer\"\n",
    ")"
   ]
  },
  {
   "cell_type": "code",
   "execution_count": 72,
   "id": "eaabed30",
   "metadata": {},
   "outputs": [],
   "source": [
    "o = layers.Dense(64, activation='relu')(concatenate)\n",
    "o = layers.Dense(1, activation='relu')(o)"
   ]
  },
  {
   "cell_type": "code",
   "execution_count": 106,
   "id": "077ecb2d",
   "metadata": {
    "scrolled": true
   },
   "outputs": [],
   "source": [
    "concatenate_model = keras.models.Model(inputs=[model_num.layers[0].output, model_str.layers[0].output], outputs=[o])\n"
   ]
  },
  {
   "cell_type": "code",
   "execution_count": 81,
   "id": "f6498182",
   "metadata": {},
   "outputs": [],
   "source": [
    "n = len(outputs)\n",
    "j = int(n*0.01)\n",
    "train_features = inputs_with_str[:j]\n",
    "test_features = inputs_with_str[j:]\n",
    "\n",
    "train_labels = inputs_with_str[:j]\n",
    "test_labels = inputs_with_str[j:]\n",
    "\n",
    "m = 82"
   ]
  },
  {
   "cell_type": "code",
   "execution_count": 83,
   "id": "7025176e",
   "metadata": {
    "scrolled": true
   },
   "outputs": [
    {
     "data": {
      "text/plain": [
       "(9584, 82)"
      ]
     },
     "execution_count": 83,
     "metadata": {},
     "output_type": "execute_result"
    }
   ],
   "source": [
    "inputs_with_str[:j].shape"
   ]
  },
  {
   "cell_type": "code",
   "execution_count": 85,
   "id": "016b3b27",
   "metadata": {},
   "outputs": [
    {
     "data": {
      "text/plain": [
       "(9584, 16)"
      ]
     },
     "execution_count": 85,
     "metadata": {},
     "output_type": "execute_result"
    }
   ],
   "source": [
    "inputs_with_num[:j].shape"
   ]
  },
  {
   "cell_type": "code",
   "execution_count": 101,
   "id": "c3e027d1",
   "metadata": {},
   "outputs": [],
   "source": [
    "concatenate_model.compile(loss='mean_squared_error', optimizer=tf.keras.optimizers.Adam())"
   ]
  },
  {
   "cell_type": "code",
   "execution_count": 107,
   "id": "9bf36dfb",
   "metadata": {},
   "outputs": [
    {
     "name": "stdout",
     "output_type": "stream",
     "text": [
      "Model: \"model_3\"\n",
      "__________________________________________________________________________________________________\n",
      " Layer (type)                   Output Shape         Param #     Connected to                     \n",
      "==================================================================================================\n",
      " input_4 (InputLayer)           [(None, 16)]         0           []                               \n",
      "                                                                                                  \n",
      " dropout_2 (Dropout)            (None, 16)           0           ['input_4[0][0]']                \n",
      "                                                                                                  \n",
      " input_5 (InputLayer)           [(None, 82)]         0           []                               \n",
      "                                                                                                  \n",
      " dense_4 (Dense)                (None, 64)           1088        ['dropout_2[2][0]']              \n",
      "                                                                                                  \n",
      " dense_8 (Dense)                (None, 64)           5312        ['input_5[0][0]']                \n",
      "                                                                                                  \n",
      " dropout_3 (Dropout)            (None, 64)           0           ['dense_4[2][0]']                \n",
      "                                                                                                  \n",
      " dropout_5 (Dropout)            (None, 64)           0           ['dense_8[2][0]']                \n",
      "                                                                                                  \n",
      " dense_5 (Dense)                (None, 32)           2080        ['dropout_3[2][0]']              \n",
      "                                                                                                  \n",
      " dense_9 (Dense)                (None, 32)           2080        ['dropout_5[2][0]']              \n",
      "                                                                                                  \n",
      " dense_6 (Dense)                (None, 16)           528         ['dense_5[2][0]']                \n",
      "                                                                                                  \n",
      " dense_10 (Dense)               (None, 16)           528         ['dense_9[2][0]']                \n",
      "                                                                                                  \n",
      " concatenated_layer (Concatenat  (None, 32)          0           ['dense_6[2][0]',                \n",
      " e)                                                               'dense_10[2][0]']               \n",
      "                                                                                                  \n",
      " dense_16 (Dense)               (None, 64)           2112        ['concatenated_layer[2][0]']     \n",
      "                                                                                                  \n",
      " dense_17 (Dense)               (None, 1)            65          ['dense_16[2][0]']               \n",
      "                                                                                                  \n",
      "==================================================================================================\n",
      "Total params: 13,793\n",
      "Trainable params: 13,793\n",
      "Non-trainable params: 0\n",
      "__________________________________________________________________________________________________\n"
     ]
    }
   ],
   "source": [
    "concatenate_model.summary()"
   ]
  },
  {
   "cell_type": "markdown",
   "id": "1f1295f7",
   "metadata": {},
   "source": [
    "# XGBoost"
   ]
  },
  {
   "cell_type": "code",
   "execution_count": 35,
   "id": "92d95d6f",
   "metadata": {},
   "outputs": [],
   "source": [
    "import sklearn\n",
    "from sklearn.metrics import explained_variance_score"
   ]
  },
  {
   "cell_type": "code",
   "execution_count": 33,
   "id": "29c24010",
   "metadata": {},
   "outputs": [],
   "source": [
    "n = len(outputs)\n",
    "j = int(n*0.95)\n",
    "inputs = df.to_numpy()\n",
    "train_features = inputs[:j]\n",
    "test_features = inputs[j:]\n",
    "\n",
    "train_labels = outputs[:j]\n",
    "test_labels = outputs[j:]"
   ]
  },
  {
   "cell_type": "code",
   "execution_count": 43,
   "id": "71ec94cb",
   "metadata": {},
   "outputs": [
    {
     "data": {
      "text/html": [
       "<style>#sk-container-id-5 {color: black;background-color: white;}#sk-container-id-5 pre{padding: 0;}#sk-container-id-5 div.sk-toggleable {background-color: white;}#sk-container-id-5 label.sk-toggleable__label {cursor: pointer;display: block;width: 100%;margin-bottom: 0;padding: 0.3em;box-sizing: border-box;text-align: center;}#sk-container-id-5 label.sk-toggleable__label-arrow:before {content: \"▸\";float: left;margin-right: 0.25em;color: #696969;}#sk-container-id-5 label.sk-toggleable__label-arrow:hover:before {color: black;}#sk-container-id-5 div.sk-estimator:hover label.sk-toggleable__label-arrow:before {color: black;}#sk-container-id-5 div.sk-toggleable__content {max-height: 0;max-width: 0;overflow: hidden;text-align: left;background-color: #f0f8ff;}#sk-container-id-5 div.sk-toggleable__content pre {margin: 0.2em;color: black;border-radius: 0.25em;background-color: #f0f8ff;}#sk-container-id-5 input.sk-toggleable__control:checked~div.sk-toggleable__content {max-height: 200px;max-width: 100%;overflow: auto;}#sk-container-id-5 input.sk-toggleable__control:checked~label.sk-toggleable__label-arrow:before {content: \"▾\";}#sk-container-id-5 div.sk-estimator input.sk-toggleable__control:checked~label.sk-toggleable__label {background-color: #d4ebff;}#sk-container-id-5 div.sk-label input.sk-toggleable__control:checked~label.sk-toggleable__label {background-color: #d4ebff;}#sk-container-id-5 input.sk-hidden--visually {border: 0;clip: rect(1px 1px 1px 1px);clip: rect(1px, 1px, 1px, 1px);height: 1px;margin: -1px;overflow: hidden;padding: 0;position: absolute;width: 1px;}#sk-container-id-5 div.sk-estimator {font-family: monospace;background-color: #f0f8ff;border: 1px dotted black;border-radius: 0.25em;box-sizing: border-box;margin-bottom: 0.5em;}#sk-container-id-5 div.sk-estimator:hover {background-color: #d4ebff;}#sk-container-id-5 div.sk-parallel-item::after {content: \"\";width: 100%;border-bottom: 1px solid gray;flex-grow: 1;}#sk-container-id-5 div.sk-label:hover label.sk-toggleable__label {background-color: #d4ebff;}#sk-container-id-5 div.sk-serial::before {content: \"\";position: absolute;border-left: 1px solid gray;box-sizing: border-box;top: 0;bottom: 0;left: 50%;z-index: 0;}#sk-container-id-5 div.sk-serial {display: flex;flex-direction: column;align-items: center;background-color: white;padding-right: 0.2em;padding-left: 0.2em;position: relative;}#sk-container-id-5 div.sk-item {position: relative;z-index: 1;}#sk-container-id-5 div.sk-parallel {display: flex;align-items: stretch;justify-content: center;background-color: white;position: relative;}#sk-container-id-5 div.sk-item::before, #sk-container-id-5 div.sk-parallel-item::before {content: \"\";position: absolute;border-left: 1px solid gray;box-sizing: border-box;top: 0;bottom: 0;left: 50%;z-index: -1;}#sk-container-id-5 div.sk-parallel-item {display: flex;flex-direction: column;z-index: 1;position: relative;background-color: white;}#sk-container-id-5 div.sk-parallel-item:first-child::after {align-self: flex-end;width: 50%;}#sk-container-id-5 div.sk-parallel-item:last-child::after {align-self: flex-start;width: 50%;}#sk-container-id-5 div.sk-parallel-item:only-child::after {width: 0;}#sk-container-id-5 div.sk-dashed-wrapped {border: 1px dashed gray;margin: 0 0.4em 0.5em 0.4em;box-sizing: border-box;padding-bottom: 0.4em;background-color: white;}#sk-container-id-5 div.sk-label label {font-family: monospace;font-weight: bold;display: inline-block;line-height: 1.2em;}#sk-container-id-5 div.sk-label-container {text-align: center;}#sk-container-id-5 div.sk-container {/* jupyter's `normalize.less` sets `[hidden] { display: none; }` but bootstrap.min.css set `[hidden] { display: none !important; }` so we also need the `!important` here to be able to override the default hidden behavior on the sphinx rendered scikit-learn.org. See: https://github.com/scikit-learn/scikit-learn/issues/21755 */display: inline-block !important;position: relative;}#sk-container-id-5 div.sk-text-repr-fallback {display: none;}</style><div id=\"sk-container-id-5\" class=\"sk-top-container\"><div class=\"sk-text-repr-fallback\"><pre>XGBRegressor(base_score=None, booster=None, callbacks=None,\n",
       "             colsample_bylevel=None, colsample_bynode=None,\n",
       "             colsample_bytree=None, early_stopping_rounds=None,\n",
       "             enable_categorical=False, eta=1, eval_metric=None,\n",
       "             feature_types=None, gamma=None, gpu_id=None, grow_policy=None,\n",
       "             importance_type=None, interaction_constraints=None,\n",
       "             learning_rate=None, max_bin=None, max_cat_threshold=None,\n",
       "             max_cat_to_onehot=None, max_delta_step=None, max_depth=None,\n",
       "             max_leaves=None, min_child_weight=None, missing=nan,\n",
       "             monotone_constraints=None, n_estimators=100, n_jobs=None,\n",
       "             num_parallel_tree=None, predictor=None, ...)</pre><b>In a Jupyter environment, please rerun this cell to show the HTML representation or trust the notebook. <br />On GitHub, the HTML representation is unable to render, please try loading this page with nbviewer.org.</b></div><div class=\"sk-container\" hidden><div class=\"sk-item\"><div class=\"sk-estimator sk-toggleable\"><input class=\"sk-toggleable__control sk-hidden--visually\" id=\"sk-estimator-id-5\" type=\"checkbox\" checked><label for=\"sk-estimator-id-5\" class=\"sk-toggleable__label sk-toggleable__label-arrow\">XGBRegressor</label><div class=\"sk-toggleable__content\"><pre>XGBRegressor(base_score=None, booster=None, callbacks=None,\n",
       "             colsample_bylevel=None, colsample_bynode=None,\n",
       "             colsample_bytree=None, early_stopping_rounds=None,\n",
       "             enable_categorical=False, eta=1, eval_metric=None,\n",
       "             feature_types=None, gamma=None, gpu_id=None, grow_policy=None,\n",
       "             importance_type=None, interaction_constraints=None,\n",
       "             learning_rate=None, max_bin=None, max_cat_threshold=None,\n",
       "             max_cat_to_onehot=None, max_delta_step=None, max_depth=None,\n",
       "             max_leaves=None, min_child_weight=None, missing=nan,\n",
       "             monotone_constraints=None, n_estimators=100, n_jobs=None,\n",
       "             num_parallel_tree=None, predictor=None, ...)</pre></div></div></div></div></div>"
      ],
      "text/plain": [
       "XGBRegressor(base_score=None, booster=None, callbacks=None,\n",
       "             colsample_bylevel=None, colsample_bynode=None,\n",
       "             colsample_bytree=None, early_stopping_rounds=None,\n",
       "             enable_categorical=False, eta=1, eval_metric=None,\n",
       "             feature_types=None, gamma=None, gpu_id=None, grow_policy=None,\n",
       "             importance_type=None, interaction_constraints=None,\n",
       "             learning_rate=None, max_bin=None, max_cat_threshold=None,\n",
       "             max_cat_to_onehot=None, max_delta_step=None, max_depth=None,\n",
       "             max_leaves=None, min_child_weight=None, missing=nan,\n",
       "             monotone_constraints=None, n_estimators=100, n_jobs=None,\n",
       "             num_parallel_tree=None, predictor=None, ...)"
      ]
     },
     "execution_count": 43,
     "metadata": {},
     "output_type": "execute_result"
    }
   ],
   "source": [
    "model = xgb.XGBRegressor(eta = 1)\n",
    "model.fit(train_features, train_labels)"
   ]
  },
  {
   "cell_type": "code",
   "execution_count": 44,
   "id": "991e1da6",
   "metadata": {},
   "outputs": [
    {
     "data": {
      "text/plain": [
       "0.5657508759221104"
      ]
     },
     "execution_count": 44,
     "metadata": {},
     "output_type": "execute_result"
    }
   ],
   "source": [
    "\n",
    "predictions = model.predict(test_features)\n",
    "explained_variance_score(test_labels, predictions)"
   ]
  },
  {
   "cell_type": "code",
   "execution_count": null,
   "id": "7c88b831",
   "metadata": {},
   "outputs": [],
   "source": []
  }
 ],
 "metadata": {
  "kernelspec": {
   "display_name": "Python 3 (ipykernel)",
   "language": "python",
   "name": "python3"
  },
  "language_info": {
   "codemirror_mode": {
    "name": "ipython",
    "version": 3
   },
   "file_extension": ".py",
   "mimetype": "text/x-python",
   "name": "python",
   "nbconvert_exporter": "python",
   "pygments_lexer": "ipython3",
   "version": "3.10.6"
  }
 },
 "nbformat": 4,
 "nbformat_minor": 5
}
